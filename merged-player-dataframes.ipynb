{
 "cells": [
  {
   "cell_type": "code",
   "execution_count": 1,
   "id": "9236448e",
   "metadata": {},
   "outputs": [
    {
     "name": "stdout",
     "output_type": "stream",
     "text": [
      "Requirement already satisfied: soccerplots in c:\\users\\user\\anaconda3\\lib\\site-packages (1.0.0)\n",
      "Requirement already satisfied: numpy in c:\\users\\user\\anaconda3\\lib\\site-packages (from soccerplots) (1.21.2)\n",
      "Requirement already satisfied: pillow in c:\\users\\user\\anaconda3\\lib\\site-packages (from soccerplots) (8.4.0)\n",
      "Requirement already satisfied: matplotlib in c:\\users\\user\\anaconda3\\lib\\site-packages (from soccerplots) (3.4.3)\n",
      "Requirement already satisfied: kiwisolver>=1.0.1 in c:\\users\\user\\anaconda3\\lib\\site-packages (from matplotlib->soccerplots) (1.3.1)\n",
      "Requirement already satisfied: pyparsing>=2.2.1 in c:\\users\\user\\anaconda3\\lib\\site-packages (from matplotlib->soccerplots) (3.0.4)\n",
      "Requirement already satisfied: python-dateutil>=2.7 in c:\\users\\user\\anaconda3\\lib\\site-packages (from matplotlib->soccerplots) (2.8.2)\n",
      "Requirement already satisfied: cycler>=0.10 in c:\\users\\user\\anaconda3\\lib\\site-packages (from matplotlib->soccerplots) (0.10.0)\n",
      "Requirement already satisfied: six in c:\\users\\user\\anaconda3\\lib\\site-packages (from cycler>=0.10->matplotlib->soccerplots) (1.16.0)\n",
      "All necessary libraries imported.\n"
     ]
    }
   ],
   "source": [
    "# Math Operations\n",
    "import numpy as np\n",
    "from math import pi\n",
    "\n",
    "# Data Preprocessing\n",
    "import pandas as pd\n",
    "import os\n",
    "import re\n",
    "import random\n",
    "from io import BytesIO\n",
    "from pathlib import Path\n",
    "\n",
    "# Reading directories\n",
    "import glob\n",
    "import os\n",
    "\n",
    "# Data Visualisation\n",
    "import matplotlib as mpl\n",
    "import matplotlib.pyplot as plt\n",
    "import seaborn as sns\n",
    "plt.style.use('seaborn-whitegrid')\n",
    "!pip install soccerplots\n",
    "import soccerplots\n",
    "from soccerplots.radar_chart import Radar   # for custom radar visuals\n",
    "\n",
    "# Machine Learning\n",
    "from sklearn import preprocessing\n",
    "from sklearn.preprocessing import StandardScaler\n",
    "from sklearn.decomposition import PCA\n",
    "from sklearn.cluster import KMeans\n",
    "\n",
    "# Progress Bar\n",
    "from tqdm import tqdm\n",
    "\n",
    "# Display in Jupyter\n",
    "from IPython.display import Image, YouTubeVideo\n",
    "from IPython.core.display import HTML\n",
    "\n",
    "# Print Statement\n",
    "print('All necessary libraries imported.')"
   ]
  },
  {
   "cell_type": "code",
   "execution_count": 2,
   "id": "f69e50b8",
   "metadata": {},
   "outputs": [],
   "source": [
    "leeds_s1 = pd.read_csv(\"datasets\\cleanedbasic\\leeds20-21.csv\")\n",
    "leeds_s2 = pd.read_csv(\"datasets\\cleanedbasic\\leeds21-22.csv\")\n",
    "# hudds\n",
    "hudds_s1 = pd.read_csv(\"datasets\\cleanedbasic\\hudds17-18.csv\")\n",
    "hudds_s2 = pd.read_csv(\"datasets\\cleanedbasic\\hudds18-19.csv\")\n",
    "# brighton\n",
    "bri_s1 = pd.read_csv(\"datasets/cleanedbasic/brighton17-18.csv\")\n",
    "bri_s2 = pd.read_csv(\"datasets/cleanedbasic/brighton18-19.csv\")\n",
    "# newcastle\n",
    "new_s1 = pd.read_csv(\"datasets/cleanedbasic/newcastle17-18.csv\")\n",
    "new_s2 = pd.read_csv(\"datasets/cleanedbasic/newcastle18-19.csv\")\n",
    "# sheff utd\n",
    "sheff_s1 = pd.read_csv(\"datasets/cleanedbasic/sheffutd19-20.csv\")\n",
    "sheff_s2 = pd.read_csv(\"datasets/cleanedbasic/sheffutd20-21.csv\")\n",
    "# aston villa\n",
    "villa_s1 = pd.read_csv(\"datasets/cleanedbasic/villa19-20.csv\")\n",
    "villa_s2 = pd.read_csv(\"datasets/cleanedbasic/villa20-21.csv\")\n",
    "# wolves\n",
    "wolves_s1 = pd.read_csv(\"datasets/cleanedbasic/wolves18-19.csv\")\n",
    "wolves_s2 = pd.read_csv(\"datasets/cleanedbasic/wolves19-20.csv\")"
   ]
  },
  {
   "cell_type": "code",
   "execution_count": 3,
   "id": "b6ea1203",
   "metadata": {},
   "outputs": [],
   "source": [
    "def find_club_files(pathval, team):\n",
    "    path = pathval\n",
    "    extension = 'csv'\n",
    "    os.chdir(path)\n",
    "    result = glob.glob(team + '*.{}'.format(extension))\n",
    "    return result"
   ]
  },
  {
   "cell_type": "code",
   "execution_count": 4,
   "id": "ebad51ff",
   "metadata": {},
   "outputs": [],
   "source": [
    "def selected_season_data(yr, team, values):\n",
    "    values = find_club_files('C:/Users/user/Desktop/xg-data-analysis/datasets/cleanedAdvanced', team)\n",
    "    x = []\n",
    "    for i in range(len(values)):\n",
    "        if yr in values[i]:\n",
    "            x.append(values[i])\n",
    "    return x"
   ]
  },
  {
   "cell_type": "code",
   "execution_count": 5,
   "id": "bad54ec1",
   "metadata": {},
   "outputs": [
    {
     "data": {
      "text/plain": [
       "['leeds-adkeeper2021-cleaned.csv',\n",
       " 'leeds-defensive2021-cleaned.csv',\n",
       " 'leeds-keeper2021-cleaned.csv',\n",
       " 'leeds-miscell2021-cleaned.csv',\n",
       " 'leeds-pass2021-cleaned.csv',\n",
       " 'leeds-playtime2021-cleaned.csv',\n",
       " 'leeds-shoot2021-cleaned.csv',\n",
       " 'leeds-shootcreate2021-cleaned.csv']"
      ]
     },
     "execution_count": 5,
     "metadata": {},
     "output_type": "execute_result"
    }
   ],
   "source": [
    "selected_season_data(\"2021\", \"leeds\", find_club_files('C:/Users/user/Desktop/xg-data-analysis/datasets/cleanedAdvanced', \"leeds\"))"
   ]
  },
  {
   "cell_type": "code",
   "execution_count": 6,
   "id": "c717d50c",
   "metadata": {},
   "outputs": [
    {
     "data": {
      "text/plain": [
       "Index(['Player', 'Nation', 'Pos', 'Age', 'MP', 'Starts', 'Min', '90s', 'Gls',\n",
       "       'Ast', 'G-PK', 'PK', 'PKatt', 'CrdY', 'CrdR', 'Per90Gls', 'Per90Ast',\n",
       "       'Per90G+A', 'Per90G-PK', 'Per90G+A-PK', 'xG', 'npxG', 'xA', 'npxG+xAG',\n",
       "       'Per90xG', 'Per90xA', 'Per90xG+xA', 'Per90npxG', 'Per90npxG+xAG'],\n",
       "      dtype='object')"
      ]
     },
     "execution_count": 6,
     "metadata": {},
     "output_type": "execute_result"
    }
   ],
   "source": [
    "leeds_s1.columns"
   ]
  },
  {
   "cell_type": "code",
   "execution_count": 7,
   "id": "0aebafb1",
   "metadata": {},
   "outputs": [
    {
     "data": {
      "text/plain": [
       "DF      7\n",
       "MF      4\n",
       "MFFW    4\n",
       "DFMF    3\n",
       "GK      2\n",
       "MFDF    2\n",
       "FW      1\n",
       "Name: Pos, dtype: int64"
      ]
     },
     "execution_count": 7,
     "metadata": {},
     "output_type": "execute_result"
    }
   ],
   "source": [
    "leeds_s1['Pos'].value_counts()"
   ]
  },
  {
   "cell_type": "code",
   "execution_count": 8,
   "id": "783bfbf2",
   "metadata": {},
   "outputs": [],
   "source": [
    "def join_all_columns(team, yr, df, pos):\n",
    "    data = find_club_files('C:/Users/user/Desktop/xg-data-analysis/datasets/cleanedAdvanced', team)\n",
    "    files = selected_season_data(yr, team, data)\n",
    "    df1 = df.loc[df['Pos'] != pos]\n",
    "    final = []\n",
    "    for i in range(len(files)):\n",
    "        if \"keeper\" not in files[i]:\n",
    "            f = pd.read_csv(files[i])\n",
    "            f = f.loc[f['Pos'] != pos]\n",
    "            final.append(f)\n",
    "    return final"
   ]
  },
  {
   "cell_type": "code",
   "execution_count": 9,
   "id": "1e2e98cf",
   "metadata": {},
   "outputs": [],
   "source": [
    "vals = join_all_columns(\"Leeds\", \"2021\", leeds_s1, \"GK\")"
   ]
  },
  {
   "cell_type": "code",
   "execution_count": 10,
   "id": "1d7f127f",
   "metadata": {},
   "outputs": [
    {
     "name": "stderr",
     "output_type": "stream",
     "text": [
      "C:\\Users\\user\\AppData\\Local\\Temp/ipykernel_21828/633160844.py:2: FutureWarning: Passing 'suffixes' which cause duplicate columns {'90s_x'} in the result is deprecated and will raise a MergeError in a future version.\n",
      "  leeds_s1_all = reduce(lambda x, y: pd.merge(x, y, on = [\"Player\",\"Nation\", \"Age\", \"Pos\"]), vals)\n"
     ]
    }
   ],
   "source": [
    "from functools import reduce\n",
    "leeds_s1_all = reduce(lambda x, y: pd.merge(x, y, on = [\"Player\",\"Nation\", \"Age\", \"Pos\"]), vals)"
   ]
  },
  {
   "cell_type": "code",
   "execution_count": 11,
   "id": "c3aca38c",
   "metadata": {},
   "outputs": [
    {
     "data": {
      "text/html": [
       "<div>\n",
       "<style scoped>\n",
       "    .dataframe tbody tr th:only-of-type {\n",
       "        vertical-align: middle;\n",
       "    }\n",
       "\n",
       "    .dataframe tbody tr th {\n",
       "        vertical-align: top;\n",
       "    }\n",
       "\n",
       "    .dataframe thead th {\n",
       "        text-align: right;\n",
       "    }\n",
       "</style>\n",
       "<table border=\"1\" class=\"dataframe\">\n",
       "  <thead>\n",
       "    <tr style=\"text-align: right;\">\n",
       "      <th></th>\n",
       "      <th>Player</th>\n",
       "      <th>Nation</th>\n",
       "      <th>Pos</th>\n",
       "      <th>Age</th>\n",
       "      <th>90s_x</th>\n",
       "      <th>Tkl</th>\n",
       "      <th>TklWon_x</th>\n",
       "      <th>TacklesDef3rd</th>\n",
       "      <th>TacklesMid3rd</th>\n",
       "      <th>TacklesAtt3rd</th>\n",
       "      <th>...</th>\n",
       "      <th>SCAFld</th>\n",
       "      <th>SCADef</th>\n",
       "      <th>GCA</th>\n",
       "      <th>GCA90</th>\n",
       "      <th>GCAPassLive</th>\n",
       "      <th>GCAPassDead</th>\n",
       "      <th>GCADrib</th>\n",
       "      <th>GCASh</th>\n",
       "      <th>GCAFld</th>\n",
       "      <th>GCADef</th>\n",
       "    </tr>\n",
       "  </thead>\n",
       "  <tbody>\n",
       "    <tr>\n",
       "      <th>0</th>\n",
       "      <td>Stuart Dallas</td>\n",
       "      <td>nir NIR</td>\n",
       "      <td>MFDF</td>\n",
       "      <td>29.0</td>\n",
       "      <td>37.9</td>\n",
       "      <td>74</td>\n",
       "      <td>45</td>\n",
       "      <td>46</td>\n",
       "      <td>22</td>\n",
       "      <td>6</td>\n",
       "      <td>...</td>\n",
       "      <td>1</td>\n",
       "      <td>2</td>\n",
       "      <td>7</td>\n",
       "      <td>0.18</td>\n",
       "      <td>7</td>\n",
       "      <td>0</td>\n",
       "      <td>0</td>\n",
       "      <td>0</td>\n",
       "      <td>0</td>\n",
       "      <td>0</td>\n",
       "    </tr>\n",
       "    <tr>\n",
       "      <th>1</th>\n",
       "      <td>Luke Ayling</td>\n",
       "      <td>eng ENG</td>\n",
       "      <td>DF</td>\n",
       "      <td>28.0</td>\n",
       "      <td>37.8</td>\n",
       "      <td>108</td>\n",
       "      <td>61</td>\n",
       "      <td>69</td>\n",
       "      <td>30</td>\n",
       "      <td>9</td>\n",
       "      <td>...</td>\n",
       "      <td>3</td>\n",
       "      <td>0</td>\n",
       "      <td>4</td>\n",
       "      <td>0.11</td>\n",
       "      <td>4</td>\n",
       "      <td>0</td>\n",
       "      <td>0</td>\n",
       "      <td>0</td>\n",
       "      <td>0</td>\n",
       "      <td>0</td>\n",
       "    </tr>\n",
       "    <tr>\n",
       "      <th>2</th>\n",
       "      <td>Patrick Bamford</td>\n",
       "      <td>eng ENG</td>\n",
       "      <td>FW</td>\n",
       "      <td>26.0</td>\n",
       "      <td>33.9</td>\n",
       "      <td>21</td>\n",
       "      <td>9</td>\n",
       "      <td>2</td>\n",
       "      <td>11</td>\n",
       "      <td>8</td>\n",
       "      <td>...</td>\n",
       "      <td>4</td>\n",
       "      <td>0</td>\n",
       "      <td>16</td>\n",
       "      <td>0.47</td>\n",
       "      <td>9</td>\n",
       "      <td>0</td>\n",
       "      <td>2</td>\n",
       "      <td>2</td>\n",
       "      <td>3</td>\n",
       "      <td>0</td>\n",
       "    </tr>\n",
       "    <tr>\n",
       "      <th>3</th>\n",
       "      <td>Jack Harrison</td>\n",
       "      <td>eng ENG</td>\n",
       "      <td>MFFW</td>\n",
       "      <td>23.0</td>\n",
       "      <td>31.6</td>\n",
       "      <td>63</td>\n",
       "      <td>38</td>\n",
       "      <td>20</td>\n",
       "      <td>30</td>\n",
       "      <td>13</td>\n",
       "      <td>...</td>\n",
       "      <td>1</td>\n",
       "      <td>0</td>\n",
       "      <td>15</td>\n",
       "      <td>0.47</td>\n",
       "      <td>12</td>\n",
       "      <td>1</td>\n",
       "      <td>2</td>\n",
       "      <td>0</td>\n",
       "      <td>0</td>\n",
       "      <td>0</td>\n",
       "    </tr>\n",
       "    <tr>\n",
       "      <th>4</th>\n",
       "      <td>Ezgjan Alioski</td>\n",
       "      <td>mk MKD</td>\n",
       "      <td>DFMF</td>\n",
       "      <td>28.0</td>\n",
       "      <td>27.3</td>\n",
       "      <td>74</td>\n",
       "      <td>31</td>\n",
       "      <td>38</td>\n",
       "      <td>28</td>\n",
       "      <td>8</td>\n",
       "      <td>...</td>\n",
       "      <td>3</td>\n",
       "      <td>1</td>\n",
       "      <td>5</td>\n",
       "      <td>0.18</td>\n",
       "      <td>3</td>\n",
       "      <td>1</td>\n",
       "      <td>0</td>\n",
       "      <td>1</td>\n",
       "      <td>0</td>\n",
       "      <td>0</td>\n",
       "    </tr>\n",
       "  </tbody>\n",
       "</table>\n",
       "<p>5 rows × 119 columns</p>\n",
       "</div>"
      ],
      "text/plain": [
       "            Player   Nation   Pos   Age  90s_x  Tkl  TklWon_x  TacklesDef3rd  \\\n",
       "0    Stuart Dallas  nir NIR  MFDF  29.0   37.9   74        45             46   \n",
       "1      Luke Ayling  eng ENG    DF  28.0   37.8  108        61             69   \n",
       "2  Patrick Bamford  eng ENG    FW  26.0   33.9   21         9              2   \n",
       "3    Jack Harrison  eng ENG  MFFW  23.0   31.6   63        38             20   \n",
       "4   Ezgjan Alioski   mk MKD  DFMF  28.0   27.3   74        31             38   \n",
       "\n",
       "   TacklesMid3rd  TacklesAtt3rd  ...  SCAFld  SCADef  GCA  GCA90  GCAPassLive  \\\n",
       "0             22              6  ...       1       2    7   0.18            7   \n",
       "1             30              9  ...       3       0    4   0.11            4   \n",
       "2             11              8  ...       4       0   16   0.47            9   \n",
       "3             30             13  ...       1       0   15   0.47           12   \n",
       "4             28              8  ...       3       1    5   0.18            3   \n",
       "\n",
       "   GCAPassDead  GCADrib  GCASh  GCAFld  GCADef  \n",
       "0            0        0      0       0       0  \n",
       "1            0        0      0       0       0  \n",
       "2            0        2      2       3       0  \n",
       "3            1        2      0       0       0  \n",
       "4            1        0      1       0       0  \n",
       "\n",
       "[5 rows x 119 columns]"
      ]
     },
     "execution_count": 11,
     "metadata": {},
     "output_type": "execute_result"
    }
   ],
   "source": [
    "leeds_s1_all.head()"
   ]
  },
  {
   "cell_type": "code",
   "execution_count": 12,
   "id": "68074483",
   "metadata": {},
   "outputs": [
    {
     "data": {
      "text/plain": [
       "Index(['Player', 'Nation', 'Pos', 'Age', '90s_x', 'Tkl', 'TklWon_x',\n",
       "       'TacklesDef3rd', 'TacklesMid3rd', 'TacklesAtt3rd',\n",
       "       ...\n",
       "       'SCAFld', 'SCADef', 'GCA', 'GCA90', 'GCAPassLive', 'GCAPassDead',\n",
       "       'GCADrib', 'GCASh', 'GCAFld', 'GCADef'],\n",
       "      dtype='object', length=119)"
      ]
     },
     "execution_count": 12,
     "metadata": {},
     "output_type": "execute_result"
    }
   ],
   "source": [
    "leeds_s1_all.columns"
   ]
  },
  {
   "cell_type": "code",
   "execution_count": 13,
   "id": "e0e5406a",
   "metadata": {},
   "outputs": [],
   "source": [
    "leeds_s1_all.drop([col for col in leeds_s1_all.columns if '_' in col], axis=1, inplace=True)"
   ]
  },
  {
   "cell_type": "code",
   "execution_count": 14,
   "id": "bf468b09",
   "metadata": {},
   "outputs": [
    {
     "data": {
      "text/plain": [
       "(22, 109)"
      ]
     },
     "execution_count": 14,
     "metadata": {},
     "output_type": "execute_result"
    }
   ],
   "source": [
    "leeds_s1_all.shape"
   ]
  },
  {
   "cell_type": "code",
   "execution_count": 15,
   "id": "8c29b089",
   "metadata": {},
   "outputs": [],
   "source": [
    "duplicate_cols = leeds_s1_all.columns[leeds_s1_all.columns.duplicated()]\n",
    "duplicate_cols\n",
    "leeds_s1_all.drop(columns=duplicate_cols, inplace=True)"
   ]
  },
  {
   "cell_type": "code",
   "execution_count": 16,
   "id": "440cc87e",
   "metadata": {},
   "outputs": [
    {
     "data": {
      "text/plain": [
       "(22, 109)"
      ]
     },
     "execution_count": 16,
     "metadata": {},
     "output_type": "execute_result"
    }
   ],
   "source": [
    "leeds_s1_all.shape"
   ]
  },
  {
   "cell_type": "code",
   "execution_count": 17,
   "id": "2e886bc7",
   "metadata": {},
   "outputs": [],
   "source": [
    "#leeds_s1_all.to_csv('leeds-firstseason-allmerged.csv', index = False)"
   ]
  },
  {
   "cell_type": "code",
   "execution_count": 18,
   "id": "b9550c2e",
   "metadata": {},
   "outputs": [],
   "source": [
    "vals1 = join_all_columns(\"Villa\", \"1920\", villa_s1, \"GK\")"
   ]
  },
  {
   "cell_type": "code",
   "execution_count": 19,
   "id": "5064916d",
   "metadata": {},
   "outputs": [],
   "source": [
    "def join_all_dfs_team(alldfslst):\n",
    "    _all = reduce(lambda x, y: pd.merge(x, y, on = [\"Player\",\"Nation\", \"Age\", \"Pos\"]), alldfslst)\n",
    "    ## duplicate columns will have endings like _x etc - removes these\n",
    "    ## no columns had underscores to start\n",
    "    _all.drop([col for col in _all.columns if '_' in col], axis=1, inplace=True)\n",
    "    return _all"
   ]
  },
  {
   "cell_type": "code",
   "execution_count": 20,
   "id": "e5282ab5",
   "metadata": {},
   "outputs": [
    {
     "name": "stderr",
     "output_type": "stream",
     "text": [
      "C:\\Users\\user\\AppData\\Local\\Temp/ipykernel_21828/903767908.py:2: FutureWarning: Passing 'suffixes' which cause duplicate columns {'90s_x'} in the result is deprecated and will raise a MergeError in a future version.\n",
      "  _all = reduce(lambda x, y: pd.merge(x, y, on = [\"Player\",\"Nation\", \"Age\", \"Pos\"]), alldfslst)\n"
     ]
    }
   ],
   "source": [
    "villa_s1_all = join_all_dfs_team(vals1)\n",
    "#villa_s1_all.to_csv('villa-firstseason-allmerged.csv', index = False)"
   ]
  },
  {
   "cell_type": "code",
   "execution_count": 21,
   "id": "dea0a924",
   "metadata": {},
   "outputs": [
    {
     "name": "stderr",
     "output_type": "stream",
     "text": [
      "C:\\Users\\user\\AppData\\Local\\Temp/ipykernel_21828/903767908.py:2: FutureWarning: Passing 'suffixes' which cause duplicate columns {'90s_x'} in the result is deprecated and will raise a MergeError in a future version.\n",
      "  _all = reduce(lambda x, y: pd.merge(x, y, on = [\"Player\",\"Nation\", \"Age\", \"Pos\"]), alldfslst)\n"
     ]
    }
   ],
   "source": [
    "vals2 = join_all_columns(\"Newcastle\", \"1718\", new_s1, \"GK\")\n",
    "new_s2_all = join_all_dfs_team(vals2)\n",
    "#new_s2_all.to_csv('newcastle-firstseason-allmerged.csv', index = False)"
   ]
  },
  {
   "cell_type": "code",
   "execution_count": 22,
   "id": "ab009b9b",
   "metadata": {},
   "outputs": [
    {
     "name": "stderr",
     "output_type": "stream",
     "text": [
      "C:\\Users\\user\\AppData\\Local\\Temp/ipykernel_21828/903767908.py:2: FutureWarning: Passing 'suffixes' which cause duplicate columns {'90s_x'} in the result is deprecated and will raise a MergeError in a future version.\n",
      "  _all = reduce(lambda x, y: pd.merge(x, y, on = [\"Player\",\"Nation\", \"Age\", \"Pos\"]), alldfslst)\n"
     ]
    }
   ],
   "source": [
    "vals3 = join_all_columns(\"sheffutd\", \"1920\", sheff_s1, \"GK\")\n",
    "sheffutd_s1_all = join_all_dfs_team(vals3)\n",
    "#sheffutd_s1_all.to_csv('sheffutd-firstseason-allmerged.csv', index = False)"
   ]
  },
  {
   "cell_type": "code",
   "execution_count": 23,
   "id": "718f2897",
   "metadata": {},
   "outputs": [
    {
     "name": "stderr",
     "output_type": "stream",
     "text": [
      "C:\\Users\\user\\AppData\\Local\\Temp/ipykernel_21828/903767908.py:2: FutureWarning: Passing 'suffixes' which cause duplicate columns {'90s_x'} in the result is deprecated and will raise a MergeError in a future version.\n",
      "  _all = reduce(lambda x, y: pd.merge(x, y, on = [\"Player\",\"Nation\", \"Age\", \"Pos\"]), alldfslst)\n"
     ]
    }
   ],
   "source": [
    "vals4 = join_all_columns(\"huddersfield\", \"1718\", hudds_s1, \"GK\")\n",
    "hudds_s1_all = join_all_dfs_team(vals4)\n",
    "#hudds_s1_all.to_csv('huddersfield-firstseason-allmerged.csv', index = False)"
   ]
  },
  {
   "cell_type": "code",
   "execution_count": 24,
   "id": "2cfda7eb",
   "metadata": {},
   "outputs": [
    {
     "name": "stderr",
     "output_type": "stream",
     "text": [
      "C:\\Users\\user\\AppData\\Local\\Temp/ipykernel_21828/903767908.py:2: FutureWarning: Passing 'suffixes' which cause duplicate columns {'90s_x'} in the result is deprecated and will raise a MergeError in a future version.\n",
      "  _all = reduce(lambda x, y: pd.merge(x, y, on = [\"Player\",\"Nation\", \"Age\", \"Pos\"]), alldfslst)\n"
     ]
    },
    {
     "data": {
      "text/plain": [
       "(25, 109)"
      ]
     },
     "execution_count": 24,
     "metadata": {},
     "output_type": "execute_result"
    }
   ],
   "source": [
    "vals5 = join_all_columns(\"newcastle\", \"1718\", new_s1, \"GK\")\n",
    "new_s1_all = join_all_dfs_team(vals5)\n",
    "new_s1_all.shape\n",
    "#new_s1_all.to_csv('newcastle-firstseason-allmerged.csv', index = False)"
   ]
  },
  {
   "cell_type": "code",
   "execution_count": 26,
   "id": "8d0bb903",
   "metadata": {},
   "outputs": [
    {
     "name": "stderr",
     "output_type": "stream",
     "text": [
      "C:\\Users\\user\\AppData\\Local\\Temp/ipykernel_21828/903767908.py:2: FutureWarning: Passing 'suffixes' which cause duplicate columns {'90s_x'} in the result is deprecated and will raise a MergeError in a future version.\n",
      "  _all = reduce(lambda x, y: pd.merge(x, y, on = [\"Player\",\"Nation\", \"Age\", \"Pos\"]), alldfslst)\n"
     ]
    }
   ],
   "source": [
    "vals6 = join_all_columns(\"brighton\", \"1718\", bri_s1, \"GK\")\n",
    "bri_s1_all = join_all_dfs_team(vals6)\n",
    "bri_s1_all.shape\n",
    "bri_s1_all.to_csv('brighton-firstseason-allmerged.csv', index = False)"
   ]
  },
  {
   "cell_type": "code",
   "execution_count": 27,
   "id": "ecdf9009",
   "metadata": {},
   "outputs": [
    {
     "name": "stderr",
     "output_type": "stream",
     "text": [
      "C:\\Users\\user\\AppData\\Local\\Temp/ipykernel_21828/903767908.py:2: FutureWarning: Passing 'suffixes' which cause duplicate columns {'90s_x'} in the result is deprecated and will raise a MergeError in a future version.\n",
      "  _all = reduce(lambda x, y: pd.merge(x, y, on = [\"Player\",\"Nation\", \"Age\", \"Pos\"]), alldfslst)\n"
     ]
    }
   ],
   "source": [
    "vals7 = join_all_columns(\"wolves\", \"1819\", wolves_s1, \"GK\")\n",
    "wolves_s1_all = join_all_dfs_team(vals7)\n",
    "#wolves_s1_all.to_csv('wolves-firstseason-allmerged.csv', index = False)"
   ]
  },
  {
   "cell_type": "code",
   "execution_count": null,
   "id": "cf05bbd9",
   "metadata": {},
   "outputs": [],
   "source": []
  }
 ],
 "metadata": {
  "kernelspec": {
   "display_name": "Python 3 (ipykernel)",
   "language": "python",
   "name": "python3"
  },
  "language_info": {
   "codemirror_mode": {
    "name": "ipython",
    "version": 3
   },
   "file_extension": ".py",
   "mimetype": "text/x-python",
   "name": "python",
   "nbconvert_exporter": "python",
   "pygments_lexer": "ipython3",
   "version": "3.8.12"
  }
 },
 "nbformat": 4,
 "nbformat_minor": 5
}
