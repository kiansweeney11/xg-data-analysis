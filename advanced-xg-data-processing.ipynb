{
 "cells": [
  {
   "cell_type": "code",
   "execution_count": 1,
   "id": "afede511",
   "metadata": {},
   "outputs": [],
   "source": [
    "import pandas as pd\n",
    "import numpy as np"
   ]
  },
  {
   "cell_type": "code",
   "execution_count": 2,
   "id": "4629a2f3",
   "metadata": {},
   "outputs": [],
   "source": [
    "# the unique headers on each type of data file\n",
    "keeper_cols = [\"Player\",\"Nation\",\"Pos\",\"Age\",\"MP\",\"Starts\",\"Min\",\"90s\",\"GA\",\"GA90\",\"SoTA\",\"Saves\",\"Save%\",\n",
    "               \"W\",\"D\",\"L\",\"CS\",\"CS%\",\"PKatt\",\"PKA\",\"PKsv\",\"PKm\",\"Save%\",\"Matches\",\"-9999\"]\n",
    "adkeeper_cols = [\"Player\",\"Nation\",\"Pos\",\"Age\",\"90s\",\"GA\",\"PKA\",\"FK\",\"CK\",\"OG\",\"PSxG\",\"PSxG/SoT\",\"PSxG+/-\",\"/90\",\n",
    "                 \"Cmp\",\"Att\",\"Cmp%\",\"Att\",\"Thr\",\"Launch%\",\"AvgLen\",\"Att\",\"Launch%\",\"AvgLen\",\n",
    "                 \"Opp\",\"Stp\",\"Stp%\",\"#OPA\",\"#OPA/90\",\"AvgDist\",\"Matches\",\"-9999\"]\n",
    "shoot_cols = [\"Player\",\"Nation\",\"Pos\",\"Age\",\"90s\",\"Gls\",\"Sh\",\"SoT\",\"SoT%\",\"Sh/90\",\"SoT/90\",\"G/Sh\",\"G/SoT\",\"Dist\",\"FK\",\"PK\",\n",
    "              \"PKatt\",\"xG\",\"npxG\",\"npxG/Sh\",\"G-xG\",\"np:G-xG\",\"Matches\",\"-9999\"]\n",
    "shot_create_cols = [\"Player\",\"Nation\",\"Pos\",\"Age\",\"90s\",\"SCA\",\"SCA90\",\"PassLive\",\"PassDead\",\"Drib\",\"Sh\",\"Fld\",\"Def\",\"GCA\",\n",
    "                    \"GCA90\",\"PassLive\",\"PassDead\",\"Drib\",\"Sh\",\"Fld\",\"Def\",\"Matches\",\"-9999\"]\n",
    "defensive_cols = [\"Player\",\"Nation\",\"Pos\",\"Age\",\"90s\",\"Tkl\",\"TklW\",\"Def 3rd\",\"Mid 3rd\",\"Att 3rd\",\"Tkl\",\"Att\",\"Tkl%\",\n",
    "                  \"Past\",\"Blocks\",\"Sh\",\"Pass\",\"Int\",\"Tkl+Int\",\"Clr\",\"Err\",\"Matches\",\"-9999\"]\n",
    "playtime_cols = [\"Player\",\"Nation\",\"Pos\",\"Age\",\"MP\",\"Min\",\"Mn/MP\",\"Min%\",\"90s\",\n",
    "                 \"Starts\",\"Mn/Start\",\"Compl\",\"Subs\",\"Mn/Sub\",\"unSub\",\"PPM\",\"onG\",\"onGA\",\n",
    "                 \"+/-\",\"+/-90\",\"On-Off\",\"onxG\",\"onxGA\",\"xG+/-\",\"xG+/-90\",\"On-Off\",\"Matches\",\"-9999\"]\n",
    "miscell_cols = [\"Player\",\"Nation\",\"Pos\",\"Age\",\"90s\",\"CrdY\",\"CrdR\",\"2CrdY\",\"Fls\",\"Fld\",\"Off\",\"Crs\",\"Int\",\"TklW\",\"PKwon\",\n",
    "                \"PKcon\",\"OG\",\"Recov\",\"Won\",\"Lost\",\"Won%\",\"Matches\",\"-9999\"]"
   ]
  },
  {
   "cell_type": "code",
   "execution_count": 3,
   "id": "dfdb892d",
   "metadata": {},
   "outputs": [],
   "source": [
    "keeper_files = [\"datasets/advanced/brighton/keeper17-18.csv\", \"datasets/advanced/brighton/keeper18-19.csv\", \"datasets/advanced/leeds/keeper20-21.csv\",\n",
    "               \"datasets/advanced/leeds/keeper21-22.csv\", \"datasets/advanced/newcastle/keeper17-18.csv\", \"datasets/advanced/newcastle/keeper18-19.csv\",\n",
    "               \"datasets/advanced/huddersfield/default-keeper17-18.csv\", \"datasets/advanced/huddersfield/keeper18-19.csv\", \"datasets/advanced/sheffutd/keeper19-20.csv\",\n",
    "               \"datasets/advanced/sheffutd/keeper20-21.csv\",\n",
    "               \"datasets/advanced/villa/keeper19-20.csv\", \"datasets/advanced/villa/keeper20-21.csv\"]\n",
    "dfnames = ['df3', 'df4', 'df5', 'df6', 'df7', 'df8', 'df9', 'df10', 'df11', 'df12', 'df13', 'df14']\n",
    "dataframes = []\n",
    "#### get wolves data later on\n",
    "# \"df15\", \"df16\"\n",
    "# \"datasets/advanced/wolves/keeper18-19.csv\", \"datasets/advanced/wolves/keeper19-20.csv\""
   ]
  },
  {
   "cell_type": "code",
   "execution_count": 4,
   "id": "32a132a2",
   "metadata": {},
   "outputs": [],
   "source": [
    "## create dataframes with split out columns\n",
    "# original format has all columns in just one column\n",
    "# this function splits on comma and creates all necessary columns for each file\n",
    "def create_df(files, new_df, new_cols):\n",
    "    for i in range(len(files)):\n",
    "        csvfile = pd.read_csv(files[i], encoding = 'iso-8859-1')\n",
    "        #print(csvfile.columns)\n",
    "        #print(i)\n",
    "        csvfile = csvfile.rename(columns = {'ï»¿\"Player': 'Name'})\n",
    "        new_df = pd.DataFrame(csvfile.Name.str.split(',').tolist(),\n",
    "                                     columns = new_cols)\n",
    "        new_df.drop(columns = ['Matches', '-9999'], inplace = True)"
   ]
  },
  {
   "cell_type": "code",
   "execution_count": 5,
   "id": "6f398529",
   "metadata": {},
   "outputs": [],
   "source": [
    "## create dataframes with new function\n",
    "create_df(keeper_files, dfnames, keeper_cols)"
   ]
  },
  {
   "cell_type": "code",
   "execution_count": 6,
   "id": "b0b4653b",
   "metadata": {},
   "outputs": [
    {
     "data": {
      "text/plain": [
       "'df3'"
      ]
     },
     "execution_count": 6,
     "metadata": {},
     "output_type": "execute_result"
    }
   ],
   "source": [
    "dfnames[0]"
   ]
  },
  {
   "cell_type": "code",
   "execution_count": 7,
   "id": "bcddf02e",
   "metadata": {},
   "outputs": [],
   "source": [
    "df3 = dfnames[0]\n",
    "df4 = dfnames[1]\n",
    "df5 = dfnames[2]\n",
    "df6 = dfnames[3]\n",
    "df7 = dfnames[4]\n",
    "df8 = dfnames[5]\n",
    "df9 = dfnames[6]\n",
    "df10 = dfnames[7]\n",
    "df11 = dfnames[8]\n",
    "df12 = dfnames[9]\n",
    "df13 = dfnames[10]\n",
    "df14 = dfnames[11]"
   ]
  },
  {
   "cell_type": "code",
   "execution_count": 8,
   "id": "0b86e083",
   "metadata": {},
   "outputs": [],
   "source": [
    "adkeeper_files = [\"datasets/advanced/brighton/advancedkeeper17-18.csv\", \"datasets/advanced/brighton/advancedkeeper18-19.csv\", \"datasets/advanced/leeds/keeper-ad-2021.csv\",\n",
    "               \"datasets/advanced/leeds/keeper-ad-2122.csv\", \"datasets/advanced/newcastle/advancedkeep17-18.csv\", \"datasets/advanced/newcastle/advancedkeep18-19.csv\",\n",
    "               \"datasets/advanced/huddersfield/advancedkeep17-18.csv\", \"datasets/advanced/huddersfield/advancedkeep18-19.csv\", \n",
    "                  \"datasets/advanced/sheffutd/advancedkeeper19-20.csv\", \"datasets/advanced/sheffutd/advancedkeeper20-21.csv\",\n",
    "               \"datasets/advanced/villa/advancedkeeper19-20.csv\", \"datasets/advanced/villa/advancedkeeper20-21.csv\"]\n",
    "dfnames_adkeeper = ['df3', 'df4', 'df5', 'df6', 'df7', 'df8', 'df9', 'df10', 'df11', 'df12', 'df13', 'df14']"
   ]
  },
  {
   "cell_type": "code",
   "execution_count": 9,
   "id": "8b02da21",
   "metadata": {},
   "outputs": [],
   "source": [
    "create_df(adkeeper_files, dfnames_adkeeper, adkeeper_cols)"
   ]
  },
  {
   "cell_type": "code",
   "execution_count": 10,
   "id": "da8d9f5a",
   "metadata": {},
   "outputs": [],
   "source": [
    "df17 = dfnames_adkeeper[0]\n",
    "df18 = dfnames_adkeeper[1]\n",
    "df19 = dfnames_adkeeper[2]\n",
    "df20 = dfnames_adkeeper[3]\n",
    "df21 = dfnames_adkeeper[4]\n",
    "df22 = dfnames_adkeeper[5]\n",
    "df23 = dfnames_adkeeper[6]\n",
    "df24 = dfnames_adkeeper[7]\n",
    "df25 = dfnames_adkeeper[8]\n",
    "df26 = dfnames_adkeeper[9]\n",
    "df27 = dfnames_adkeeper[10]\n",
    "df28 = dfnames_adkeeper[11]"
   ]
  },
  {
   "cell_type": "code",
   "execution_count": 11,
   "id": "43a5e506",
   "metadata": {},
   "outputs": [],
   "source": [
    "## shooting\n",
    "shooting_files = [\"datasets/advanced/brighton/shooting17-18.csv\", \"datasets/advanced/brighton/shooting18-19.csv\", \"datasets/advanced/leeds/shooting20-21.csv\",\n",
    "               \"datasets/advanced/leeds/shooting21-22.csv\", \"datasets/advanced/newcastle/shooting17-18.csv\", \"datasets/advanced/newcastle/shooting18-19.csv\",\n",
    "               \"datasets/advanced/huddersfield/shooting17-18.csv\", \"datasets/advanced/huddersfield/shooting18-19.csv\", \n",
    "                  \"datasets/advanced/sheffutd/shooting19-20.csv\", \"datasets/advanced/sheffutd/shooting20-21.csv\",\n",
    "               \"datasets/advanced/villa/shooting19-20.csv\", \"datasets/advanced/villa/shooting20-21.csv\"]\n",
    "## dummy values in list to be replaced by dataframes\n",
    "dfnames_shooting = ['df3', 'df4', 'df5', 'df6', 'df7', 'df8', 'df9', 'df10', 'df11', 'df12', 'df13', 'df14']"
   ]
  },
  {
   "cell_type": "code",
   "execution_count": 12,
   "id": "1484808d",
   "metadata": {},
   "outputs": [],
   "source": [
    "create_df(shooting_files, dfnames_shooting, shoot_cols)"
   ]
  },
  {
   "cell_type": "code",
   "execution_count": 13,
   "id": "20d585ac",
   "metadata": {},
   "outputs": [],
   "source": [
    "df29 = dfnames_shooting[0]\n",
    "df30 = dfnames_shooting[1]\n",
    "df31 = dfnames_shooting[2]\n",
    "df32 = dfnames_shooting[3]\n",
    "df33 = dfnames_shooting[4]\n",
    "df34 = dfnames_shooting[5]\n",
    "df35 = dfnames_shooting[6]\n",
    "df36 = dfnames_shooting[7]\n",
    "df37 = dfnames_shooting[8]\n",
    "df38 = dfnames_shooting[9]\n",
    "df39 = dfnames_shooting[10]\n",
    "df40 = dfnames_shooting[11]"
   ]
  },
  {
   "cell_type": "code",
   "execution_count": 14,
   "id": "76cbdcb5",
   "metadata": {},
   "outputs": [],
   "source": [
    "## shot creation\n",
    "shotcreate_files = [\"datasets/advanced/brighton/shotcreate17-18.csv\", \"datasets/advanced/brighton/shotcreate18-19.csv\", \"datasets/advanced/leeds/shootcreate20-21.csv\",\n",
    "               \"datasets/advanced/leeds/shootcreate21-22.csv\", \"datasets/advanced/newcastle/shotcreate17-18.csv\", \"datasets/advanced/newcastle/shotcreate18-19.csv\",\n",
    "               \"datasets/advanced/huddersfield/shotcreate17-18.csv\", \"datasets/advanced/huddersfield/shotcreate18-19.csv\", \n",
    "                  \"datasets/advanced/sheffutd/shotcreate19-20.csv\", \"datasets/advanced/sheffutd/shotcreate20-21.csv\",\n",
    "               \"datasets/advanced/villa/shotcreate19-20.csv\", \"datasets/advanced/villa/shotcreate20-21.csv\"]\n",
    "## dummy values in list to be replaced by dataframes\n",
    "dfnames_shotcreate = ['df3', 'df4', 'df5', 'df6', 'df7', 'df8', 'df9', 'df10', 'df11', 'df12', 'df13', 'df14']"
   ]
  },
  {
   "cell_type": "code",
   "execution_count": 15,
   "id": "50eca368",
   "metadata": {},
   "outputs": [],
   "source": [
    "create_df(shotcreate_files, dfnames_shotcreate, shot_create_cols)"
   ]
  },
  {
   "cell_type": "code",
   "execution_count": 16,
   "id": "d6b38cdc",
   "metadata": {},
   "outputs": [],
   "source": [
    "df41 = dfnames_shotcreate[0]\n",
    "df42 = dfnames_shotcreate[1]\n",
    "df43 = dfnames_shotcreate[2]\n",
    "df44 = dfnames_shotcreate[3]\n",
    "df45 = dfnames_shotcreate[4]\n",
    "df46 = dfnames_shotcreate[5]\n",
    "df47 = dfnames_shotcreate[6]\n",
    "df48 = dfnames_shotcreate[7]\n",
    "df49 = dfnames_shotcreate[8]\n",
    "df50 = dfnames_shotcreate[9]\n",
    "df51 = dfnames_shotcreate[10]\n",
    "df52 = dfnames_shotcreate[11]"
   ]
  },
  {
   "cell_type": "code",
   "execution_count": 17,
   "id": "dd12f26a",
   "metadata": {},
   "outputs": [],
   "source": [
    "## defensive\n",
    "defensive_files = [\"datasets/advanced/brighton/defensiveact17-18.csv\", \"datasets/advanced/brighton/defensiveact18-19.csv\", \"datasets/advanced/leeds/defensiveact20-21.csv\",\n",
    "               \"datasets/advanced/leeds/defensiveact21-22.csv\", \"datasets/advanced/newcastle/defensiveact17-18.csv\", \"datasets/advanced/newcastle/defensiveact18-19.csv\",\n",
    "               \"datasets/advanced/huddersfield/defensiveact17-18.csv\", \"datasets/advanced/huddersfield/defensiveact18-19.csv\", \n",
    "                  \"datasets/advanced/sheffutd/defensiveact19-20.csv\", \"datasets/advanced/sheffutd/defensiveact20-21.csv\",\n",
    "               \"datasets/advanced/villa/defensiveact19-20.csv\", \"datasets/advanced/villa/defensiveact20-21.csv\"]\n",
    "## dummy values in list to be replaced by dataframes\n",
    "dfnames_defensive = ['df3', 'df4', 'df5', 'df6', 'df7', 'df8', 'df9', 'df10', 'df11', 'df12', 'df13', 'df14']"
   ]
  },
  {
   "cell_type": "code",
   "execution_count": 18,
   "id": "07599c52",
   "metadata": {},
   "outputs": [],
   "source": [
    "create_df(defensive_files, dfnames_defensive, defensive_cols)"
   ]
  },
  {
   "cell_type": "code",
   "execution_count": 19,
   "id": "7a4eda1c",
   "metadata": {},
   "outputs": [],
   "source": [
    "df53 = dfnames_defensive[0]\n",
    "df54 = dfnames_defensive[1]\n",
    "df55 = dfnames_defensive[2]\n",
    "df56 = dfnames_defensive[3]\n",
    "df57 = dfnames_defensive[4]\n",
    "df58 = dfnames_defensive[5]\n",
    "df59 = dfnames_defensive[6]\n",
    "df60 = dfnames_defensive[7]\n",
    "df61 = dfnames_defensive[8]\n",
    "df62 = dfnames_defensive[9]\n",
    "df63 = dfnames_defensive[10]\n",
    "df64 = dfnames_defensive[11]"
   ]
  },
  {
   "cell_type": "code",
   "execution_count": 20,
   "id": "4e50b197",
   "metadata": {},
   "outputs": [],
   "source": [
    "## playtime\n",
    "playtime_files = [\"datasets/advanced/brighton/playtime17-18.csv\", \"datasets/advanced/brighton/playtime18-19.csv\", \"datasets/advanced/leeds/playtime20-21.csv\",\n",
    "               \"datasets/advanced/leeds/playtime21-22.csv\", \"datasets/advanced/newcastle/playtime17-18.csv\", \"datasets/advanced/newcastle/playtime18-19.csv\",\n",
    "               \"datasets/advanced/huddersfield/playtime17-18.csv\", \"datasets/advanced/huddersfield/playtime18-19.csv\", \n",
    "                  \"datasets/advanced/sheffutd/playtime19-20.csv\", \"datasets/advanced/sheffutd/playtime20-21.csv\",\n",
    "               \"datasets/advanced/villa/playtime19-20.csv\", \"datasets/advanced/villa/playtime20-21.csv\"]\n",
    "## dummy values in list to be replaced by dataframes\n",
    "dfnames_playtime = ['df3', 'df4', 'df5', 'df6', 'df7', 'df8', 'df9', 'df10', 'df11', 'df12', 'df13', 'df14']"
   ]
  },
  {
   "cell_type": "code",
   "execution_count": 21,
   "id": "00bc1fe5",
   "metadata": {},
   "outputs": [],
   "source": [
    "create_df(playtime_files, dfnames_playtime, playtime_cols)"
   ]
  },
  {
   "cell_type": "code",
   "execution_count": 22,
   "id": "a93e2dfa",
   "metadata": {},
   "outputs": [],
   "source": [
    "df65 = dfnames_playtime[0]\n",
    "df66 = dfnames_playtime[1]\n",
    "df67 = dfnames_playtime[2]\n",
    "df68 = dfnames_playtime[3]\n",
    "df69 = dfnames_playtime[4]\n",
    "df70 = dfnames_playtime[5]\n",
    "df71 = dfnames_playtime[6]\n",
    "df72 = dfnames_playtime[7]\n",
    "df73 = dfnames_playtime[8]\n",
    "df74 = dfnames_playtime[9]\n",
    "df75 = dfnames_playtime[10]\n",
    "df76 = dfnames_playtime[11]"
   ]
  },
  {
   "cell_type": "code",
   "execution_count": 23,
   "id": "7276d8d9",
   "metadata": {},
   "outputs": [],
   "source": [
    "## miscell\n",
    "miscell_files = [\"datasets/advanced/brighton/miscell17-18.csv\", \"datasets/advanced/brighton/miscell18-19.csv\", \"datasets/advanced/leeds/miscell20-21.csv\",\n",
    "               \"datasets/advanced/leeds/miscell21-22.csv\", \"datasets/advanced/newcastle/miscell17-18.csv\", \"datasets/advanced/newcastle/miscell18-19.csv\",\n",
    "               \"datasets/advanced/huddersfield/miscell17-18.csv\", \"datasets/advanced/huddersfield/miscell18-19.csv\", \n",
    "                  \"datasets/advanced/sheffutd/miscell19-20.csv\", \"datasets/advanced/sheffutd/miscell20-21.csv\",\n",
    "               \"datasets/advanced/villa/miscell19-20.csv\", \"datasets/advanced/villa/miscell20-21.csv\"]\n",
    "## dummy values in list to be replaced by dataframes\n",
    "dfnames_miscell = ['df3', 'df4', 'df5', 'df6', 'df7', 'df8', 'df9', 'df10', 'df11', 'df12', 'df13', 'df14']"
   ]
  },
  {
   "cell_type": "code",
   "execution_count": 24,
   "id": "483eb3ac",
   "metadata": {},
   "outputs": [],
   "source": [
    "create_df(miscell_files, dfnames_miscell, miscell_cols)"
   ]
  },
  {
   "cell_type": "code",
   "execution_count": 25,
   "id": "730c1aca",
   "metadata": {},
   "outputs": [],
   "source": [
    "df77 = dfnames_miscell[0]\n",
    "df78 = dfnames_miscell[1]\n",
    "df79 = dfnames_miscell[2]\n",
    "df80 = dfnames_miscell[3]\n",
    "df81 = dfnames_miscell[4]\n",
    "df82 = dfnames_miscell[5]\n",
    "df83 = dfnames_miscell[6]\n",
    "df84 = dfnames_miscell[7]\n",
    "df85 = dfnames_miscell[8]\n",
    "df86 = dfnames_miscell[9]\n",
    "df87 = dfnames_miscell[10]\n",
    "df88 = dfnames_miscell[11]"
   ]
  },
  {
   "cell_type": "code",
   "execution_count": null,
   "id": "d8f89e02",
   "metadata": {},
   "outputs": [],
   "source": []
  }
 ],
 "metadata": {
  "kernelspec": {
   "display_name": "Python 3 (ipykernel)",
   "language": "python",
   "name": "python3"
  },
  "language_info": {
   "codemirror_mode": {
    "name": "ipython",
    "version": 3
   },
   "file_extension": ".py",
   "mimetype": "text/x-python",
   "name": "python",
   "nbconvert_exporter": "python",
   "pygments_lexer": "ipython3",
   "version": "3.8.12"
  }
 },
 "nbformat": 4,
 "nbformat_minor": 5
}
