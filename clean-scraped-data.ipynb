{
 "cells": [
  {
   "cell_type": "code",
   "execution_count": 1,
   "id": "0b13437e",
   "metadata": {},
   "outputs": [
    {
     "name": "stdout",
     "output_type": "stream",
     "text": [
      "Packages for Mathematical Computation and visualization imported!\n"
     ]
    }
   ],
   "source": [
    "import pandas as pd\n",
    "import numpy as np\n",
    "import os\n",
    "import glob\n",
    "\n",
    "from IPython.display import display\n",
    "\n",
    "%matplotlib inline\n",
    "import matplotlib.pyplot as plt  # Matlab-style plotting\n",
    "from IPython.display import display\n",
    "import seaborn as sns\n",
    "color = sns.color_palette()\n",
    "sns.set_style('darkgrid')\n",
    "print('Packages for Mathematical Computation and visualization imported!')"
   ]
  },
  {
   "cell_type": "code",
   "execution_count": 2,
   "id": "1ee229a9",
   "metadata": {},
   "outputs": [
    {
     "name": "stdout",
     "output_type": "stream",
     "text": [
      "['clubs-spent-1718.csv', 'clubs-spent-1819.csv', 'clubs-spent-1920.csv', 'clubs-spent-2021.csv', 'clubs-spent-2122.csv', 'clubs-spent-2223.csv', 'clubs-wage-1718.csv', 'clubs-wage-1819.csv', 'clubs-wage-1920.csv', 'clubs-wage-2021.csv', 'clubs-wage-2122.csv', 'clubs-wage-2223.csv']\n"
     ]
    }
   ],
   "source": [
    "# get data\n",
    "path = 'C:/Users/user/Desktop/xg-data-analysis/datasets/scrapeddata'\n",
    "extension = 'csv'\n",
    "os.chdir(path)\n",
    "result = glob.glob('*.{}'.format(extension))\n",
    "print(result)"
   ]
  },
  {
   "cell_type": "code",
   "execution_count": 3,
   "id": "b96119a0",
   "metadata": {},
   "outputs": [
    {
     "data": {
      "text/plain": [
       "['clubs-spent-1718.csv',\n",
       " 'clubs-spent-1819.csv',\n",
       " 'clubs-spent-1920.csv',\n",
       " 'clubs-spent-2021.csv',\n",
       " 'clubs-spent-2122.csv',\n",
       " 'clubs-spent-2223.csv']"
      ]
     },
     "execution_count": 3,
     "metadata": {},
     "output_type": "execute_result"
    }
   ],
   "source": [
    "spent_matching = [s for s in result if \"spent\" in s]\n",
    "spent_wage = [s for s in result if \"wage\" in s]\n",
    "spent_matching"
   ]
  },
  {
   "cell_type": "code",
   "execution_count": 4,
   "id": "902a7cba",
   "metadata": {},
   "outputs": [
    {
     "data": {
      "text/plain": [
       "'clubs-spent-1718.csv'"
      ]
     },
     "execution_count": 4,
     "metadata": {},
     "output_type": "execute_result"
    }
   ],
   "source": [
    "spent_matching[0]"
   ]
  },
  {
   "cell_type": "code",
   "execution_count": 5,
   "id": "516795db",
   "metadata": {},
   "outputs": [],
   "source": [
    "def open_csv(list_):\n",
    "    lst = []\n",
    "    for i in range(len(list_)):\n",
    "        df = pd.read_csv(list_[i])\n",
    "        lst.append(df)\n",
    "    return lst"
   ]
  },
  {
   "cell_type": "code",
   "execution_count": 6,
   "id": "a5b193d0",
   "metadata": {},
   "outputs": [],
   "source": [
    "spent = open_csv(spent_matching)\n",
    "wage = open_csv(spent_wage)"
   ]
  },
  {
   "cell_type": "code",
   "execution_count": 7,
   "id": "bef47328",
   "metadata": {},
   "outputs": [
    {
     "data": {
      "text/plain": [
       "Club           object\n",
       "Expenditure    object\n",
       "Net            object\n",
       "dtype: object"
      ]
     },
     "execution_count": 7,
     "metadata": {},
     "output_type": "execute_result"
    }
   ],
   "source": [
    "spent[0].dtypes"
   ]
  },
  {
   "cell_type": "code",
   "execution_count": 11,
   "id": "c7d544bc",
   "metadata": {},
   "outputs": [],
   "source": [
    "### deal with k values\n",
    "def deal_with_thousands(lst_b, columns):\n",
    "    for i in range(len(lst_b)):\n",
    "        for j in range(len(lst_b[i])):\n",
    "            if \"k\" in lst_b[i][columns][j]:\n",
    "                lst_b[i][columns][j] = lst_b[i][columns][j].replace('€', '').replace('k', '')\n",
    "                lst_b[i][columns][j] = float(lst_b[i][columns][j])\n",
    "                lst_b[i][columns][j] = lst_b[i][columns][j] / 1000\n",
    "                lst_b[i][columns][j] = str(lst_b[i][columns][j])\n",
    "            else:\n",
    "                continue\n",
    "    return lst_b"
   ]
  },
  {
   "cell_type": "markdown",
   "id": "c2a1941a",
   "metadata": {},
   "source": [
    "### Clean Expense Columns"
   ]
  },
  {
   "cell_type": "code",
   "execution_count": 12,
   "id": "e7ac9ba7",
   "metadata": {},
   "outputs": [],
   "source": [
    "### deal with k values\n",
    "for i in range(len(spent)):\n",
    "    for j in range(len(spent[i])):\n",
    "        if \"k\" in spent[i]['Net'][j]:\n",
    "            spent[i]['Net'][j] = spent[i]['Net'][j].replace('€', '').replace('k', '')\n",
    "            spent[i]['Net'][j] = float(spent[i]['Net'][j])\n",
    "            spent[i]['Net'][j] = spent[i]['Net'][j] / 1000\n",
    "            spent[i]['Net'][j] = str(spent[i]['Net'][j])\n",
    "        else:\n",
    "            continue                                  "
   ]
  },
  {
   "cell_type": "code",
   "execution_count": 13,
   "id": "d60ad40e",
   "metadata": {},
   "outputs": [],
   "source": [
    "for i in range(len(spent)):\n",
    "    for j in range(len(spent[i])):\n",
    "        if \"k\" in spent[i]['Expenditure'][j]:\n",
    "            spent[i]['Expenditure'][j] = spent[i]['Expenditure'][j].replace('€', '').replace('k', '')\n",
    "            spent[i]['Expenditure'][j] = float(spent[i]['Expenditure'][j])\n",
    "            spent[i]['Expenditure'][j] = spent[i]['Expenditure'][j] / 1000\n",
    "            spent[i]['Expenditure'][j] = str(spent[i]['Expenditure'][j])\n",
    "        else:\n",
    "            continue"
   ]
  },
  {
   "cell_type": "code",
   "execution_count": 14,
   "id": "fa4844d3",
   "metadata": {},
   "outputs": [],
   "source": [
    "for i in range(len(spent)):\n",
    "    spent[i]['Expenditure'] = spent[i]['Expenditure'].str.replace('€', '').str.replace('m', '').astype(float)\n",
    "    spent[i]['Club'] = spent[i]['Club'].str.replace(' FC', '').str.replace(' AFC', '').astype(str)\n",
    "    spent[i]['Net'] = spent[i]['Net'].str.replace('€', '').str.replace('m', '').str.replace('k', '').astype(float)"
   ]
  },
  {
   "cell_type": "code",
   "execution_count": 92,
   "id": "01e77647",
   "metadata": {},
   "outputs": [
    {
     "data": {
      "text/html": [
       "<div>\n",
       "<style scoped>\n",
       "    .dataframe tbody tr th:only-of-type {\n",
       "        vertical-align: middle;\n",
       "    }\n",
       "\n",
       "    .dataframe tbody tr th {\n",
       "        vertical-align: top;\n",
       "    }\n",
       "\n",
       "    .dataframe thead th {\n",
       "        text-align: right;\n",
       "    }\n",
       "</style>\n",
       "<table border=\"1\" class=\"dataframe\">\n",
       "  <thead>\n",
       "    <tr style=\"text-align: right;\">\n",
       "      <th></th>\n",
       "      <th>Club</th>\n",
       "      <th>Expenditure</th>\n",
       "      <th>Net</th>\n",
       "    </tr>\n",
       "  </thead>\n",
       "  <tbody>\n",
       "    <tr>\n",
       "      <th>0</th>\n",
       "      <td>Chelsea</td>\n",
       "      <td>469.3</td>\n",
       "      <td>-191.45</td>\n",
       "    </tr>\n",
       "  </tbody>\n",
       "</table>\n",
       "</div>"
      ],
      "text/plain": [
       "      Club  Expenditure     Net\n",
       "0  Chelsea        469.3 -191.45"
      ]
     },
     "execution_count": 92,
     "metadata": {},
     "output_type": "execute_result"
    }
   ],
   "source": [
    "spent[0].head(1)"
   ]
  },
  {
   "cell_type": "markdown",
   "id": "cdca6544",
   "metadata": {},
   "source": [
    "### Clean Wage Bill Columns"
   ]
  },
  {
   "cell_type": "code",
   "execution_count": 20,
   "id": "c9b493b2",
   "metadata": {},
   "outputs": [
    {
     "data": {
      "text/html": [
       "<div>\n",
       "<style scoped>\n",
       "    .dataframe tbody tr th:only-of-type {\n",
       "        vertical-align: middle;\n",
       "    }\n",
       "\n",
       "    .dataframe tbody tr th {\n",
       "        vertical-align: top;\n",
       "    }\n",
       "\n",
       "    .dataframe thead th {\n",
       "        text-align: right;\n",
       "    }\n",
       "</style>\n",
       "<table border=\"1\" class=\"dataframe\">\n",
       "  <thead>\n",
       "    <tr style=\"text-align: right;\">\n",
       "      <th></th>\n",
       "      <th>Club</th>\n",
       "      <th>WageBill</th>\n",
       "    </tr>\n",
       "  </thead>\n",
       "  <tbody>\n",
       "    <tr>\n",
       "      <th>0</th>\n",
       "      <td>Wigan Athletic</td>\n",
       "      <td>416000</td>\n",
       "    </tr>\n",
       "    <tr>\n",
       "      <th>1</th>\n",
       "      <td>Burnley</td>\n",
       "      <td>36556000</td>\n",
       "    </tr>\n",
       "    <tr>\n",
       "      <th>2</th>\n",
       "      <td>Chelsea</td>\n",
       "      <td>118026000</td>\n",
       "    </tr>\n",
       "    <tr>\n",
       "      <th>3</th>\n",
       "      <td>Arsenal</td>\n",
       "      <td>122983273</td>\n",
       "    </tr>\n",
       "    <tr>\n",
       "      <th>4</th>\n",
       "      <td>AFC Bournemouth</td>\n",
       "      <td>43743000</td>\n",
       "    </tr>\n",
       "  </tbody>\n",
       "</table>\n",
       "</div>"
      ],
      "text/plain": [
       "              Club   WageBill\n",
       "0   Wigan Athletic     416000\n",
       "1          Burnley   36556000\n",
       "2          Chelsea  118026000\n",
       "3          Arsenal  122983273\n",
       "4  AFC Bournemouth   43743000"
      ]
     },
     "execution_count": 20,
     "metadata": {},
     "output_type": "execute_result"
    }
   ],
   "source": [
    "wage[0].head()"
   ]
  },
  {
   "cell_type": "code",
   "execution_count": 17,
   "id": "5ed7e5eb",
   "metadata": {},
   "outputs": [
    {
     "name": "stderr",
     "output_type": "stream",
     "text": [
      "C:\\Users\\user\\AppData\\Local\\Temp/ipykernel_1180/2112295659.py:2: FutureWarning: The default value of regex will change from True to False in a future version.\n",
      "  wage[i]['Club'] = wage[i]['Club'].str.replace(' F.C.', '').str.replace(' A.F.C.', '').astype(str)\n"
     ]
    }
   ],
   "source": [
    "for i in range(len(wage)):\n",
    "    wage[i]['Club'] = wage[i]['Club'].str.replace(' F.C.', '').str.replace(' A.F.C.', '').astype(str)\n",
    "    wage[i]['WageBill'] = wage[i]['WageBill'].str.replace('£', '').str.replace(',', '').astype(int)"
   ]
  },
  {
   "cell_type": "code",
   "execution_count": 19,
   "id": "1ef537e4",
   "metadata": {},
   "outputs": [
    {
     "data": {
      "text/html": [
       "<div>\n",
       "<style scoped>\n",
       "    .dataframe tbody tr th:only-of-type {\n",
       "        vertical-align: middle;\n",
       "    }\n",
       "\n",
       "    .dataframe tbody tr th {\n",
       "        vertical-align: top;\n",
       "    }\n",
       "\n",
       "    .dataframe thead th {\n",
       "        text-align: right;\n",
       "    }\n",
       "</style>\n",
       "<table border=\"1\" class=\"dataframe\">\n",
       "  <thead>\n",
       "    <tr style=\"text-align: right;\">\n",
       "      <th></th>\n",
       "      <th>Club</th>\n",
       "      <th>WageBill</th>\n",
       "    </tr>\n",
       "  </thead>\n",
       "  <tbody>\n",
       "    <tr>\n",
       "      <th>0</th>\n",
       "      <td>Wigan Athletic</td>\n",
       "      <td>416000</td>\n",
       "    </tr>\n",
       "    <tr>\n",
       "      <th>1</th>\n",
       "      <td>Burnley</td>\n",
       "      <td>36556000</td>\n",
       "    </tr>\n",
       "    <tr>\n",
       "      <th>2</th>\n",
       "      <td>Chelsea</td>\n",
       "      <td>118026000</td>\n",
       "    </tr>\n",
       "    <tr>\n",
       "      <th>3</th>\n",
       "      <td>Arsenal</td>\n",
       "      <td>122983273</td>\n",
       "    </tr>\n",
       "    <tr>\n",
       "      <th>4</th>\n",
       "      <td>AFC Bournemouth</td>\n",
       "      <td>43743000</td>\n",
       "    </tr>\n",
       "  </tbody>\n",
       "</table>\n",
       "</div>"
      ],
      "text/plain": [
       "              Club   WageBill\n",
       "0   Wigan Athletic     416000\n",
       "1          Burnley   36556000\n",
       "2          Chelsea  118026000\n",
       "3          Arsenal  122983273\n",
       "4  AFC Bournemouth   43743000"
      ]
     },
     "execution_count": 19,
     "metadata": {},
     "output_type": "execute_result"
    }
   ],
   "source": [
    "wage[0].head()"
   ]
  },
  {
   "cell_type": "markdown",
   "id": "3b4c8cd8",
   "metadata": {},
   "source": [
    "### Now Take Data we need\n",
    "\n",
    "We need the following data:\n",
    "- Huddersfield, Newcastle and Brighton data from 2017/18 and 2018/19\n",
    "- Aston Villa and Sheffield United Data for 2019/20 and 2020/21\n",
    "- Wolves Data from 2018/19 and 2019/20\n",
    "- Leeds Data from 2020/21 and 2021/22"
   ]
  },
  {
   "cell_type": "code",
   "execution_count": 51,
   "id": "ced8af11",
   "metadata": {},
   "outputs": [],
   "source": [
    "teams_17 = ['Huddersfield Town', 'Newcastle United', 'Brighton & Hove Albion']\n",
    "s1_teams_wage = wage[0].loc[wage[0]['Club'].isin(teams_17)]\n",
    "s1_teams_spent = spent[0].loc[spent[0]['Club'].isin(teams_17)]\n",
    "\n",
    "s1_teams_wages2 = wage[1].loc[wage[1]['Club'].isin(teams_17)]\n",
    "s1_teams_spents2 = spent[1].loc[spent[1]['Club'].isin(teams_17)]"
   ]
  },
  {
   "cell_type": "code",
   "execution_count": 52,
   "id": "87a34349",
   "metadata": {},
   "outputs": [],
   "source": [
    "teams_18 = ['Wolverhampton Wanderers']\n",
    "s2_teams_wage = wage[1].loc[wage[1]['Club'].isin(teams_18)]\n",
    "s2_teams_spent = spent[1].loc[spent[1]['Club'].isin(teams_18)]\n",
    "\n",
    "s2_teams_wages2 = wage[2].loc[wage[2]['Club'].isin(teams_18)]\n",
    "s2_teams_spents2 = spent[2].loc[spent[2]['Club'].isin(teams_18)]"
   ]
  },
  {
   "cell_type": "code",
   "execution_count": 53,
   "id": "19348b2d",
   "metadata": {},
   "outputs": [],
   "source": [
    "teams_19 = ['Aston Villa', 'Sheffield United']\n",
    "s3_teams_wage = wage[2].loc[wage[2]['Club'].isin(teams_19)]\n",
    "s3_teams_spent = spent[2].loc[spent[2]['Club'].isin(teams_19)]\n",
    "\n",
    "s3_teams_wages2 = wage[3].loc[wage[3]['Club'].isin(teams_19)]\n",
    "s3_teams_spents2 = spent[3].loc[spent[3]['Club'].isin(teams_19)]"
   ]
  },
  {
   "cell_type": "code",
   "execution_count": 54,
   "id": "ced8f97f",
   "metadata": {},
   "outputs": [],
   "source": [
    "teams_20 = ['Leeds United']\n",
    "s4_teams_wage = wage[3].loc[wage[3]['Club'].isin(teams_20)]\n",
    "s4_teams_spent = spent[3].loc[spent[3]['Club'].isin(teams_20)]\n",
    "\n",
    "s4_teams_wages2 = wage[-2].loc[wage[-2]['Club'].isin(teams_20)]\n",
    "s4_teams_spents2 = spent[-2].loc[spent[-2]['Club'].isin(teams_20)]"
   ]
  },
  {
   "cell_type": "code",
   "execution_count": 78,
   "id": "0b4c325c",
   "metadata": {},
   "outputs": [],
   "source": [
    "df_s1_wagebill = [s1_teams_wage, s2_teams_wage, s3_teams_wage, s4_teams_wage]\n",
    "df_s2_wagebill = [s1_teams_wages2, s2_teams_wages2, s3_teams_wages2, s4_teams_wages2]\n",
    "df_s1_exp = [s1_teams_spent, s2_teams_spent, s3_teams_spent, s4_teams_spent]\n",
    "df_s2_exp = [s1_teams_spents2, s2_teams_spents2, s3_teams_spents2, s4_teams_spents2]\n",
    "def change_cols_wage(lst_dfs, column_name):\n",
    "    for i in range(len(lst_dfs)):\n",
    "        lst_dfs[i].rename(columns={\"WageBill\": column_name}, inplace = True)\n",
    "        \n",
    "def change_cols_spent(lst_dfs, column_name1, column_name2):\n",
    "    for i in range(len(lst_dfs)):\n",
    "        lst_dfs[i].rename(columns={\"Expenditure\": column_name1, \"Net\": column_name2}, inplace = True)"
   ]
  },
  {
   "cell_type": "code",
   "execution_count": 79,
   "id": "6ccdb9dc",
   "metadata": {},
   "outputs": [
    {
     "name": "stderr",
     "output_type": "stream",
     "text": [
      "C:\\Users\\user\\anaconda3\\lib\\site-packages\\pandas\\core\\frame.py:5039: SettingWithCopyWarning: \n",
      "A value is trying to be set on a copy of a slice from a DataFrame\n",
      "\n",
      "See the caveats in the documentation: https://pandas.pydata.org/pandas-docs/stable/user_guide/indexing.html#returning-a-view-versus-a-copy\n",
      "  return super().rename(\n"
     ]
    }
   ],
   "source": [
    "change_cols_wage(df_s1_wagebill, 'WageBillSeason1')\n",
    "change_cols_wage(df_s2_wagebill, 'WageBillSeason2')\n",
    "\n",
    "change_cols_spent(df_s1_exp, 'ExpenditureSeason1', 'NetSpendSeason1')\n",
    "change_cols_spent(df_s2_exp, 'ExpenditureSeason2', 'NetSpendSeason2')"
   ]
  },
  {
   "cell_type": "code",
   "execution_count": 80,
   "id": "0708efa0",
   "metadata": {},
   "outputs": [
    {
     "data": {
      "text/html": [
       "<div>\n",
       "<style scoped>\n",
       "    .dataframe tbody tr th:only-of-type {\n",
       "        vertical-align: middle;\n",
       "    }\n",
       "\n",
       "    .dataframe tbody tr th {\n",
       "        vertical-align: top;\n",
       "    }\n",
       "\n",
       "    .dataframe thead th {\n",
       "        text-align: right;\n",
       "    }\n",
       "</style>\n",
       "<table border=\"1\" class=\"dataframe\">\n",
       "  <thead>\n",
       "    <tr style=\"text-align: right;\">\n",
       "      <th></th>\n",
       "      <th>Club</th>\n",
       "      <th>WageBillSeason1</th>\n",
       "      <th>WageBillSeason2</th>\n",
       "    </tr>\n",
       "  </thead>\n",
       "  <tbody>\n",
       "    <tr>\n",
       "      <th>0</th>\n",
       "      <td>Newcastle United</td>\n",
       "      <td>46176000</td>\n",
       "      <td>43056000</td>\n",
       "    </tr>\n",
       "    <tr>\n",
       "      <th>1</th>\n",
       "      <td>Brighton &amp; Hove Albion</td>\n",
       "      <td>38558000</td>\n",
       "      <td>38860666</td>\n",
       "    </tr>\n",
       "    <tr>\n",
       "      <th>2</th>\n",
       "      <td>Huddersfield Town</td>\n",
       "      <td>29718000</td>\n",
       "      <td>31033600</td>\n",
       "    </tr>\n",
       "  </tbody>\n",
       "</table>\n",
       "</div>"
      ],
      "text/plain": [
       "                     Club  WageBillSeason1  WageBillSeason2\n",
       "0        Newcastle United         46176000         43056000\n",
       "1  Brighton & Hove Albion         38558000         38860666\n",
       "2       Huddersfield Town         29718000         31033600"
      ]
     },
     "execution_count": 80,
     "metadata": {},
     "output_type": "execute_result"
    }
   ],
   "source": [
    "pd.merge(df_s1_wagebill[0],df_s2_wagebill[0])"
   ]
  },
  {
   "cell_type": "code",
   "execution_count": 81,
   "id": "72a997f6",
   "metadata": {},
   "outputs": [],
   "source": [
    "dfwages1 = pd.DataFrame()\n",
    "dfwages2 = pd.DataFrame()\n",
    "dfwages3 = pd.DataFrame()\n",
    "dfwages4 = pd.DataFrame()\n",
    "lst_dfs_out = [dfwages1, dfwages2, dfwages3, dfwages4]\n",
    "for i in range(len(df_s1_wagebill)):\n",
    "    lst_dfs_out[i] = pd.merge(df_s1_wagebill[i], df_s2_wagebill[i])"
   ]
  },
  {
   "cell_type": "code",
   "execution_count": 84,
   "id": "f2fa3772",
   "metadata": {},
   "outputs": [],
   "source": [
    "dfspent1 = pd.DataFrame()\n",
    "dfspent2 = pd.DataFrame()\n",
    "dfspent3 = pd.DataFrame()\n",
    "dfspent4 = pd.DataFrame()\n",
    "lst_dfs_out_wage = [dfspent1, dfspent2, dfspent3, dfspent4]\n",
    "for i in range(len(df_s1_exp)):\n",
    "    df = pd.DataFrame()\n",
    "    df = pd.merge(df_s1_exp[i], df_s2_exp[i])\n",
    "    lst_dfs_out_wage[i] = pd.merge(df, lst_dfs_out[i])"
   ]
  },
  {
   "cell_type": "code",
   "execution_count": 89,
   "id": "dcf86a44",
   "metadata": {},
   "outputs": [],
   "source": [
    "final_df = pd.concat(lst_dfs_out_wage)\n",
    "final_df.reset_index(inplace = True)\n",
    "final_df.drop(columns = ['index'], inplace = True)"
   ]
  },
  {
   "cell_type": "code",
   "execution_count": 90,
   "id": "22f4916d",
   "metadata": {},
   "outputs": [
    {
     "data": {
      "text/html": [
       "<div>\n",
       "<style scoped>\n",
       "    .dataframe tbody tr th:only-of-type {\n",
       "        vertical-align: middle;\n",
       "    }\n",
       "\n",
       "    .dataframe tbody tr th {\n",
       "        vertical-align: top;\n",
       "    }\n",
       "\n",
       "    .dataframe thead th {\n",
       "        text-align: right;\n",
       "    }\n",
       "</style>\n",
       "<table border=\"1\" class=\"dataframe\">\n",
       "  <thead>\n",
       "    <tr style=\"text-align: right;\">\n",
       "      <th></th>\n",
       "      <th>Club</th>\n",
       "      <th>ExpenditureSeason1</th>\n",
       "      <th>NetSpendSeason1</th>\n",
       "      <th>ExpenditureSeason2</th>\n",
       "      <th>NetSpendSeason2</th>\n",
       "      <th>WageBillSeason1</th>\n",
       "      <th>WageBillSeason2</th>\n",
       "    </tr>\n",
       "  </thead>\n",
       "  <tbody>\n",
       "    <tr>\n",
       "      <th>0</th>\n",
       "      <td>Brighton &amp; Hove Albion</td>\n",
       "      <td>153.62</td>\n",
       "      <td>-139.60</td>\n",
       "      <td>148.86</td>\n",
       "      <td>-126.74</td>\n",
       "      <td>38558000</td>\n",
       "      <td>38860666</td>\n",
       "    </tr>\n",
       "    <tr>\n",
       "      <th>1</th>\n",
       "      <td>Huddersfield Town</td>\n",
       "      <td>107.45</td>\n",
       "      <td>-88.67</td>\n",
       "      <td>63.70</td>\n",
       "      <td>-22.27</td>\n",
       "      <td>29718000</td>\n",
       "      <td>31033600</td>\n",
       "    </tr>\n",
       "    <tr>\n",
       "      <th>2</th>\n",
       "      <td>Newcastle United</td>\n",
       "      <td>106.25</td>\n",
       "      <td>-33.98</td>\n",
       "      <td>132.65</td>\n",
       "      <td>-45.96</td>\n",
       "      <td>46176000</td>\n",
       "      <td>43056000</td>\n",
       "    </tr>\n",
       "    <tr>\n",
       "      <th>3</th>\n",
       "      <td>Wolverhampton Wanderers</td>\n",
       "      <td>229.45</td>\n",
       "      <td>-182.05</td>\n",
       "      <td>204.29</td>\n",
       "      <td>-100.99</td>\n",
       "      <td>39353000</td>\n",
       "      <td>49965000</td>\n",
       "    </tr>\n",
       "    <tr>\n",
       "      <th>4</th>\n",
       "      <td>Aston Villa</td>\n",
       "      <td>260.85</td>\n",
       "      <td>-255.08</td>\n",
       "      <td>231.15</td>\n",
       "      <td>-101.38</td>\n",
       "      <td>37962396</td>\n",
       "      <td>56315396</td>\n",
       "    </tr>\n",
       "    <tr>\n",
       "      <th>5</th>\n",
       "      <td>Sheffield United</td>\n",
       "      <td>133.20</td>\n",
       "      <td>-132.85</td>\n",
       "      <td>63.00</td>\n",
       "      <td>-35.00</td>\n",
       "      <td>14024000</td>\n",
       "      <td>19708800</td>\n",
       "    </tr>\n",
       "    <tr>\n",
       "      <th>6</th>\n",
       "      <td>Leeds United</td>\n",
       "      <td>186.70</td>\n",
       "      <td>-186.70</td>\n",
       "      <td>204.49</td>\n",
       "      <td>-90.99</td>\n",
       "      <td>27826800</td>\n",
       "      <td>29816800</td>\n",
       "    </tr>\n",
       "  </tbody>\n",
       "</table>\n",
       "</div>"
      ],
      "text/plain": [
       "                      Club  ExpenditureSeason1  NetSpendSeason1  \\\n",
       "0   Brighton & Hove Albion              153.62          -139.60   \n",
       "1        Huddersfield Town              107.45           -88.67   \n",
       "2         Newcastle United              106.25           -33.98   \n",
       "3  Wolverhampton Wanderers              229.45          -182.05   \n",
       "4              Aston Villa              260.85          -255.08   \n",
       "5         Sheffield United              133.20          -132.85   \n",
       "6             Leeds United              186.70          -186.70   \n",
       "\n",
       "   ExpenditureSeason2  NetSpendSeason2  WageBillSeason1  WageBillSeason2  \n",
       "0              148.86          -126.74         38558000         38860666  \n",
       "1               63.70           -22.27         29718000         31033600  \n",
       "2              132.65           -45.96         46176000         43056000  \n",
       "3              204.29          -100.99         39353000         49965000  \n",
       "4              231.15          -101.38         37962396         56315396  \n",
       "5               63.00           -35.00         14024000         19708800  \n",
       "6              204.49           -90.99         27826800         29816800  "
      ]
     },
     "execution_count": 90,
     "metadata": {},
     "output_type": "execute_result"
    }
   ],
   "source": [
    "final_df"
   ]
  },
  {
   "cell_type": "code",
   "execution_count": 91,
   "id": "394aa0eb",
   "metadata": {},
   "outputs": [],
   "source": [
    "final_df.to_csv('C:/Users/user/Desktop/xg-data-analysis/datasets/scrapeddata/cleaned-wage-spend-clubs.csv')"
   ]
  }
 ],
 "metadata": {
  "kernelspec": {
   "display_name": "Python 3 (ipykernel)",
   "language": "python",
   "name": "python3"
  },
  "language_info": {
   "codemirror_mode": {
    "name": "ipython",
    "version": 3
   },
   "file_extension": ".py",
   "mimetype": "text/x-python",
   "name": "python",
   "nbconvert_exporter": "python",
   "pygments_lexer": "ipython3",
   "version": "3.8.12"
  }
 },
 "nbformat": 4,
 "nbformat_minor": 5
}
