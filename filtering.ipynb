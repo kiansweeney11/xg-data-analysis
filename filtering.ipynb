{
 "cells": [
  {
   "cell_type": "code",
   "execution_count": 1,
   "id": "84b9112e",
   "metadata": {},
   "outputs": [],
   "source": [
    "import pandas as pd\n",
    "import numpy as np\n",
    "import matplotlib as plt"
   ]
  },
  {
   "cell_type": "code",
   "execution_count": 6,
   "id": "5285f2f2",
   "metadata": {},
   "outputs": [
    {
     "name": "stdout",
     "output_type": "stream",
     "text": [
      "['brighton-adkeeper1718-cleaned.csv', 'brighton-adkeeper18-19-cleaned.csv', 'huddersfield-adkeeper1718-cleaned.csv', 'huddersfield-adkeeper1819-cleaned.csv', 'leeds-adkeeper2021-cleaned.csv', 'leeds-adkeeper2122-cleaned.csv', 'newcastle-adkeeper1718-cleaned.csv', 'newcastle-adkeeper1819-cleaned.csv', 'sheffutd-adkeeper1920-cleaned.csv', 'sheffutd-adkeeper2021-cleaned.csv', 'villa-adkeeper1920-cleaned.csv', 'villa-adkeeper2021-cleaned.csv', 'wolves-adkeeper1819-cleaned.csv', 'wolves-adkeeper1920-cleaned.csv']\n",
      "14\n"
     ]
    }
   ],
   "source": [
    "import os\n",
    "import glob\n",
    "\n",
    "path = 'C:/Users/user/Desktop/xg-data-analysis/datasets/cleanedAdvanced'\n",
    "extension = 'csv'\n",
    "os.chdir(path)\n",
    "result = glob.glob('*adkeeper*.{}'.format(extension))\n",
    "print(result)\n",
    "print(len(result))"
   ]
  },
  {
   "cell_type": "code",
   "execution_count": 12,
   "id": "e669bbb3",
   "metadata": {},
   "outputs": [],
   "source": [
    "bri_s1 = pd.read_csv(result[0])\n",
    "bri_s2 = pd.read_csv(result[1])\n",
    "# hudds\n",
    "hudds_s1 = pd.read_csv(result[2])\n",
    "hudds_s2 = pd.read_csv(result[3])\n",
    "## leeds\n",
    "leeds_s1 = pd.read_csv(result[4])\n",
    "leeds_s2 = pd.read_csv(result[5])\n",
    "## newcastle\n",
    "new_s1 = pd.read_csv(result[6])\n",
    "new_s2 = pd.read_csv(result[7])\n",
    "## sheff u\n",
    "sheff_s1 = pd.read_csv(result[8])\n",
    "sheff_s2 = pd.read_csv(result[9])\n",
    "## villa\n",
    "villa_s1 = pd.read_csv(result[10])\n",
    "villa_s2 = pd.read_csv(result[11])\n",
    "## wolves \n",
    "wolves_s1 = pd.read_csv(result[12])\n",
    "wolves_s2 = pd.read_csv(result[13])"
   ]
  },
  {
   "cell_type": "code",
   "execution_count": 13,
   "id": "0fb776c7",
   "metadata": {},
   "outputs": [],
   "source": [
    "### squad totals for Season 1\n",
    "wolvestotals_s1 = wolves_s1.loc[wolves_s1['Player'] == 'Squad Total']\n",
    "newtotals_s1 = new_s1.loc[new_s1['Player'] == 'Squad Total']\n",
    "britotals_s1 = bri_s1.loc[bri_s1['Player'] == 'Squad Total']\n",
    "huddsstotals_s1 = hudds_s1.loc[hudds_s1['Player'] == 'Squad Total']\n",
    "sheffutdtotals_s1 = sheff_s1.loc[sheff_s1['Player'] == 'Squad Total']\n",
    "villatotals_s1 = villa_s1.loc[villa_s1['Player'] == 'Squad Total']\n",
    "leetotals_s1 = leeds_s1.loc[leeds_s1['Player'] == 'Squad Total']"
   ]
  },
  {
   "cell_type": "code",
   "execution_count": 15,
   "id": "73f6bc8d",
   "metadata": {},
   "outputs": [],
   "source": [
    "### squad totals for Season 2\n",
    "wolvestotals_s2 = wolves_s2.loc[wolves_s2['Player'] == 'Squad Total']\n",
    "newtotals_s2 = new_s2.loc[new_s2['Player'] == 'Squad Total']\n",
    "britotals_s2 = bri_s2.loc[bri_s2['Player'] == 'Squad Total']\n",
    "huddsstotals_s2 = hudds_s2.loc[hudds_s2['Player'] == 'Squad Total']\n",
    "sheffutdtotals_s2 = sheff_s2.loc[sheff_s2['Player'] == 'Squad Total']\n",
    "villatotals_s2 = villa_s2.loc[villa_s2['Player'] == 'Squad Total']\n",
    "leetotals_s2 = leeds_s2.loc[leeds_s2['Player'] == 'Squad Total']"
   ]
  },
  {
   "cell_type": "code",
   "execution_count": 16,
   "id": "58737987",
   "metadata": {},
   "outputs": [
    {
     "name": "stderr",
     "output_type": "stream",
     "text": [
      "C:\\Users\\user\\anaconda3\\lib\\site-packages\\pandas\\core\\indexing.py:1773: SettingWithCopyWarning: \n",
      "A value is trying to be set on a copy of a slice from a DataFrame.\n",
      "Try using .loc[row_indexer,col_indexer] = value instead\n",
      "\n",
      "See the caveats in the documentation: https://pandas.pydata.org/pandas-docs/stable/user_guide/indexing.html#returning-a-view-versus-a-copy\n",
      "  self._setitem_single_column(ilocs[0], value, pi)\n"
     ]
    }
   ],
   "source": [
    "### replace squad totals\n",
    "# s2\n",
    "wolvestotals_s2.replace({'Player': {'Squad Total': 'Wolves S2'}}, inplace = True)\n",
    "newtotals_s2.replace({'Player': {'Squad Total': 'Newcastle S2'}}, inplace = True)\n",
    "britotals_s2.replace({'Player': {'Squad Total': 'Brighton S2'}}, inplace = True)\n",
    "huddsstotals_s2.replace({'Player': {'Squad Total': 'Huddersfield S2'}}, inplace = True)\n",
    "sheffutdtotals_s2.replace({'Player': {'Squad Total': 'Sheffield Utd S2'}}, inplace = True)\n",
    "villatotals_s2.replace({'Player': {'Squad Total': 'Aston Villa S2'}}, inplace = True)\n",
    "leetotals_s2.replace({'Player': {'Squad Total': 'Leeds United S2'}}, inplace = True)\n",
    "# s1\n",
    "wolvestotals_s1.replace({'Player': {'Squad Total': 'Wolves S1'}}, inplace = True)\n",
    "newtotals_s1.replace({'Player': {'Squad Total': 'Newcastle S1'}}, inplace = True)\n",
    "britotals_s1.replace({'Player': {'Squad Total': 'Brighton S1'}}, inplace = True)\n",
    "huddsstotals_s1.replace({'Player': {'Squad Total': 'Huddersfield S1'}}, inplace = True)\n",
    "sheffutdtotals_s1.replace({'Player': {'Squad Total': 'Sheffield Utd S1'}}, inplace = True)\n",
    "villatotals_s1.replace({'Player': {'Squad Total': 'Aston Villa S1'}}, inplace = True)\n",
    "leetotals_s1.replace({'Player': {'Squad Total': 'Leeds United S1'}}, inplace = True)"
   ]
  },
  {
   "cell_type": "code",
   "execution_count": 17,
   "id": "145cd3b0",
   "metadata": {},
   "outputs": [],
   "source": [
    "all_joined_squads = pd.concat([wolvestotals_s2, newtotals_s2, britotals_s2, huddsstotals_s2, sheffutdtotals_s2, villatotals_s2,\n",
    "          leetotals_s2, wolvestotals_s1, newtotals_s1, britotals_s1, huddsstotals_s1, sheffutdtotals_s1,\n",
    "          villatotals_s1, leetotals_s1], axis=0)"
   ]
  },
  {
   "cell_type": "code",
   "execution_count": 18,
   "id": "187e451a",
   "metadata": {},
   "outputs": [],
   "source": [
    "all_joined_squads.drop(columns = ['Pos', 'Nation'], inplace = True)"
   ]
  },
  {
   "cell_type": "code",
   "execution_count": 19,
   "id": "3098fdca",
   "metadata": {},
   "outputs": [],
   "source": [
    "all_joined_squads.to_csv(\"C:/Users/user/Desktop/xg-data-analysis/datasets/cleanedAdvanced/overall-keepers-teams.csv\")"
   ]
  }
 ],
 "metadata": {
  "kernelspec": {
   "display_name": "Python 3 (ipykernel)",
   "language": "python",
   "name": "python3"
  },
  "language_info": {
   "codemirror_mode": {
    "name": "ipython",
    "version": 3
   },
   "file_extension": ".py",
   "mimetype": "text/x-python",
   "name": "python",
   "nbconvert_exporter": "python",
   "pygments_lexer": "ipython3",
   "version": "3.8.12"
  }
 },
 "nbformat": 4,
 "nbformat_minor": 5
}
