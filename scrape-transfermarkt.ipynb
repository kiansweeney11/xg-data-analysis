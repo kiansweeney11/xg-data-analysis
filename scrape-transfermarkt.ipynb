{
 "cells": [
  {
   "cell_type": "code",
   "execution_count": 1,
   "id": "86971f8c",
   "metadata": {},
   "outputs": [
    {
     "name": "stderr",
     "output_type": "stream",
     "text": [
      "\n",
      "\n",
      "====== WebDriver manager ======\n",
      "Current google-chrome version is 109.0.5414\n",
      "Get LATEST chromedriver version for 109.0.5414 google-chrome\n",
      "There is no [win32] chromedriver for browser  in cache\n",
      "Trying to download new driver from https://chromedriver.storage.googleapis.com/109.0.5414.74/chromedriver_win32.zip\n",
      "Driver has been saved in cache [C:\\Users\\user\\.wdm\\drivers\\chromedriver\\win32\\109.0.5414.74]\n",
      "C:\\Users\\user\\AppData\\Local\\Temp/ipykernel_9592/3757352253.py:20: DeprecationWarning: executable_path has been deprecated, please pass in a Service object\n",
      "  driver = webdriver.Chrome(ChromeDriverManager().install())\n"
     ]
    }
   ],
   "source": [
    "import pandas as pd\n",
    "import numpy as np\n",
    "import wget\n",
    "\n",
    "from webdriver_manager.chrome import ChromeDriverManager\n",
    "\n",
    "from selenium import webdriver\n",
    "from selenium.webdriver.common.keys import Keys\n",
    "from selenium.common.exceptions import TimeoutException\n",
    "from selenium.webdriver.remote.webelement import WebElement\n",
    "import selenium.webdriver.support.ui as ui\n",
    "import selenium.webdriver.support.expected_conditions as EC\n",
    "import time\n",
    "import os\n",
    "import random\n",
    "from selenium.webdriver.support.ui import WebDriverWait\n",
    "from selenium.webdriver.common.by import By\n",
    "from bs4 import BeautifulSoup\n",
    "\n",
    "driver = webdriver.Chrome(ChromeDriverManager().install())"
   ]
  },
  {
   "cell_type": "code",
   "execution_count": 13,
   "id": "047c00fb",
   "metadata": {},
   "outputs": [
    {
     "name": "stderr",
     "output_type": "stream",
     "text": [
      "C:\\Users\\user\\AppData\\Local\\Temp/ipykernel_9592/1221642836.py:13: DeprecationWarning: find_elements_by_* commands are deprecated. Please use find_elements() instead\n",
      "  name = driver.find_elements_by_xpath('//td[@class=\"hauptlink no-border-links\"]')\n",
      "C:\\Users\\user\\AppData\\Local\\Temp/ipykernel_9592/1221642836.py:14: DeprecationWarning: find_elements_by_* commands are deprecated. Please use find_elements() instead\n",
      "  expense = driver.find_elements_by_xpath('//td[@class=\"rechts hauptlink redtext\"]')\n",
      "C:\\Users\\user\\AppData\\Local\\Temp/ipykernel_9592/1221642836.py:15: DeprecationWarning: find_elements_by_* commands are deprecated. Please use find_elements() instead\n",
      "  net_spend = driver.find_elements_by_xpath('//td[@class=\"rechts hauptlink\"]')\n"
     ]
    }
   ],
   "source": [
    "yr1 = [2017,2018,2019,2020,2021,2022]\n",
    "yr2 = [2018,2019,2020,2021,2022,2023]\n",
    "all_lsts_clubs = []\n",
    "all_lsts_spent = []\n",
    "all_lsts_net = []\n",
    "for i in range(len(yr1)):\n",
    "    link = \"https://www.transfermarkt.co.uk/premier-league/einnahmenausgaben/wettbewerb/GB1/plus/0?ids=a&sa=&saison_id=\" + str(yr1[i]) + \"&saison_id_bis=\" + str(yr2[i]) + \"&nat=&pos=&altersklasse=&w_s=&leihe=&intern=0\"\n",
    "    driver.get(link)\n",
    "    lst_clubs_season = []\n",
    "    lst_clubs_spent = []\n",
    "    lst_clubs_net = []\n",
    "    name = driver.find_elements_by_xpath('//td[@class=\"hauptlink no-border-links\"]')\n",
    "    expense = driver.find_elements_by_xpath('//td[@class=\"rechts hauptlink redtext\"]')\n",
    "    net_spend = driver.find_elements_by_xpath('//td[@class=\"rechts hauptlink\"]')\n",
    "    # rechts hauptlink\n",
    "    # rechts hauptlink redtext\n",
    "    for i in range(len(name)):\n",
    "        lst_clubs_season.append(name[i].text)\n",
    "        lst_clubs_spent.append(expense[i].text)\n",
    "        lst_clubs_net.append(net_spend[i].text)\n",
    "    all_lsts_clubs.append(lst_clubs_season)\n",
    "    all_lsts_spent.append(lst_clubs_spent)\n",
    "    all_lsts_net.append(lst_clubs_net)\n",
    "    time.sleep(4 + random.uniform(0,6))"
   ]
  },
  {
   "cell_type": "code",
   "execution_count": 14,
   "id": "f1f6fd43",
   "metadata": {},
   "outputs": [
    {
     "data": {
      "text/plain": [
       "6"
      ]
     },
     "execution_count": 14,
     "metadata": {},
     "output_type": "execute_result"
    }
   ],
   "source": [
    "len(all_lsts_clubs)"
   ]
  },
  {
   "cell_type": "code",
   "execution_count": 15,
   "id": "1314db27",
   "metadata": {},
   "outputs": [
    {
     "data": {
      "text/plain": [
       "6"
      ]
     },
     "execution_count": 15,
     "metadata": {},
     "output_type": "execute_result"
    }
   ],
   "source": [
    "len(all_lsts_spent)"
   ]
  },
  {
   "cell_type": "code",
   "execution_count": 18,
   "id": "7f866c3c",
   "metadata": {},
   "outputs": [
    {
     "data": {
      "text/plain": [
       "6"
      ]
     },
     "execution_count": 18,
     "metadata": {},
     "output_type": "execute_result"
    }
   ],
   "source": [
    "len(all_lsts_net)"
   ]
  },
  {
   "cell_type": "code",
   "execution_count": 24,
   "id": "f08c32e4",
   "metadata": {},
   "outputs": [],
   "source": [
    "df1 = pd.DataFrame()\n",
    "df2 = pd.DataFrame()\n",
    "df3 = pd.DataFrame()\n",
    "df4 = pd.DataFrame()\n",
    "df5 = pd.DataFrame()\n",
    "df6 = pd.DataFrame()\n",
    "lst_dfs = [df1, df2, df3, df4, df5, df6]\n",
    "for i in range(len(all_lsts_clubs)):\n",
    "    lst_dfs[i]['Club'] = all_lsts_clubs[i]\n",
    "    lst_dfs[i]['Expenditure'] = all_lsts_spent[i]\n",
    "    lst_dfs[i]['Net'] = all_lsts_net[i]"
   ]
  },
  {
   "cell_type": "code",
   "execution_count": 26,
   "id": "f08e9c7b",
   "metadata": {},
   "outputs": [
    {
     "data": {
      "text/html": [
       "<div>\n",
       "<style scoped>\n",
       "    .dataframe tbody tr th:only-of-type {\n",
       "        vertical-align: middle;\n",
       "    }\n",
       "\n",
       "    .dataframe tbody tr th {\n",
       "        vertical-align: top;\n",
       "    }\n",
       "\n",
       "    .dataframe thead th {\n",
       "        text-align: right;\n",
       "    }\n",
       "</style>\n",
       "<table border=\"1\" class=\"dataframe\">\n",
       "  <thead>\n",
       "    <tr style=\"text-align: right;\">\n",
       "      <th></th>\n",
       "      <th>Club</th>\n",
       "      <th>Expenditure</th>\n",
       "      <th>Net</th>\n",
       "    </tr>\n",
       "  </thead>\n",
       "  <tbody>\n",
       "    <tr>\n",
       "      <th>0</th>\n",
       "      <td>Chelsea FC</td>\n",
       "      <td>€469.30m</td>\n",
       "      <td>€-191.45m</td>\n",
       "    </tr>\n",
       "    <tr>\n",
       "      <th>1</th>\n",
       "      <td>Manchester City</td>\n",
       "      <td>€396.09m</td>\n",
       "      <td>€-247.14m</td>\n",
       "    </tr>\n",
       "    <tr>\n",
       "      <th>2</th>\n",
       "      <td>Liverpool FC</td>\n",
       "      <td>€355.85m</td>\n",
       "      <td>€-130.03m</td>\n",
       "    </tr>\n",
       "    <tr>\n",
       "      <th>3</th>\n",
       "      <td>Everton FC</td>\n",
       "      <td>€303.00m</td>\n",
       "      <td>€-147.97m</td>\n",
       "    </tr>\n",
       "    <tr>\n",
       "      <th>4</th>\n",
       "      <td>Manchester United</td>\n",
       "      <td>€281.10m</td>\n",
       "      <td>€-205.05m</td>\n",
       "    </tr>\n",
       "  </tbody>\n",
       "</table>\n",
       "</div>"
      ],
      "text/plain": [
       "                Club Expenditure        Net\n",
       "0         Chelsea FC    €469.30m  €-191.45m\n",
       "1    Manchester City    €396.09m  €-247.14m\n",
       "2       Liverpool FC    €355.85m  €-130.03m\n",
       "3         Everton FC    €303.00m  €-147.97m\n",
       "4  Manchester United    €281.10m  €-205.05m"
      ]
     },
     "execution_count": 26,
     "metadata": {},
     "output_type": "execute_result"
    }
   ],
   "source": [
    "df1.head()"
   ]
  },
  {
   "cell_type": "markdown",
   "id": "a7c7b9d7",
   "metadata": {},
   "source": [
    "### Scrape Wages\n",
    "Scraped from [spotrac](https://www.spotrac.com/epl/payroll/2017/)."
   ]
  },
  {
   "cell_type": "code",
   "execution_count": 30,
   "id": "c609c1c1",
   "metadata": {},
   "outputs": [
    {
     "name": "stderr",
     "output_type": "stream",
     "text": [
      "\n",
      "\n",
      "====== WebDriver manager ======\n",
      "Current google-chrome version is 109.0.5414\n",
      "Get LATEST chromedriver version for 109.0.5414 google-chrome\n",
      "Driver [C:\\Users\\user\\.wdm\\drivers\\chromedriver\\win32\\109.0.5414.74\\chromedriver.exe] found in cache\n",
      "C:\\Users\\user\\AppData\\Local\\Temp/ipykernel_9592/2564154097.py:3: DeprecationWarning: executable_path has been deprecated, please pass in a Service object\n",
      "  driver = webdriver.Chrome(ChromeDriverManager().install())\n",
      "C:\\Users\\user\\AppData\\Local\\Temp/ipykernel_9592/2564154097.py:12: DeprecationWarning: find_elements_by_* commands are deprecated. Please use find_elements() instead\n",
      "  club = driver.find_elements_by_xpath('//td[@class=\"player noborderleft\"]')\n",
      "C:\\Users\\user\\AppData\\Local\\Temp/ipykernel_9592/2564154097.py:13: DeprecationWarning: find_elements_by_* commands are deprecated. Please use find_elements() instead\n",
      "  wage = driver.find_elements_by_xpath('//td[@class=\"result center\"]')\n"
     ]
    }
   ],
   "source": [
    "## https://www.spotrac.com/epl/payroll/2017/ -> 2021\n",
    "yrs_wages = [2017,2018,2019,2020,2021,\"\"]\n",
    "all_lsts_clubs_wages = []\n",
    "all_lsts_wages_overall = []\n",
    "for i in range(len(yrs_wages)):\n",
    "    link = \"https://www.spotrac.com/epl/payroll/\" + str(yrs_wages[i])\n",
    "    driver.get(link)\n",
    "    lst_clubs = []\n",
    "    lst_wages = []\n",
    "    club = driver.find_elements_by_xpath('//td[@class=\"player noborderleft\"]')\n",
    "    wage = driver.find_elements_by_xpath('//td[@class=\"result center\"]')\n",
    "    for i in range(len(club)):\n",
    "        lst_clubs.append(club[i].text)\n",
    "        lst_wages.append(wage[i].text)\n",
    "        \n",
    "    all_lsts_clubs_wages.append(lst_clubs)\n",
    "    all_lsts_wages_overall.append(lst_wages)\n",
    "    time.sleep(4 + random.uniform(0, 6))"
   ]
  },
  {
   "cell_type": "code",
   "execution_count": 31,
   "id": "bd20ec99",
   "metadata": {},
   "outputs": [
    {
     "data": {
      "text/plain": [
       "[[], [], [], [], [], []]"
      ]
     },
     "execution_count": 31,
     "metadata": {},
     "output_type": "execute_result"
    }
   ],
   "source": [
    "all_lsts_clubs_wages"
   ]
  },
  {
   "cell_type": "code",
   "execution_count": 32,
   "id": "52130c60",
   "metadata": {},
   "outputs": [
    {
     "data": {
      "text/plain": [
       "[[], [], [], [], [], []]"
      ]
     },
     "execution_count": 32,
     "metadata": {},
     "output_type": "execute_result"
    }
   ],
   "source": [
    "all_lsts_wages_overall"
   ]
  },
  {
   "cell_type": "code",
   "execution_count": null,
   "id": "94d39138",
   "metadata": {},
   "outputs": [
    {
     "name": "stderr",
     "output_type": "stream",
     "text": [
      "C:\\Users\\user\\AppData\\Local\\Temp/ipykernel_9592/3961405527.py:2: DeprecationWarning: find_elements_by_* commands are deprecated. Please use find_elements() instead\n",
      "  for incomes in driver.find_elements_by_xpath('//tr[@class=\"parent\"]'):\n"
     ]
    }
   ],
   "source": [
    "driver.get(\"https://www.spotrac.com/epl/payroll/\")\n",
    "for incomes in driver.find_elements_by_xpath('//tr[@class=\"parent\"]'):\n",
    "    #print(incomes.text)\n",
    "    #if incomes.text != \"Close Window\":\n",
    "        #print(incomes.text)\n",
    "    Earning = incomes.find_elements_by_xpath('//td[@class=\"result center\"]')\n",
    "    name = incomes.find_elements_by_xpath('//a[@class=\"player noborderleft\"]')\n",
    "    lst_wage = []\n",
    "    lst_club = []\n",
    "    for i in range(len(Earning)):\n",
    "        lst_wage.append(Earning[i].text)\n",
    "    \n",
    "    #for names in dr.find_elements_by_xpath('//td[@class=\" player noborderleft\"]'):\n",
    "        #name_clubs = names.find_elements_by_xpath('//a')\n",
    "        #for j in range(len(name_clubs)):\n",
    "            #lst_club.append(name_clubs[j].text)\n",
    "    # result center\n",
    "    #print(lst_wage)"
   ]
  },
  {
   "cell_type": "code",
   "execution_count": null,
   "id": "a8ef841b",
   "metadata": {},
   "outputs": [],
   "source": [
    "len(lst_wage)"
   ]
  },
  {
   "cell_type": "code",
   "execution_count": null,
   "id": "6b6378ab",
   "metadata": {},
   "outputs": [],
   "source": [
    "#len(lst_club)"
   ]
  },
  {
   "cell_type": "code",
   "execution_count": null,
   "id": "751c0afb",
   "metadata": {},
   "outputs": [],
   "source": [
    "'''\n",
    "yrs_wages = [2017,2018,2019,2020,2021,\"\"]\n",
    "all_lsts_clubs_wages = []\n",
    "all_lsts_wages_overall = []\n",
    "lst_wage = []\n",
    "for j in range(len(yrs_wages)):\n",
    "    link = \"https://www.spotrac.com/epl/payroll/\" + str(yrs_wages[j])\n",
    "    driver.get(link)\n",
    "    for incomes in driver.find_elements_by_xpath('//tr[@class=\"parent\"]'):\n",
    "        #print(incomes.text)\n",
    "        #if incomes.text != \"Close Window\":\n",
    "            #print(incomes.text)\n",
    "        Earning = incomes.find_elements_by_xpath('//td[@class=\"result center\"]')\n",
    "        name = incomes.find_elements_by_xpath('//td[@class=\"player noborderleft\"]')\n",
    "        lst_wage = []\n",
    "        lst_clb = []\n",
    "        print(len(Earning))\n",
    "        print(len(name))\n",
    "        for i in range(len(Earning)):\n",
    "            lst_wage.append(Earning[i].text)\n",
    "            lst_clb.append(name[i].text)\n",
    "        all_lsts_clubs_wages.append(lst_clb)\n",
    "        all_lsts_wages_overall.append(lst_wage)\n",
    "\n",
    "'''\n",
    "    # result center\n",
    "    #print(lst_wage)"
   ]
  }
 ],
 "metadata": {
  "kernelspec": {
   "display_name": "Python 3 (ipykernel)",
   "language": "python",
   "name": "python3"
  },
  "language_info": {
   "codemirror_mode": {
    "name": "ipython",
    "version": 3
   },
   "file_extension": ".py",
   "mimetype": "text/x-python",
   "name": "python",
   "nbconvert_exporter": "python",
   "pygments_lexer": "ipython3",
   "version": "3.8.12"
  }
 },
 "nbformat": 4,
 "nbformat_minor": 5
}
