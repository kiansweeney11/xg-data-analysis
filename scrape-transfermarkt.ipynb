{
 "cells": [
  {
   "cell_type": "code",
   "execution_count": 5,
   "id": "0aba9b42",
   "metadata": {},
   "outputs": [
    {
     "name": "stderr",
     "output_type": "stream",
     "text": [
      "\n",
      "\n",
      "====== WebDriver manager ======\n",
      "Current google-chrome version is 109.0.5414\n",
      "Get LATEST chromedriver version for 109.0.5414 google-chrome\n",
      "C:\\Users\\user\\anaconda3\\lib\\site-packages\\urllib3\\connectionpool.py:1013: InsecureRequestWarning: Unverified HTTPS request is being made to host 'chromedriver.storage.googleapis.com'. Adding certificate verification is strongly advised. See: https://urllib3.readthedocs.io/en/1.26.x/advanced-usage.html#ssl-warnings\n",
      "  warnings.warn(\n",
      "Trying to download new driver from https://chromedriver.storage.googleapis.com/109.0.5414.74/chromedriver_win32.zip\n",
      "C:\\Users\\user\\anaconda3\\lib\\site-packages\\urllib3\\connectionpool.py:1013: InsecureRequestWarning: Unverified HTTPS request is being made to host 'chromedriver.storage.googleapis.com'. Adding certificate verification is strongly advised. See: https://urllib3.readthedocs.io/en/1.26.x/advanced-usage.html#ssl-warnings\n",
      "  warnings.warn(\n",
      "Driver has been saved in cache [C:\\Users\\user\\.wdm\\drivers\\chromedriver\\win32\\109.0.5414.74]\n",
      "C:\\Users\\user\\AppData\\Local\\Temp/ipykernel_13916/3231335104.py:23: DeprecationWarning: executable_path has been deprecated, please pass in a Service object\n",
      "  driver = webdriver.Chrome(ChromeDriverManager().install())\n"
     ]
    }
   ],
   "source": [
    "import pandas as pd\n",
    "import numpy as np\n",
    "import wget\n",
    "\n",
    "from webdriver_manager.chrome import ChromeDriverManager\n",
    "\n",
    "from selenium import webdriver\n",
    "from selenium.webdriver.common.keys import Keys\n",
    "from selenium.common.exceptions import TimeoutException\n",
    "from selenium.webdriver.remote.webelement import WebElement\n",
    "import selenium.webdriver.support.ui as ui\n",
    "import selenium.webdriver.support.expected_conditions as EC\n",
    "import time\n",
    "import os\n",
    "import random\n",
    "from selenium.webdriver.support.ui import WebDriverWait\n",
    "from selenium.webdriver.common.by import By\n",
    "from bs4 import BeautifulSoup\n",
    "\n",
    "#os.environ['WDM_SSL_VERIFY']='0'\n",
    "\n",
    "driver = webdriver.Chrome(ChromeDriverManager().install())"
   ]
  },
  {
   "cell_type": "code",
   "execution_count": 12,
   "id": "e0f47ae3",
   "metadata": {},
   "outputs": [
    {
     "name": "stderr",
     "output_type": "stream",
     "text": [
      "C:\\Users\\user\\AppData\\Local\\Temp/ipykernel_13916/1899539668.py:12: DeprecationWarning: find_elements_by_* commands are deprecated. Please use find_elements() instead\n",
      "  name = driver.find_elements_by_xpath('//td[@class=\"hauptlink no-border-links\"]')\n",
      "C:\\Users\\user\\AppData\\Local\\Temp/ipykernel_13916/1899539668.py:13: DeprecationWarning: find_elements_by_* commands are deprecated. Please use find_elements() instead\n",
      "  expense = driver.find_elements_by_xpath('//td[@class=\"rechts hauptlink redtext\"]')\n",
      "C:\\Users\\user\\AppData\\Local\\Temp/ipykernel_13916/1899539668.py:14: DeprecationWarning: find_elements_by_* commands are deprecated. Please use find_elements() instead\n",
      "  net_spend = driver.find_elements_by_xpath('//td[@class=\"rechts hauptlink\"]')\n"
     ]
    }
   ],
   "source": [
    "yr1 = [2017,2018,2019,2020,2021,2022]\n",
    "yr2 = [2018,2019,2020,2021,2022,2023]\n",
    "all_lsts_clubs = []\n",
    "all_lsts_spent = []\n",
    "all_lsts_net = []\n",
    "for i in range(len(yr1)):\n",
    "    link = \"https://www.transfermarkt.co.uk/premier-league/einnahmenausgaben/wettbewerb/GB1/plus/0?ids=a&sa=&saison_id=\" + str(yr1[i]) + \"&saison_id_bis=\" + str(yr2[i]) + \"&nat=&pos=&altersklasse=&w_s=&leihe=&intern=0\"\n",
    "    driver.get(link)\n",
    "    lst_clubs_season = []\n",
    "    lst_clubs_spent = []\n",
    "    lst_clubs_net = []\n",
    "    name = driver.find_elements_by_xpath('//td[@class=\"hauptlink no-border-links\"]')\n",
    "    expense = driver.find_elements_by_xpath('//td[@class=\"rechts hauptlink redtext\"]')\n",
    "    net_spend = driver.find_elements_by_xpath('//td[@class=\"rechts hauptlink\"]')\n",
    "    # rechts hauptlink\n",
    "    # rechts hauptlink redtext\n",
    "    for i in range(len(name)):\n",
    "        lst_clubs_season.append(name[i].text)\n",
    "        lst_clubs_spent.append(expense[i].text)\n",
    "        lst_clubs_net.append(net_spend[i].text)\n",
    "    all_lsts_clubs.append(lst_clubs_season)\n",
    "    all_lsts_spent.append(lst_clubs_spent)\n",
    "    all_lsts_net.append(lst_clubs_net)\n",
    "    time.sleep(4 + random.uniform(0, 6))"
   ]
  },
  {
   "cell_type": "code",
   "execution_count": 13,
   "id": "49448be7",
   "metadata": {},
   "outputs": [
    {
     "data": {
      "text/plain": [
       "6"
      ]
     },
     "execution_count": 13,
     "metadata": {},
     "output_type": "execute_result"
    }
   ],
   "source": [
    "len(all_lsts_clubs)"
   ]
  },
  {
   "cell_type": "code",
   "execution_count": 14,
   "id": "9457d68b",
   "metadata": {},
   "outputs": [
    {
     "data": {
      "text/plain": [
       "6"
      ]
     },
     "execution_count": 14,
     "metadata": {},
     "output_type": "execute_result"
    }
   ],
   "source": [
    "len(all_lsts_spent)"
   ]
  },
  {
   "cell_type": "code",
   "execution_count": 15,
   "id": "70d0d4d4",
   "metadata": {},
   "outputs": [
    {
     "data": {
      "text/plain": [
       "6"
      ]
     },
     "execution_count": 15,
     "metadata": {},
     "output_type": "execute_result"
    }
   ],
   "source": [
    "len(all_lsts_net)"
   ]
  },
  {
   "cell_type": "code",
   "execution_count": 16,
   "id": "e8fff4c8",
   "metadata": {},
   "outputs": [],
   "source": [
    "df1 = pd.DataFrame()\n",
    "df2 = pd.DataFrame()\n",
    "df3 = pd.DataFrame()\n",
    "df4 = pd.DataFrame()\n",
    "df5 = pd.DataFrame()\n",
    "df6 = pd.DataFrame()\n",
    "lst_dfs = [df1, df2, df3, df4, df5, df6]\n",
    "for i in range(len(all_lsts_clubs)):\n",
    "    lst_dfs[i]['Club'] = all_lsts_clubs[i]\n",
    "    lst_dfs[i]['Expenditure'] = all_lsts_spent[i]\n",
    "    lst_dfs[i]['Net'] = all_lsts_net[i]"
   ]
  },
  {
   "cell_type": "code",
   "execution_count": 17,
   "id": "8e0c7dd7",
   "metadata": {},
   "outputs": [
    {
     "data": {
      "text/html": [
       "<div>\n",
       "<style scoped>\n",
       "    .dataframe tbody tr th:only-of-type {\n",
       "        vertical-align: middle;\n",
       "    }\n",
       "\n",
       "    .dataframe tbody tr th {\n",
       "        vertical-align: top;\n",
       "    }\n",
       "\n",
       "    .dataframe thead th {\n",
       "        text-align: right;\n",
       "    }\n",
       "</style>\n",
       "<table border=\"1\" class=\"dataframe\">\n",
       "  <thead>\n",
       "    <tr style=\"text-align: right;\">\n",
       "      <th></th>\n",
       "      <th>Club</th>\n",
       "      <th>Expenditure</th>\n",
       "      <th>Net</th>\n",
       "    </tr>\n",
       "  </thead>\n",
       "  <tbody>\n",
       "    <tr>\n",
       "      <th>0</th>\n",
       "      <td>Chelsea FC</td>\n",
       "      <td>€469.30m</td>\n",
       "      <td>€-191.45m</td>\n",
       "    </tr>\n",
       "    <tr>\n",
       "      <th>1</th>\n",
       "      <td>Manchester City</td>\n",
       "      <td>€396.09m</td>\n",
       "      <td>€-247.14m</td>\n",
       "    </tr>\n",
       "    <tr>\n",
       "      <th>2</th>\n",
       "      <td>Liverpool FC</td>\n",
       "      <td>€355.85m</td>\n",
       "      <td>€-130.03m</td>\n",
       "    </tr>\n",
       "    <tr>\n",
       "      <th>3</th>\n",
       "      <td>Everton FC</td>\n",
       "      <td>€303.00m</td>\n",
       "      <td>€-147.97m</td>\n",
       "    </tr>\n",
       "    <tr>\n",
       "      <th>4</th>\n",
       "      <td>Manchester United</td>\n",
       "      <td>€281.10m</td>\n",
       "      <td>€-205.05m</td>\n",
       "    </tr>\n",
       "  </tbody>\n",
       "</table>\n",
       "</div>"
      ],
      "text/plain": [
       "                Club Expenditure        Net\n",
       "0         Chelsea FC    €469.30m  €-191.45m\n",
       "1    Manchester City    €396.09m  €-247.14m\n",
       "2       Liverpool FC    €355.85m  €-130.03m\n",
       "3         Everton FC    €303.00m  €-147.97m\n",
       "4  Manchester United    €281.10m  €-205.05m"
      ]
     },
     "execution_count": 17,
     "metadata": {},
     "output_type": "execute_result"
    }
   ],
   "source": [
    "df1.head()"
   ]
  },
  {
   "cell_type": "code",
   "execution_count": 18,
   "id": "64635bf3",
   "metadata": {},
   "outputs": [
    {
     "data": {
      "text/html": [
       "<div>\n",
       "<style scoped>\n",
       "    .dataframe tbody tr th:only-of-type {\n",
       "        vertical-align: middle;\n",
       "    }\n",
       "\n",
       "    .dataframe tbody tr th {\n",
       "        vertical-align: top;\n",
       "    }\n",
       "\n",
       "    .dataframe thead th {\n",
       "        text-align: right;\n",
       "    }\n",
       "</style>\n",
       "<table border=\"1\" class=\"dataframe\">\n",
       "  <thead>\n",
       "    <tr style=\"text-align: right;\">\n",
       "      <th></th>\n",
       "      <th>Club</th>\n",
       "      <th>Expenditure</th>\n",
       "      <th>Net</th>\n",
       "    </tr>\n",
       "  </thead>\n",
       "  <tbody>\n",
       "    <tr>\n",
       "      <th>0</th>\n",
       "      <td>Manchester United</td>\n",
       "      <td>€317.50m</td>\n",
       "      <td>€-205.77m</td>\n",
       "    </tr>\n",
       "    <tr>\n",
       "      <th>1</th>\n",
       "      <td>Chelsea FC</td>\n",
       "      <td>€253.80m</td>\n",
       "      <td>€-13.28m</td>\n",
       "    </tr>\n",
       "    <tr>\n",
       "      <th>2</th>\n",
       "      <td>Arsenal FC</td>\n",
       "      <td>€240.95m</td>\n",
       "      <td>€-178.20m</td>\n",
       "    </tr>\n",
       "    <tr>\n",
       "      <th>3</th>\n",
       "      <td>Manchester City</td>\n",
       "      <td>€238.11m</td>\n",
       "      <td>€-109.51m</td>\n",
       "    </tr>\n",
       "    <tr>\n",
       "      <th>4</th>\n",
       "      <td>Wolverhampton Wanderers</td>\n",
       "      <td>€229.45m</td>\n",
       "      <td>€-182.05m</td>\n",
       "    </tr>\n",
       "  </tbody>\n",
       "</table>\n",
       "</div>"
      ],
      "text/plain": [
       "                      Club Expenditure        Net\n",
       "0        Manchester United    €317.50m  €-205.77m\n",
       "1               Chelsea FC    €253.80m   €-13.28m\n",
       "2               Arsenal FC    €240.95m  €-178.20m\n",
       "3          Manchester City    €238.11m  €-109.51m\n",
       "4  Wolverhampton Wanderers    €229.45m  €-182.05m"
      ]
     },
     "execution_count": 18,
     "metadata": {},
     "output_type": "execute_result"
    }
   ],
   "source": [
    "df2.head()"
   ]
  },
  {
   "cell_type": "code",
   "execution_count": 19,
   "id": "4fdeb532",
   "metadata": {},
   "outputs": [
    {
     "data": {
      "text/html": [
       "<div>\n",
       "<style scoped>\n",
       "    .dataframe tbody tr th:only-of-type {\n",
       "        vertical-align: middle;\n",
       "    }\n",
       "\n",
       "    .dataframe tbody tr th {\n",
       "        vertical-align: top;\n",
       "    }\n",
       "\n",
       "    .dataframe thead th {\n",
       "        text-align: right;\n",
       "    }\n",
       "</style>\n",
       "<table border=\"1\" class=\"dataframe\">\n",
       "  <thead>\n",
       "    <tr style=\"text-align: right;\">\n",
       "      <th></th>\n",
       "      <th>Club</th>\n",
       "      <th>Expenditure</th>\n",
       "      <th>Net</th>\n",
       "    </tr>\n",
       "  </thead>\n",
       "  <tbody>\n",
       "    <tr>\n",
       "      <th>0</th>\n",
       "      <td>Chelsea FC</td>\n",
       "      <td>€611.49m</td>\n",
       "      <td>€-543.66m</td>\n",
       "    </tr>\n",
       "    <tr>\n",
       "      <th>1</th>\n",
       "      <td>Manchester United</td>\n",
       "      <td>€243.28m</td>\n",
       "      <td>€-230.03m</td>\n",
       "    </tr>\n",
       "    <tr>\n",
       "      <th>2</th>\n",
       "      <td>West Ham United</td>\n",
       "      <td>€194.00m</td>\n",
       "      <td>€-172.45m</td>\n",
       "    </tr>\n",
       "    <tr>\n",
       "      <th>3</th>\n",
       "      <td>Arsenal FC</td>\n",
       "      <td>€192.36m</td>\n",
       "      <td>€-168.56m</td>\n",
       "    </tr>\n",
       "    <tr>\n",
       "      <th>4</th>\n",
       "      <td>Wolverhampton Wanderers</td>\n",
       "      <td>€188.11m</td>\n",
       "      <td>€-127.74m</td>\n",
       "    </tr>\n",
       "  </tbody>\n",
       "</table>\n",
       "</div>"
      ],
      "text/plain": [
       "                      Club Expenditure        Net\n",
       "0               Chelsea FC    €611.49m  €-543.66m\n",
       "1        Manchester United    €243.28m  €-230.03m\n",
       "2          West Ham United    €194.00m  €-172.45m\n",
       "3               Arsenal FC    €192.36m  €-168.56m\n",
       "4  Wolverhampton Wanderers    €188.11m  €-127.74m"
      ]
     },
     "execution_count": 19,
     "metadata": {},
     "output_type": "execute_result"
    }
   ],
   "source": [
    "df6.head()"
   ]
  },
  {
   "cell_type": "code",
   "execution_count": 20,
   "id": "83b5e01c",
   "metadata": {},
   "outputs": [],
   "source": [
    "df1.to_csv('datasets/scrapeddata/clubs-spent-1718')\n",
    "df2.to_csv('datasets/scrapeddata/clubs-spent-1819')\n",
    "df3.to_csv('datasets/scrapeddata/clubs-spent-1920')\n",
    "df4.to_csv('datasets/scrapeddata/clubs-spent-2021')\n",
    "df5.to_csv('datasets/scrapeddata/clubs-spent-2122')\n",
    "df6.to_csv('datasets/scrapeddata/clubs-spent-2223')"
   ]
  },
  {
   "cell_type": "markdown",
   "id": "1ea7e6a6",
   "metadata": {},
   "source": [
    "### Scrape Wages\n",
    "Scraped from [spotrac](https://www.spotrac.com/epl/payroll/2017/)."
   ]
  },
  {
   "cell_type": "code",
   "execution_count": 45,
   "id": "c92dfe05",
   "metadata": {},
   "outputs": [
    {
     "name": "stderr",
     "output_type": "stream",
     "text": [
      "C:\\Users\\user\\AppData\\Local\\Temp/ipykernel_13916/337686111.py:3: DeprecationWarning: find_elements_by_* commands are deprecated. Please use find_elements() instead\n",
      "  for person in driver.find_elements_by_class_name('parent'):\n"
     ]
    }
   ],
   "source": [
    "persons = []\n",
    "driver.get(\"https://www.spotrac.com/epl/payroll/\")\n",
    "for person in driver.find_elements_by_class_name('parent'):\n",
    "    title = person.find_element_by_xpath('.//td[@class=\"result center\"]').text\n",
    "    company = person.find_element_by_xpath('.//td[@class=\" player noborderleft\"]').text\n",
    "\n",
    "    persons.append({'title': title, 'company': company})"
   ]
  },
  {
   "cell_type": "code",
   "execution_count": 46,
   "id": "0dd96e81",
   "metadata": {},
   "outputs": [
    {
     "data": {
      "text/plain": [
       "[{'title': '£211,875,000', 'company': 'Manchester United F.C.'},\n",
       " {'title': '£204,290,000', 'company': 'Chelsea F.C.'},\n",
       " {'title': '£182,640,000', 'company': 'Manchester City F.C.'},\n",
       " {'title': '£158,788,000', 'company': 'Liverpool F.C.'},\n",
       " {'title': '£110,438,000', 'company': 'Tottenham Hotspur F.C.'},\n",
       " {'title': '£97,878,000', 'company': 'Arsenal F.C.'},\n",
       " {'title': '£89,880,000', 'company': 'Aston Villa F.C.'},\n",
       " {'title': '£80,707,000', 'company': 'Everton F.C.'},\n",
       " {'title': '£80,060,000', 'company': 'West Ham United F.C.'},\n",
       " {'title': '£76,220,600', 'company': 'Newcastle United F.C.'},\n",
       " {'title': '£73,190,000', 'company': 'Leicester City'},\n",
       " {'title': '£67,624,000', 'company': 'Crystal Palace'},\n",
       " {'title': '£66,680,000', 'company': 'Nottingham Forest F.C.'},\n",
       " {'title': '£58,748,000', 'company': 'Fulham F.C.'},\n",
       " {'title': '£53,118,000', 'company': 'Wolverhampton Wanderers F.C.'},\n",
       " {'title': '£51,496,000', 'company': 'Southampton F.C.'},\n",
       " {'title': '£48,100,000', 'company': 'Leeds United F.C.'},\n",
       " {'title': '£39,936,000', 'company': 'AFC Bournemouth'},\n",
       " {'title': '£35,685,000', 'company': 'Brighton & Hove Albion'},\n",
       " {'title': '£30,170,000', 'company': 'Brentford F.C.'},\n",
       " {'title': '£9,146,400', 'company': 'Sheffield United F.C.'},\n",
       " {'title': '£7,056,200', 'company': 'West Bromwich Albion F.C.'},\n",
       " {'title': '£182,000', 'company': 'Queens Park Rangers F.C.'},\n",
       " {'title': '£40,000', 'company': 'Stoke City F.C.'},\n",
       " {'title': '£0', 'company': 'Reading F.C.'},\n",
       " {'title': '£0', 'company': 'Sunderland A.F.C.'},\n",
       " {'title': '£0', 'company': 'Swansea City A.F.C.'},\n",
       " {'title': '£0', 'company': 'Wigan Athletic F.C.'},\n",
       " {'title': '£0', 'company': 'Hull City F.C.'},\n",
       " {'title': '£0', 'company': 'Middlesbrough'},\n",
       " {'title': '£0', 'company': 'Huddersfield Town'},\n",
       " {'title': '£0', 'company': 'Barnsley F.C.'},\n",
       " {'title': '£0', 'company': 'Birmingham City F.C.'},\n",
       " {'title': '£0', 'company': 'Bolton Wanderers F.C.'},\n",
       " {'title': '£0', 'company': 'Bristol City F.C.'},\n",
       " {'title': '£0', 'company': 'Burton Albion F.C.'},\n",
       " {'title': '£0', 'company': 'Derby County F.C.'},\n",
       " {'title': '£0', 'company': 'Cardiff City F.C.'},\n",
       " {'title': '£0', 'company': 'Ipswich Town F.C.'},\n",
       " {'title': '£0', 'company': 'Millwall F.C.'},\n",
       " {'title': '£0', 'company': 'Preston North End F.C.'},\n",
       " {'title': '£0', 'company': 'Sheffield Wednesday F.C.'}]"
      ]
     },
     "execution_count": 46,
     "metadata": {},
     "output_type": "execute_result"
    }
   ],
   "source": [
    "persons"
   ]
  },
  {
   "cell_type": "code",
   "execution_count": null,
   "id": "75c13129",
   "metadata": {},
   "outputs": [],
   "source": [
    "len(lst_wage)"
   ]
  },
  {
   "cell_type": "code",
   "execution_count": 47,
   "id": "16569140",
   "metadata": {},
   "outputs": [
    {
     "name": "stderr",
     "output_type": "stream",
     "text": [
      "C:\\Users\\user\\AppData\\Local\\Temp/ipykernel_13916/1797001495.py:9: DeprecationWarning: find_elements_by_* commands are deprecated. Please use find_elements() instead\n",
      "  for person in driver.find_elements_by_class_name('parent'):\n"
     ]
    }
   ],
   "source": [
    "yrs_wages = [2017,2018,2019,2020,2021,\"\"]\n",
    "clubs_wage_lst = []\n",
    "wage_list = []\n",
    "for j in range(len(yrs_wages)):\n",
    "    clbs = []\n",
    "    wges = []\n",
    "    link = \"https://www.spotrac.com/epl/payroll/\" + str(yrs_wages[j])\n",
    "    driver.get(link)\n",
    "    for person in driver.find_elements_by_class_name('parent'):\n",
    "        cost = person.find_element_by_xpath('.//td[@class=\"result center\"]').text\n",
    "        company = person.find_element_by_xpath('.//td[@class=\" player noborderleft\"]').text\n",
    "        clbs.append(company)\n",
    "        wges.append(cost)\n",
    "    clubs_wage_lst.append(clbs)\n",
    "    wage_list.append(wges)\n",
    "\n",
    "    # result center\n",
    "    #print(lst_wage)"
   ]
  },
  {
   "cell_type": "code",
   "execution_count": 51,
   "id": "f5df3e25",
   "metadata": {},
   "outputs": [
    {
     "data": {
      "text/plain": [
       "6"
      ]
     },
     "execution_count": 51,
     "metadata": {},
     "output_type": "execute_result"
    }
   ],
   "source": [
    "len(clubs_wage_lst)"
   ]
  },
  {
   "cell_type": "code",
   "execution_count": 54,
   "id": "b9f5a1f3",
   "metadata": {},
   "outputs": [],
   "source": [
    "df11 = pd.DataFrame()\n",
    "df21 = pd.DataFrame()\n",
    "df31 = pd.DataFrame()\n",
    "df41 = pd.DataFrame()\n",
    "df51 = pd.DataFrame()\n",
    "df61 = pd.DataFrame()\n",
    "lst_dfs_wage = [df11, df21, df31, df41, df51, df61]\n",
    "for i in range(len(clubs_wage_lst)):\n",
    "    lst_dfs_wage[i]['Club'] = clubs_wage_lst[i]\n",
    "    lst_dfs_wage[i]['WageBill'] = wage_list[i]"
   ]
  },
  {
   "cell_type": "code",
   "execution_count": 59,
   "id": "d5c23fb5",
   "metadata": {},
   "outputs": [
    {
     "data": {
      "text/plain": [
       "(42, 2)"
      ]
     },
     "execution_count": 59,
     "metadata": {},
     "output_type": "execute_result"
    }
   ],
   "source": [
    "df61.shape"
   ]
  },
  {
   "cell_type": "code",
   "execution_count": 58,
   "id": "eb01fba5",
   "metadata": {},
   "outputs": [
    {
     "data": {
      "text/plain": [
       "['Chelsea FC',\n",
       " 'Manchester City',\n",
       " 'Liverpool FC',\n",
       " 'Everton FC',\n",
       " 'Manchester United',\n",
       " 'Arsenal FC',\n",
       " 'Leicester City',\n",
       " 'West Ham United',\n",
       " 'Brighton & Hove Albion',\n",
       " 'Wolverhampton Wanderers',\n",
       " 'Fulham FC',\n",
       " 'AFC Bournemouth',\n",
       " 'Tottenham Hotspur',\n",
       " 'Southampton FC',\n",
       " 'Stoke City',\n",
       " 'Huddersfield Town',\n",
       " 'Newcastle United',\n",
       " 'Watford FC',\n",
       " 'Swansea City',\n",
       " 'Burnley FC',\n",
       " 'West Bromwich Albion',\n",
       " 'Crystal Palace',\n",
       " 'Cardiff City']"
      ]
     },
     "execution_count": 58,
     "metadata": {},
     "output_type": "execute_result"
    }
   ],
   "source": [
    "list(df1.Club.unique())"
   ]
  },
  {
   "cell_type": "code",
   "execution_count": 67,
   "id": "7e7fc326",
   "metadata": {},
   "outputs": [],
   "source": [
    "df11.to_csv('datasets/scrapeddata/clubs-wage-1718')\n",
    "df21.to_csv('datasets/scrapeddata/clubs-wage-1819')\n",
    "df31.to_csv('datasets/scrapeddata/clubs-wage-1920')\n",
    "df41.to_csv('datasets/scrapeddata/clubs-wage-2021')\n",
    "df51.to_csv('datasets/scrapeddata/clubs-wage-2122')\n",
    "df61.to_csv('datasets/scrapeddata/clubs-wage-2223')"
   ]
  }
 ],
 "metadata": {
  "kernelspec": {
   "display_name": "Python 3 (ipykernel)",
   "language": "python",
   "name": "python3"
  },
  "language_info": {
   "codemirror_mode": {
    "name": "ipython",
    "version": 3
   },
   "file_extension": ".py",
   "mimetype": "text/x-python",
   "name": "python",
   "nbconvert_exporter": "python",
   "pygments_lexer": "ipython3",
   "version": "3.8.12"
  }
 },
 "nbformat": 4,
 "nbformat_minor": 5
}
