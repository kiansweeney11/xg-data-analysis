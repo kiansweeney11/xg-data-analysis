{
 "cells": [
  {
   "cell_type": "code",
   "execution_count": 1,
   "id": "8ab99300",
   "metadata": {},
   "outputs": [
    {
     "name": "stdout",
     "output_type": "stream",
     "text": [
      "Imported Libraries Successfully!\n"
     ]
    }
   ],
   "source": [
    "import pandas as pd\n",
    "import matplotlib.pyplot as plt\n",
    "import numpy as np\n",
    "\n",
    "print(\"Imported Libraries Successfully!\")"
   ]
  },
  {
   "cell_type": "code",
   "execution_count": 2,
   "id": "7f5fc5ce",
   "metadata": {},
   "outputs": [
    {
     "name": "stdout",
     "output_type": "stream",
     "text": [
      "['brighton-matches-s1.csv', 'brighton-matches-s2.csv', 'hudds-matches-s1.csv', 'hudds-matches-s2.csv', 'leeds-matches-s1.csv', 'leeds-matches-s2.csv', 'newcastle-matches-s1.csv', 'newcastle-matches-s2.csv', 'sheffutd-matches-s1.csv', 'sheffutd-matches-s2.csv', 'villa-matches-s1.csv', 'villa-matches-s2.csv', 'wolves-matches-s1.csv', 'wolves-matches-s2.csv']\n",
      "14\n"
     ]
    }
   ],
   "source": [
    "import os\n",
    "import glob\n",
    "\n",
    "path = 'C:/Users/user/Desktop/xg-data-analysis/time-series-analysis/xPData'\n",
    "extension = 'csv'\n",
    "os.chdir(path)\n",
    "result = glob.glob('*.{}'.format(extension))\n",
    "print(result)\n",
    "print(len(result))"
   ]
  },
  {
   "cell_type": "code",
   "execution_count": 3,
   "id": "0c7c3161",
   "metadata": {},
   "outputs": [],
   "source": [
    "### lets try to see home vs away form\n",
    "### normally teams coming up from EFL are told they need to make x ground \"a fortress\"\n",
    "### lets see the potential impact of home/away form"
   ]
  },
  {
   "cell_type": "code",
   "execution_count": 4,
   "id": "4be38944",
   "metadata": {},
   "outputs": [],
   "source": [
    "outputdfs = ['C:/Users/user/Desktop/xg-data-analysis/time-series-analysis/home-away/brighton-sum-s1.csv', \n",
    "             'C:/Users/user/Desktop/xg-data-analysis/time-series-analysis/home-away/brighton-sum-s2.csv',\n",
    "            'C:/Users/user/Desktop/xg-data-analysis/time-series-analysis/home-away/hudds-matches-s1.csv', \n",
    "             'C:/Users/user/Desktop/xg-data-analysis/time-series-analysis/home-away/hudds-matches-s2.csv',\n",
    "            'C:/Users/user/Desktop/xg-data-analysis/time-series-analysis/home-away/newcastle-matches-s1.csv', \n",
    "             'C:/Users/user/Desktop/xg-data-analysis/time-series-analysis/home-away/newcastle-matches-s2.csv',\n",
    "            'C:/Users/user/Desktop/xg-data-analysis/time-series-analysis/home-away/sheffutd-matches-s1.csv', \n",
    "             'C:/Users/user/Desktop/xg-data-analysis/time-series-analysis/home-away/sheffutd-matches-s2.csv',\n",
    "            'C:/Users/user/Desktop/xg-data-analysis/time-series-analysis/home-away/villa-matches-s1.csv', \n",
    "             'C:/Users/user/Desktop/xg-data-analysis/time-series-analysis/home-away/villa-matches-s2.csv',\n",
    "            'C:/Users/user/Desktop/xg-data-analysis/time-series-analysis/home-away/wolves-matches-s1.csv', \n",
    "             'C:/Users/user/Desktop/xg-data-analysis/time-series-analysis/home-away/wolves-matches-s2.csv']"
   ]
  },
  {
   "cell_type": "code",
   "execution_count": 5,
   "id": "98c7658a",
   "metadata": {},
   "outputs": [],
   "source": [
    "home_gf = []\n",
    "home_ga = []\n",
    "home_xg = []\n",
    "home_xga = []\n",
    "away_gf = []\n",
    "away_ga = []\n",
    "away_xg = []\n",
    "away_xga = []\n",
    "def subset_home_scores(list_dfs):\n",
    "    for index, val in enumerate(list_dfs):\n",
    "        csvfile = pd.read_csv(val, encoding = 'iso-8859-1')\n",
    "        #print(csvfile)\n",
    "        home_df = csvfile.loc[csvfile['Venue'] == \"Home\"]\n",
    "        away_df = csvfile.loc[csvfile['Venue'] == \"Away\"]\n",
    "        sum_gf_h = home_df['GF'].sum()\n",
    "        sum_ga_h = home_df['GA'].sum()\n",
    "        sum_xg_h = home_df['xG'].sum()\n",
    "        sum_xga_h = home_df['xGA'].sum()\n",
    "        ## append to lists\n",
    "        home_gf.append(sum_gf_h)\n",
    "        home_ga.append(sum_ga_h)\n",
    "        home_xg.append(sum_xg_h)\n",
    "        home_xga.append(sum_xga_h)\n",
    "        # now away data\n",
    "        sum_gf_a = away_df['GF'].sum()\n",
    "        sum_ga_a = away_df['GA'].sum()\n",
    "        sum_xg_a = away_df['xG'].sum()\n",
    "        sum_xga_a = away_df['xGA'].sum()\n",
    "        # append to away lists\n",
    "        away_gf.append(sum_gf_a)\n",
    "        away_ga.append(sum_ga_a)\n",
    "        away_xg.append(sum_xg_a)\n",
    "        away_xga.append(sum_xga_a)"
   ]
  },
  {
   "cell_type": "code",
   "execution_count": 6,
   "id": "7434c57e",
   "metadata": {},
   "outputs": [],
   "source": [
    "subset_home_scores(result)"
   ]
  },
  {
   "cell_type": "code",
   "execution_count": 7,
   "id": "c0106a9c",
   "metadata": {},
   "outputs": [],
   "source": [
    "home_away_res_df = pd.DataFrame()\n",
    "teams = ['Brighton S1', 'Brighton S2', 'Huddersfield S1', 'Huddersfield S2', 'Leeds S1', 'Leeds S2', 'Newcastle S1',\n",
    "        'Newcastle S2', 'Sheffield United S1', 'Sheffield United S2', 'Aston Villa S1', 'Aston Villa S2', 'Wolves S1', 'Wolves S2']"
   ]
  },
  {
   "cell_type": "code",
   "execution_count": 8,
   "id": "2c0e257c",
   "metadata": {},
   "outputs": [
    {
     "data": {
      "text/html": [
       "<div>\n",
       "<style scoped>\n",
       "    .dataframe tbody tr th:only-of-type {\n",
       "        vertical-align: middle;\n",
       "    }\n",
       "\n",
       "    .dataframe tbody tr th {\n",
       "        vertical-align: top;\n",
       "    }\n",
       "\n",
       "    .dataframe thead th {\n",
       "        text-align: right;\n",
       "    }\n",
       "</style>\n",
       "<table border=\"1\" class=\"dataframe\">\n",
       "  <thead>\n",
       "    <tr style=\"text-align: right;\">\n",
       "      <th></th>\n",
       "      <th>Teams</th>\n",
       "      <th>HomeGF</th>\n",
       "      <th>HomeGA</th>\n",
       "      <th>HomexG</th>\n",
       "      <th>HomexGA</th>\n",
       "      <th>AwayGF</th>\n",
       "      <th>AwayGA</th>\n",
       "      <th>AwayxG</th>\n",
       "      <th>AwayxGA</th>\n",
       "    </tr>\n",
       "  </thead>\n",
       "  <tbody>\n",
       "    <tr>\n",
       "      <th>0</th>\n",
       "      <td>Brighton S1</td>\n",
       "      <td>24</td>\n",
       "      <td>25</td>\n",
       "      <td>23.8</td>\n",
       "      <td>22.0</td>\n",
       "      <td>10</td>\n",
       "      <td>29</td>\n",
       "      <td>13.4</td>\n",
       "      <td>28.7</td>\n",
       "    </tr>\n",
       "  </tbody>\n",
       "</table>\n",
       "</div>"
      ],
      "text/plain": [
       "         Teams  HomeGF  HomeGA  HomexG  HomexGA  AwayGF  AwayGA  AwayxG  \\\n",
       "0  Brighton S1      24      25    23.8     22.0      10      29    13.4   \n",
       "\n",
       "   AwayxGA  \n",
       "0     28.7  "
      ]
     },
     "execution_count": 8,
     "metadata": {},
     "output_type": "execute_result"
    }
   ],
   "source": [
    "home_away_res_df['Teams'] = teams\n",
    "home_away_res_df['HomeGF'] = home_gf\n",
    "home_away_res_df['HomeGA'] = home_ga\n",
    "home_away_res_df['HomexG'] = home_xg\n",
    "home_away_res_df['HomexGA'] = home_xga\n",
    "## away\n",
    "home_away_res_df['AwayGF'] = away_gf\n",
    "home_away_res_df['AwayGA'] = away_ga\n",
    "home_away_res_df['AwayxG'] = away_xg\n",
    "home_away_res_df['AwayxGA'] = away_xga\n",
    "\n",
    "home_away_res_df.head(1)"
   ]
  },
  {
   "cell_type": "code",
   "execution_count": 18,
   "id": "a159ba5e",
   "metadata": {},
   "outputs": [],
   "source": [
    "## change directory back\n",
    "path = 'C:/Users/user/Desktop/xg-data-analysis/datasets/home-away-form'\n",
    "os.chdir(path)\n",
    "home_away_res_df.to_csv(\"home-away-stats.csv\")"
   ]
  }
 ],
 "metadata": {
  "kernelspec": {
   "display_name": "Python 3 (ipykernel)",
   "language": "python",
   "name": "python3"
  },
  "language_info": {
   "codemirror_mode": {
    "name": "ipython",
    "version": 3
   },
   "file_extension": ".py",
   "mimetype": "text/x-python",
   "name": "python",
   "nbconvert_exporter": "python",
   "pygments_lexer": "ipython3",
   "version": "3.8.12"
  }
 },
 "nbformat": 4,
 "nbformat_minor": 5
}
