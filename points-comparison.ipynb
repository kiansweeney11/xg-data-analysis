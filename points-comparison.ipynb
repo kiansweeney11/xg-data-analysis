{
 "cells": [
  {
   "cell_type": "code",
   "execution_count": 1,
   "id": "669af867",
   "metadata": {},
   "outputs": [
    {
     "name": "stdout",
     "output_type": "stream",
     "text": [
      "Packages for Mathematical Computation and visualization imported!\n"
     ]
    }
   ],
   "source": [
    "import pandas as pd\n",
    "import numpy as np\n",
    "\n",
    "from IPython.display import display\n",
    "\n",
    "%matplotlib inline\n",
    "import matplotlib.pyplot as plt  # Matlab-style plotting\n",
    "from IPython.display import display\n",
    "import seaborn as sns\n",
    "color = sns.color_palette()\n",
    "sns.set_style('darkgrid')\n",
    "print('Packages for Mathematical Computation and visualization imported!')"
   ]
  },
  {
   "cell_type": "code",
   "execution_count": 6,
   "id": "da916cc0",
   "metadata": {},
   "outputs": [],
   "source": [
    "leeds_s1 = pd.read_csv(\"datasets\\cleanedbasic\\leeds20-21.csv\")\n",
    "leeds_s2 = pd.read_csv(\"datasets\\cleanedbasic\\leeds21-22.csv\")\n",
    "# hudds\n",
    "hudds_s1 = pd.read_csv(\"datasets\\cleanedbasic\\hudds17-18.csv\")\n",
    "hudds_s2 = pd.read_csv(\"datasets\\cleanedbasic\\hudds18-19.csv\")\n",
    "# brighton\n",
    "bri_s1 = pd.read_csv(\"datasets/cleanedbasic/brighton17-18.csv\")\n",
    "bri_s2 = pd.read_csv(\"datasets/cleanedbasic/brighton18-19.csv\")\n",
    "# newcastle\n",
    "new_s1 = pd.read_csv(\"datasets/cleanedbasic/newcastle17-18.csv\")\n",
    "new_s2 = pd.read_csv(\"datasets/cleanedbasic/newcastle18-19.csv\")\n",
    "# sheff utd\n",
    "sheff_s1 = pd.read_csv(\"datasets/cleanedbasic/sheffutd19-20.csv\")\n",
    "sheff_s2 = pd.read_csv(\"datasets/cleanedbasic/sheffutd20-21.csv\")\n",
    "# aston villa\n",
    "villa_s1 = pd.read_csv(\"datasets/cleanedbasic/villa19-20.csv\")\n",
    "villa_s2 = pd.read_csv(\"datasets/cleanedbasic/villa20-21.csv\")\n",
    "# wolves\n",
    "wolves_s1 = pd.read_csv(\"datasets/cleanedbasic/wolves18-19.csv\")\n",
    "wolves_s2 = pd.read_csv(\"datasets/cleanedbasic/wolves19-20.csv\")"
   ]
  },
  {
   "cell_type": "code",
   "execution_count": 8,
   "id": "053c939f",
   "metadata": {},
   "outputs": [],
   "source": [
    "season_1 = ['leeds_s1', 'hudds_s1', 'bri_s1', 'new_s1', 'sheff_s1', 'villa_s1', 'wolves_s1']\n",
    "season_2 = ['leeds_s2', 'hudds_s2', 'bri_s2', 'new_s2', 'sheff_s2', 'villa_s2', 'wolves_s2']"
   ]
  },
  {
   "cell_type": "code",
   "execution_count": 10,
   "id": "21a55610",
   "metadata": {},
   "outputs": [
    {
     "data": {
      "text/html": [
       "<div>\n",
       "<style scoped>\n",
       "    .dataframe tbody tr th:only-of-type {\n",
       "        vertical-align: middle;\n",
       "    }\n",
       "\n",
       "    .dataframe tbody tr th {\n",
       "        vertical-align: top;\n",
       "    }\n",
       "\n",
       "    .dataframe thead th {\n",
       "        text-align: right;\n",
       "    }\n",
       "</style>\n",
       "<table border=\"1\" class=\"dataframe\">\n",
       "  <thead>\n",
       "    <tr style=\"text-align: right;\">\n",
       "      <th></th>\n",
       "      <th>Player</th>\n",
       "      <th>Nation</th>\n",
       "      <th>Pos</th>\n",
       "      <th>Age</th>\n",
       "      <th>MP</th>\n",
       "      <th>Starts</th>\n",
       "      <th>Min</th>\n",
       "      <th>90s</th>\n",
       "      <th>Gls</th>\n",
       "      <th>Ast</th>\n",
       "      <th>...</th>\n",
       "      <th>Per90G+A-PK</th>\n",
       "      <th>xG</th>\n",
       "      <th>npxG</th>\n",
       "      <th>xA</th>\n",
       "      <th>npxG+xAG</th>\n",
       "      <th>Per90xG</th>\n",
       "      <th>Per90xA</th>\n",
       "      <th>Per90xG+xA</th>\n",
       "      <th>Per90npxG</th>\n",
       "      <th>Per90npxG+xAG</th>\n",
       "    </tr>\n",
       "  </thead>\n",
       "  <tbody>\n",
       "    <tr>\n",
       "      <th>23</th>\n",
       "      <td>Squad Total</td>\n",
       "      <td>NaN</td>\n",
       "      <td>NaN</td>\n",
       "      <td>26.1</td>\n",
       "      <td>38</td>\n",
       "      <td>418</td>\n",
       "      <td>3420</td>\n",
       "      <td>38.0</td>\n",
       "      <td>60</td>\n",
       "      <td>45</td>\n",
       "      <td>...</td>\n",
       "      <td>2.66</td>\n",
       "      <td>55.6</td>\n",
       "      <td>52.5</td>\n",
       "      <td>41.9</td>\n",
       "      <td>94.3</td>\n",
       "      <td>1.46</td>\n",
       "      <td>1.1</td>\n",
       "      <td>2.57</td>\n",
       "      <td>1.38</td>\n",
       "      <td>2.48</td>\n",
       "    </tr>\n",
       "  </tbody>\n",
       "</table>\n",
       "<p>1 rows × 29 columns</p>\n",
       "</div>"
      ],
      "text/plain": [
       "         Player Nation  Pos   Age  MP  Starts   Min   90s  Gls  Ast  ...  \\\n",
       "23  Squad Total    NaN  NaN  26.1  38     418  3420  38.0   60   45  ...   \n",
       "\n",
       "    Per90G+A-PK    xG  npxG    xA  npxG+xAG  Per90xG  Per90xA  Per90xG+xA  \\\n",
       "23         2.66  55.6  52.5  41.9      94.3     1.46      1.1        2.57   \n",
       "\n",
       "    Per90npxG  Per90npxG+xAG  \n",
       "23       1.38           2.48  \n",
       "\n",
       "[1 rows x 29 columns]"
      ]
     },
     "execution_count": 10,
     "metadata": {},
     "output_type": "execute_result"
    }
   ],
   "source": [
    "leeds_s1.loc[leeds_s1['Player'] == 'Squad Total']"
   ]
  },
  {
   "cell_type": "code",
   "execution_count": null,
   "id": "49830763",
   "metadata": {},
   "outputs": [],
   "source": []
  }
 ],
 "metadata": {
  "kernelspec": {
   "display_name": "Python 3 (ipykernel)",
   "language": "python",
   "name": "python3"
  },
  "language_info": {
   "codemirror_mode": {
    "name": "ipython",
    "version": 3
   },
   "file_extension": ".py",
   "mimetype": "text/x-python",
   "name": "python",
   "nbconvert_exporter": "python",
   "pygments_lexer": "ipython3",
   "version": "3.8.12"
  }
 },
 "nbformat": 4,
 "nbformat_minor": 5
}
