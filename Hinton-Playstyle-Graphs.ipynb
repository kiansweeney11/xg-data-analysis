{
 "cells": [
  {
   "cell_type": "code",
   "execution_count": 1,
   "metadata": {},
   "outputs": [],
   "source": [
    "%matplotlib inline"
   ]
  },
  {
   "cell_type": "markdown",
   "metadata": {},
   "source": [
    "\n",
    "# Hinton diagrams\n",
    "\n",
    "Hinton diagrams are useful for visualizing the values of a 2D array (e.g.\n",
    "a weight matrix): Positive and negative values are represented by white and\n",
    "black squares, respectively, and the size of each square represents the\n",
    "magnitude of each value.\n",
    "\n",
    "Initial idea from David Warde-Farley on the SciPy Cookbook\n"
   ]
  },
  {
   "cell_type": "code",
   "execution_count": 48,
   "metadata": {},
   "outputs": [
    {
     "data": {
      "image/png": "[encoded data removed]",
      "text/plain": [
       "<Figure size 432x288 with 1 Axes>"
      ]
     },
     "metadata": {},
     "output_type": "display_data"
    }
   ],
   "source": [
    "import numpy as np\n",
    "import matplotlib.pyplot as plt\n",
    "import pandas as pd\n",
    "import matplotlib.pyplot as plt\n",
    "import matplotlib.colors as colors\n",
    "import matplotlib.cm as cm\n",
    "import numpy as np\n",
    "\n",
    "xs = np.arange(10)\n",
    "ys = np.arange(10,20)\n",
    "# the intensity of each data point\n",
    "intensities = np.random.rand()\n",
    "coolwarm = plt.get_cmap('coolwarm')\n",
    "my_norm = colors.Normalize(0, 1)\n",
    "map = cm.ScalarMappable(norm = my_norm, cmap = 'Blues')\n",
    "\n",
    "\n",
    "def hinton(matrix, max_weight=None, ax=None):\n",
    "    \"\"\"Draw Hinton diagram for visualizing a weight matrix.\"\"\"\n",
    "    ax = ax if ax is not None else plt.gca()\n",
    "\n",
    "    if not max_weight:\n",
    "        max_weight = 2 ** np.ceil(np.log2(np.abs(matrix).max()))\n",
    "\n",
    "    ax.patch.set_facecolor('white')\n",
    "    ax.set_aspect('equal', 'box')\n",
    "    ax.xaxis.set_major_locator(plt.NullLocator())\n",
    "    ax.yaxis.set_major_locator(plt.NullLocator())\n",
    "\n",
    "    for (x, y), w in np.ndenumerate(matrix):\n",
    "        color = 'black'\n",
    "        size = np.sqrt(abs(w) / max_weight)\n",
    "        # colour with respect to xg?\n",
    "        my_col = map.to_rgba(size)\n",
    "        rect = plt.Rectangle([x - size / 2, y - size / 2], size, size, facecolor = my_col, edgecolor = color)\n",
    "        # , edgecolor=color\n",
    "        ax.add_patch(rect)\n",
    "\n",
    "    ax.autoscale_view()\n",
    "    ax.invert_yaxis()\n",
    "\n",
    "\n",
    "if __name__ == '__main__':\n",
    "    # Fixing random state for reproducibility\n",
    "    np.random.seed(19680801)\n",
    "\n",
    "    hinton(np.random.rand(20, 20) - 0.5)\n",
    "    plt.show()"
   ]
  },
  {
   "cell_type": "code",
   "execution_count": 45,
   "metadata": {},
   "outputs": [
    {
     "data": {
      "text/plain": [
       "0.5764463372544535"
      ]
     },
     "execution_count": 45,
     "metadata": {},
     "output_type": "execute_result"
    }
   ],
   "source": [
    "intensities"
   ]
  },
  {
   "cell_type": "code",
   "execution_count": 3,
   "metadata": {},
   "outputs": [],
   "source": [
    "#!pip install mpltools\n",
    "from mpltools import special"
   ]
  },
  {
   "cell_type": "code",
   "execution_count": 4,
   "metadata": {},
   "outputs": [],
   "source": [
    "import os\n",
    "import glob\n",
    "\n",
    "path = 'C:/Users/user/Desktop/xg-data-analysis/datasets/cleanedAdvanced'\n",
    "extension = 'csv'\n",
    "os.chdir(path)\n",
    "results = glob.glob('*pass*.{}'.format(extension))"
   ]
  },
  {
   "cell_type": "code",
   "execution_count": 5,
   "metadata": {},
   "outputs": [
    {
     "data": {
      "text/plain": [
       "['huddersfield-pass1718-cleaned.csv',\n",
       " 'huddersfield-pass1819-cleaned.csv',\n",
       " 'leeds-pass2021-cleaned.csv',\n",
       " 'leeds-pass2122-cleaned.csv',\n",
       " 'newcastle-pass1718-cleaned.csv',\n",
       " 'newcastle-pass1819-cleaned.csv',\n",
       " 'sheffutd-pass1920-cleaned.csv',\n",
       " 'sheffutd-pass2021-cleaned.csv',\n",
       " 'villa-pass1920-cleaned.csv',\n",
       " 'villa-pass2021-cleaned.csv',\n",
       " 'wolves-pass1819-cleaned.csv',\n",
       " 'wolves-pass1920-cleaned.csv']"
      ]
     },
     "execution_count": 5,
     "metadata": {},
     "output_type": "execute_result"
    }
   ],
   "source": [
    "results"
   ]
  },
  {
   "cell_type": "code",
   "execution_count": 6,
   "metadata": {},
   "outputs": [],
   "source": [
    "lst = []\n",
    "for i in range(len(results)):\n",
    "    df = \"df\" + str(i)\n",
    "    df = pd.read_csv(results[i])\n",
    "    lst.append(df)"
   ]
  },
  {
   "cell_type": "code",
   "execution_count": 7,
   "metadata": {},
   "outputs": [
    {
     "data": {
      "text/plain": [
       "Index(['Player', 'Nation', 'Pos', 'Age', '90s', 'CmpTotal', 'AttemptedTotal',\n",
       "       'Cmp%Total', 'TotDist', 'ProgressiveDist', 'ShortCmp', 'ShortAttempted',\n",
       "       'ShortCmp%', 'MediumCmp', 'MediumAttempt', 'MediumCmp%', 'LongCmp',\n",
       "       'LongAttempted', 'LongCmp%', 'Assists', 'xAG', 'xA', 'A-xAG',\n",
       "       'KeyPasses', 'CompletedFinalThird', 'PassesPenaltyArea', 'CrossesPA',\n",
       "       'ProgressivePasses'],\n",
       "      dtype='object')"
      ]
     },
     "execution_count": 7,
     "metadata": {},
     "output_type": "execute_result"
    }
   ],
   "source": [
    "lst[0].columns"
   ]
  },
  {
   "cell_type": "code",
   "execution_count": 8,
   "metadata": {},
   "outputs": [
    {
     "data": {
      "text/plain": [
       "12036"
      ]
     },
     "execution_count": 8,
     "metadata": {},
     "output_type": "execute_result"
    }
   ],
   "source": [
    "lst[0].iloc[-1:]['CmpTotal'].item()"
   ]
  },
  {
   "cell_type": "code",
   "execution_count": 61,
   "metadata": {},
   "outputs": [],
   "source": [
    "import numpy as np\n",
    "matrix = []"
   ]
  },
  {
   "cell_type": "code",
   "execution_count": 62,
   "metadata": {},
   "outputs": [],
   "source": [
    "# first season only\n",
    "for i in range(0, len(lst), 2):\n",
    "    vals = []\n",
    "    ttl = lst[i].iloc[-1:]['AttemptedTotal'].item()\n",
    "    shrt = lst[i].iloc[-1:]['ShortAttempted'].item()\n",
    "    med = lst[i].iloc[-1:]['MediumAttempt'].item()\n",
    "    long = lst[i].iloc[-1:]['LongAttempted'].item()\n",
    "    vals.append(ttl)\n",
    "    vals.append(shrt)\n",
    "    vals.append(med)\n",
    "    vals.append(long)\n",
    "    matrix.append(vals)"
   ]
  },
  {
   "cell_type": "code",
   "execution_count": 63,
   "metadata": {},
   "outputs": [
    {
     "data": {
      "text/plain": [
       "[20629, 7933, 8308, 3014]"
      ]
     },
     "execution_count": 63,
     "metadata": {},
     "output_type": "execute_result"
    }
   ],
   "source": [
    "max(matrix)"
   ]
  },
  {
   "cell_type": "code",
   "execution_count": 68,
   "metadata": {},
   "outputs": [
    {
     "data": {
      "text/plain": [
       "[[16822, 6357, 6127, 3270],\n",
       " [20629, 7933, 8308, 3014],\n",
       " [15659, 6161, 5358, 3119],\n",
       " [16858, 6687, 5657, 3404],\n",
       " [15672, 5895, 5882, 3002],\n",
       " [18261, 6900, 6661, 3353]]"
      ]
     },
     "execution_count": 68,
     "metadata": {},
     "output_type": "execute_result"
    }
   ],
   "source": [
    "matrix"
   ]
  },
  {
   "cell_type": "code",
   "execution_count": 64,
   "metadata": {},
   "outputs": [
    {
     "data": {
      "image/png": "[encoded data removed]",
      "text/plain": [
       "<Figure size 432x288 with 1 Axes>"
      ]
     },
     "metadata": {},
     "output_type": "display_data"
    }
   ],
   "source": [
    "hinton(matrix)\n",
    "plt.show()"
   ]
  },
  {
   "cell_type": "code",
   "execution_count": 60,
   "metadata": {},
   "outputs": [],
   "source": [
    "matrix_s2 = []\n",
    "# second season only\n",
    "for i in range(1, len(lst), 2):\n",
    "    vals = []\n",
    "    ttl = lst[i].iloc[-1:]['AttemptedTotal'].item()\n",
    "    shrt = lst[i].iloc[-1:]['ShortAttempted'].item()\n",
    "    med = lst[i].iloc[-1:]['MediumAttempt'].item()\n",
    "    long = lst[i].iloc[-1:]['LongAttempted'].item()\n",
    "    vals.append(ttl)\n",
    "    vals.append(shrt)\n",
    "    vals.append(med)\n",
    "    vals.append(long)\n",
    "    matrix_s2.append(vals)"
   ]
  },
  {
   "cell_type": "code",
   "execution_count": 67,
   "metadata": {},
   "outputs": [
    {
     "data": {
      "text/plain": [
       "[[17777, 7200, 6029, 3398],\n",
       " [18288, 7285, 7050, 2754],\n",
       " [15231, 5773, 4863, 3269],\n",
       " [16264, 6905, 5303, 2840],\n",
       " [16996, 6654, 6209, 3074],\n",
       " [18474, 6942, 6928, 3308]]"
      ]
     },
     "execution_count": 67,
     "metadata": {},
     "output_type": "execute_result"
    }
   ],
   "source": [
    "matrix_s2"
   ]
  },
  {
   "cell_type": "code",
   "execution_count": 65,
   "metadata": {},
   "outputs": [
    {
     "data": {
      "image/png": "[encoded data removed]",
      "text/plain": [
       "<Figure size 432x288 with 1 Axes>"
      ]
     },
     "metadata": {},
     "output_type": "display_data"
    }
   ],
   "source": [
    "hinton(matrix_s2)\n",
    "plt.show()"
   ]
  },
  {
   "cell_type": "code",
   "execution_count": null,
   "metadata": {},
   "outputs": [],
   "source": []
  }
 ],
 "metadata": {
  "kernelspec": {
   "display_name": "Python 3 (ipykernel)",
   "language": "python",
   "name": "python3"
  },
  "language_info": {
   "codemirror_mode": {
    "name": "ipython",
    "version": 3
   },
   "file_extension": ".py",
   "mimetype": "text/x-python",
   "name": "python",
   "nbconvert_exporter": "python",
   "pygments_lexer": "ipython3",
   "version": "3.8.12"
  }
 },
 "nbformat": 4,
 "nbformat_minor": 1
}
