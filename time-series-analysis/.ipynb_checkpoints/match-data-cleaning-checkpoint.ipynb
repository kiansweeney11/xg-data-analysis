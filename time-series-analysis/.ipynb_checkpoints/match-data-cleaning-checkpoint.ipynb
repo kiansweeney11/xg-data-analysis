{
 "cells": [
  {
   "cell_type": "code",
   "execution_count": 1,
   "id": "204167c9",
   "metadata": {},
   "outputs": [],
   "source": [
    "import pandas as pd\n",
    "import numpy as np\n",
    "import matplotlib as plt"
   ]
  },
  {
   "cell_type": "code",
   "execution_count": 2,
   "id": "8e41d089",
   "metadata": {},
   "outputs": [
    {
     "name": "stdout",
     "output_type": "stream",
     "text": [
      "19\n"
     ]
    }
   ],
   "source": [
    "headers = [\"Date\",\"Time\",\"Comp\",\"Round\",\"Day\",\"Venue\",\"Result\",\"GF\",\"GA\",\"Opponent\",\"xG\",\"xGA\",\n",
    "           \"Poss\",\"Attendance\",\"Captain\",\"Formation\",\"Referee\",\"Match Report\",\"Notes\"]\n",
    "print(len(headers))"
   ]
  },
  {
   "cell_type": "code",
   "execution_count": 6,
   "id": "7d6bd1b5",
   "metadata": {},
   "outputs": [
    {
     "name": "stdout",
     "output_type": "stream",
     "text": [
      "['brighton17-18-games.csv', 'brighton18-19-games.csv', 'hudds17-18-games.csv', 'hudds18-19-games.csv', 'newcastle17-18-games.csv', 'newcastle18-19-games.csv', 'sheff-19-20-games.csv', 'sheff20-21-games.csv', 'villa20-21-games.csv', 'wolves18-19-games.csv', 'wolves19-20-games.csv']\n"
     ]
    }
   ],
   "source": [
    "import os\n",
    "import glob\n",
    "\n",
    "path = 'C:/Users/user/Desktop/xg-data-analysis/time-series-analysis/team-matches-uncleaned'\n",
    "extension = 'csv'\n",
    "os.chdir(path)\n",
    "result = glob.glob('*.{}'.format(extension))\n",
    "print(result)"
   ]
  },
  {
   "cell_type": "code",
   "execution_count": 7,
   "id": "1dbd8706",
   "metadata": {},
   "outputs": [],
   "source": [
    "outputdfs = ['C:/Users/user/Desktop/xg-data-analysis/time-series-analysis/match-by-match/brighton-matches-s1.csv', \n",
    "             'C:/Users/user/Desktop/xg-data-analysis/time-series-analysis/match-by-match/brighton-matches-s2.csv',\n",
    "            'C:/Users/user/Desktop/xg-data-analysis/time-series-analysis/match-by-match/hudds-matches-s1.csv', \n",
    "             'C:/Users/user/Desktop/xg-data-analysis/time-series-analysis/match-by-match/hudds-matches-s2.csv',\n",
    "            'C:/Users/user/Desktop/xg-data-analysis/time-series-analysis/match-by-match/newcastle-matches-s1.csv', \n",
    "             'C:/Users/user/Desktop/xg-data-analysis/time-series-analysis/match-by-match/newcastle-matches-s2.csv',\n",
    "            'C:/Users/user/Desktop/xg-data-analysis/time-series-analysis/match-by-match/sheffutd-matches-s1.csv', \n",
    "             'C:/Users/user/Desktop/xg-data-analysis/time-series-analysis/match-by-match/sheffutd-matches-s2.csv',\n",
    "            #'C:/Users/user/Desktop/xg-data-analysis/time-series-analysis/match-by-match/villa-matches-s1.csv', \n",
    "             'C:/Users/user/Desktop/xg-data-analysis/time-series-analysis/match-by-match/villa-matches-s2.csv',\n",
    "            'C:/Users/user/Desktop/xg-data-analysis/time-series-analysis/match-by-match/wolves-matches-s1.csv', \n",
    "             'C:/Users/user/Desktop/xg-data-analysis/time-series-analysis/match-by-match/wolves-matches-s2.csv']"
   ]
  },
  {
   "cell_type": "code",
   "execution_count": 8,
   "id": "0f840e1e",
   "metadata": {},
   "outputs": [
    {
     "name": "stdout",
     "output_type": "stream",
     "text": [
      "0\n",
      "1\n",
      "2\n",
      "3\n",
      "4\n",
      "5\n",
      "6\n",
      "7\n",
      "8\n",
      "9\n",
      "10\n"
     ]
    }
   ],
   "source": [
    "for i in range(len(result)):\n",
    "    csvfile = pd.read_csv(result[i], encoding = 'iso-8859-1')\n",
    "    temp_df = pd.DataFrame(csvfile.iloc[:, 0].str.split(',').tolist(),\n",
    "                                 columns = headers)\n",
    "    temp_df.drop(columns = ['Match Report', 'Notes'], inplace = True)\n",
    "    #print(i)\n",
    "    temp_df.to_csv(outputdfs[i], index =  False)"
   ]
  },
  {
   "cell_type": "code",
   "execution_count": null,
   "id": "5bd0ecf0",
   "metadata": {},
   "outputs": [],
   "source": []
  }
 ],
 "metadata": {
  "kernelspec": {
   "display_name": "Python 3 (ipykernel)",
   "language": "python",
   "name": "python3"
  },
  "language_info": {
   "codemirror_mode": {
    "name": "ipython",
    "version": 3
   },
   "file_extension": ".py",
   "mimetype": "text/x-python",
   "name": "python",
   "nbconvert_exporter": "python",
   "pygments_lexer": "ipython3",
   "version": "3.8.12"
  }
 },
 "nbformat": 4,
 "nbformat_minor": 5
}
