{
 "cells": [
  {
   "cell_type": "code",
   "execution_count": 1,
   "id": "204167c9",
   "metadata": {},
   "outputs": [],
   "source": [
    "import pandas as pd\n",
    "import numpy as np\n",
    "import matplotlib as plt"
   ]
  },
  {
   "cell_type": "code",
   "execution_count": 2,
   "id": "7569ddb7",
   "metadata": {},
   "outputs": [],
   "source": [
    "season1 = pd.read_csv('leeds-matches-2021.csv')"
   ]
  },
  {
   "cell_type": "code",
   "execution_count": 3,
   "id": "2922cc46",
   "metadata": {},
   "outputs": [
    {
     "data": {
      "text/html": [
       "<div>\n",
       "<style scoped>\n",
       "    .dataframe tbody tr th:only-of-type {\n",
       "        vertical-align: middle;\n",
       "    }\n",
       "\n",
       "    .dataframe tbody tr th {\n",
       "        vertical-align: top;\n",
       "    }\n",
       "\n",
       "    .dataframe thead th {\n",
       "        text-align: right;\n",
       "    }\n",
       "</style>\n",
       "<table border=\"1\" class=\"dataframe\">\n",
       "  <thead>\n",
       "    <tr style=\"text-align: right;\">\n",
       "      <th></th>\n",
       "      <th>Date,Time,Comp,Round,Day,Venue,Result,GF,GA,Opponent,xG,xGA,Poss,Attendance,Captain,Formation,Referee,Match Report,Notes</th>\n",
       "    </tr>\n",
       "  </thead>\n",
       "  <tbody>\n",
       "    <tr>\n",
       "      <th>0</th>\n",
       "      <td>2020-09-12,17:30,Premier League,Matchweek 1,Sa...</td>\n",
       "    </tr>\n",
       "    <tr>\n",
       "      <th>1</th>\n",
       "      <td>2020-09-16,19:45,EFL Cup,Second round,Wed,Home...</td>\n",
       "    </tr>\n",
       "    <tr>\n",
       "      <th>2</th>\n",
       "      <td>2020-09-19,15:00,Premier League,Matchweek 2,Sa...</td>\n",
       "    </tr>\n",
       "    <tr>\n",
       "      <th>3</th>\n",
       "      <td>2020-09-27,12:00,Premier League,Matchweek 3,Su...</td>\n",
       "    </tr>\n",
       "    <tr>\n",
       "      <th>4</th>\n",
       "      <td>2020-10-03,17:30,Premier League,Matchweek 4,Sa...</td>\n",
       "    </tr>\n",
       "  </tbody>\n",
       "</table>\n",
       "</div>"
      ],
      "text/plain": [
       "  Date,Time,Comp,Round,Day,Venue,Result,GF,GA,Opponent,xG,xGA,Poss,Attendance,Captain,Formation,Referee,Match Report,Notes\n",
       "0  2020-09-12,17:30,Premier League,Matchweek 1,Sa...                                                                      \n",
       "1  2020-09-16,19:45,EFL Cup,Second round,Wed,Home...                                                                      \n",
       "2  2020-09-19,15:00,Premier League,Matchweek 2,Sa...                                                                      \n",
       "3  2020-09-27,12:00,Premier League,Matchweek 3,Su...                                                                      \n",
       "4  2020-10-03,17:30,Premier League,Matchweek 4,Sa...                                                                      "
      ]
     },
     "execution_count": 3,
     "metadata": {},
     "output_type": "execute_result"
    }
   ],
   "source": [
    "season1.head()"
   ]
  },
  {
   "cell_type": "code",
   "execution_count": 4,
   "id": "8e41d089",
   "metadata": {},
   "outputs": [],
   "source": [
    "headers = [\"Date\",\"Time\",\"Comp\",\"Round\",\"Day\",\"Venue\",\"Result\",\"GF\",\"GA\",\"Opponent\",\"xG\",\"xGA\",\n",
    "           \"Poss\",\"Attendance\",\"Captain\",\"Formation\",\"Referee\",\"Match Report\",\"Notes\"]"
   ]
  },
  {
   "cell_type": "code",
   "execution_count": 5,
   "id": "7d6bd1b5",
   "metadata": {},
   "outputs": [],
   "source": [
    "import os\n",
    "import glob\n",
    "\n",
    "path = 'C:/Users/user/Desktop/xg-data-analysis/time-series-analysis'\n",
    "extension = 'csv'\n",
    "os.chdir(path)\n",
    "result = glob.glob('*.{}'.format(extension))"
   ]
  },
  {
   "cell_type": "code",
   "execution_count": 6,
   "id": "1dbd8706",
   "metadata": {},
   "outputs": [],
   "source": [
    "outputdfs = ['match-by-match/leeds-matches-2021.csv', 'match-by-match/leeds-matches-2122.csv']"
   ]
  },
  {
   "cell_type": "code",
   "execution_count": 7,
   "id": "0f840e1e",
   "metadata": {},
   "outputs": [],
   "source": [
    "for i in range(len(result)):\n",
    "    csvfile = pd.read_csv(result[i], encoding = 'iso-8859-1')\n",
    "    temp_df = pd.DataFrame(csvfile.iloc[:, 0].str.split(',').tolist(),\n",
    "                                 columns = headers)\n",
    "    temp_df.drop(columns = ['Match Report', 'Notes'], inplace = True)\n",
    "    temp_df.to_csv(outputdfs[i], index =  False)"
   ]
  }
 ],
 "metadata": {
  "kernelspec": {
   "display_name": "Python 3 (ipykernel)",
   "language": "python",
   "name": "python3"
  },
  "language_info": {
   "codemirror_mode": {
    "name": "ipython",
    "version": 3
   },
   "file_extension": ".py",
   "mimetype": "text/x-python",
   "name": "python",
   "nbconvert_exporter": "python",
   "pygments_lexer": "ipython3",
   "version": "3.8.12"
  }
 },
 "nbformat": 4,
 "nbformat_minor": 5
}
