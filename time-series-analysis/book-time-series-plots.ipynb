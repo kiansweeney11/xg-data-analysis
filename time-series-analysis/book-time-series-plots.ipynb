{
 "cells": [
  {
   "cell_type": "code",
   "execution_count": 6,
   "id": "d4a7bb42",
   "metadata": {},
   "outputs": [
    {
     "name": "stderr",
     "output_type": "stream",
     "text": [
      "also installing the dependencies 'cli', 'lifecycle', 'rlang', 'scales', 'vctrs'\n",
      "\n"
     ]
    },
    {
     "name": "stdout",
     "output_type": "stream",
     "text": [
      "\n",
      "  There are binary versions available but the source versions are later:\n",
      "          binary source needs_compilation\n",
      "cli        2.5.0  3.6.0              TRUE\n",
      "lifecycle  1.0.0  1.0.3             FALSE\n",
      "rlang     0.4.11  1.0.6              TRUE\n",
      "scales     1.1.1  1.2.1             FALSE\n",
      "vctrs      0.3.8  0.5.2              TRUE\n",
      "ggplot2    3.3.3  3.4.0             FALSE\n",
      "\n",
      "  Binaries will be installed\n",
      "package 'cli' successfully unpacked and MD5 sums checked\n",
      "package 'rlang' successfully unpacked and MD5 sums checked\n",
      "package 'vctrs' successfully unpacked and MD5 sums checked\n",
      "\n",
      "The downloaded binary packages are in\n",
      "\tC:\\Users\\user\\AppData\\Local\\Temp\\Rtmp2TFUFZ\\downloaded_packages\n"
     ]
    },
    {
     "name": "stderr",
     "output_type": "stream",
     "text": [
      "installing the source packages 'lifecycle', 'scales', 'ggplot2'\n",
      "\n",
      "Warning message in install.packages(\"ggplot2\", repos = \"http://cran.us.r-project.org\"):\n",
      "\"installation of package 'lifecycle' had non-zero exit status\"Warning message in install.packages(\"ggplot2\", repos = \"http://cran.us.r-project.org\"):\n",
      "\"installation of package 'scales' had non-zero exit status\"Warning message in install.packages(\"ggplot2\", repos = \"http://cran.us.r-project.org\"):\n",
      "\"installation of package 'ggplot2' had non-zero exit status\""
     ]
    },
    {
     "name": "stdout",
     "output_type": "stream",
     "text": [
      "\n",
      "  There is a binary version available but the source version is later:\n",
      "       binary source needs_compilation\n",
      "pracma  2.3.3  2.4.2             FALSE\n",
      "\n"
     ]
    },
    {
     "name": "stderr",
     "output_type": "stream",
     "text": [
      "installing the source package 'pracma'\n",
      "\n"
     ]
    },
    {
     "name": "stdout",
     "output_type": "stream",
     "text": [
      "\n",
      "  There is a binary version available but the source version is later:\n",
      "    binary source needs_compilation\n",
      "zoo  1.8-9 1.8-11              TRUE\n",
      "\n",
      "  Binaries will be installed\n",
      "package 'zoo' successfully unpacked and MD5 sums checked\n",
      "\n",
      "The downloaded binary packages are in\n",
      "\tC:\\Users\\user\\AppData\\Local\\Temp\\Rtmp2TFUFZ\\downloaded_packages\n"
     ]
    },
    {
     "name": "stderr",
     "output_type": "stream",
     "text": [
      "also installing the dependencies 'glue', 'cli', 'xfun', 'bslib', 'stringr', 'tinytex', 'lifecycle', 'rlang', 'vctrs', 'htmltools', 'knitr', 'rmarkdown', 'ggplot2', 'scales', 'htmlwidgets'\n",
      "\n"
     ]
    },
    {
     "name": "stdout",
     "output_type": "stream",
     "text": [
      "\n",
      "  There are binary versions available but the source versions are later:\n",
      "             binary source needs_compilation\n",
      "glue          1.4.2  1.6.2              TRUE\n",
      "cli           2.5.0  3.6.0              TRUE\n",
      "xfun           0.22   0.37              TRUE\n",
      "bslib         0.2.4  0.4.2             FALSE\n",
      "stringr       1.4.0  1.5.0             FALSE\n",
      "tinytex        0.31   0.44             FALSE\n",
      "lifecycle     1.0.0  1.0.3             FALSE\n",
      "rlang        0.4.11  1.0.6              TRUE\n",
      "vctrs         0.3.8  0.5.2              TRUE\n",
      "htmltools   0.5.1.1  0.5.4              TRUE\n",
      "knitr          1.33   1.42             FALSE\n",
      "rmarkdown       2.8   2.20             FALSE\n",
      "ggplot2       3.3.3  3.4.0             FALSE\n",
      "scales        1.1.1  1.2.1             FALSE\n",
      "htmlwidgets   1.5.3  1.6.1             FALSE\n",
      "plotly        4.9.3 4.10.1             FALSE\n",
      "\n",
      "  Binaries will be installed\n",
      "package 'glue' successfully unpacked and MD5 sums checked\n",
      "package 'cli' successfully unpacked and MD5 sums checked\n",
      "package 'xfun' successfully unpacked and MD5 sums checked\n",
      "package 'rlang' successfully unpacked and MD5 sums checked\n",
      "package 'vctrs' successfully unpacked and MD5 sums checked\n",
      "package 'htmltools' successfully unpacked and MD5 sums checked\n"
     ]
    },
    {
     "name": "stderr",
     "output_type": "stream",
     "text": [
      "Warning message:\n",
      "\"cannot remove prior installation of package 'htmltools'\"Warning message in file.copy(savedcopy, lib, recursive = TRUE):\n",
      "\"problem copying C:\\Users\\user\\anaconda3\\Lib\\R\\library\\00LOCK\\htmltools\\libs\\x64\\htmltools.dll to C:\\Users\\user\\anaconda3\\Lib\\R\\library\\htmltools\\libs\\x64\\htmltools.dll: Permission denied\"Warning message:\n",
      "\"restored 'htmltools'\""
     ]
    },
    {
     "name": "stdout",
     "output_type": "stream",
     "text": [
      "\n",
      "The downloaded binary packages are in\n",
      "\tC:\\Users\\user\\AppData\\Local\\Temp\\Rtmp2TFUFZ\\downloaded_packages\n"
     ]
    },
    {
     "name": "stderr",
     "output_type": "stream",
     "text": [
      "installing the source packages 'bslib', 'stringr', 'tinytex', 'lifecycle', 'knitr', 'rmarkdown', 'ggplot2', 'scales', 'htmlwidgets', 'plotly'\n",
      "\n",
      "Warning message in install.packages(\"plotly\", repos = \"http://cran.us.r-project.org\"):\n",
      "\"installation of package 'bslib' had non-zero exit status\"Warning message in install.packages(\"plotly\", repos = \"http://cran.us.r-project.org\"):\n",
      "\"installation of package 'tinytex' had non-zero exit status\"Warning message in install.packages(\"plotly\", repos = \"http://cran.us.r-project.org\"):\n",
      "\"installation of package 'lifecycle' had non-zero exit status\"Warning message in install.packages(\"plotly\", repos = \"http://cran.us.r-project.org\"):\n",
      "\"installation of package 'knitr' had non-zero exit status\"Warning message in install.packages(\"plotly\", repos = \"http://cran.us.r-project.org\"):\n",
      "\"installation of package 'stringr' had non-zero exit status\"Warning message in install.packages(\"plotly\", repos = \"http://cran.us.r-project.org\"):\n",
      "\"installation of package 'scales' had non-zero exit status\"Warning message in install.packages(\"plotly\", repos = \"http://cran.us.r-project.org\"):\n",
      "\"installation of package 'rmarkdown' had non-zero exit status\"Warning message in install.packages(\"plotly\", repos = \"http://cran.us.r-project.org\"):\n",
      "\"installation of package 'ggplot2' had non-zero exit status\"Warning message in install.packages(\"plotly\", repos = \"http://cran.us.r-project.org\"):\n",
      "\"installation of package 'htmlwidgets' had non-zero exit status\"Warning message in install.packages(\"plotly\", repos = \"http://cran.us.r-project.org\"):\n",
      "\"installation of package 'plotly' had non-zero exit status\"also installing the dependencies 'vctrs', 'rlang', 'tidyselect', 'cli', 'hms', 'lifecycle', 'vroom'\n",
      "\n"
     ]
    },
    {
     "name": "stdout",
     "output_type": "stream",
     "text": [
      "\n",
      "  There are binary versions available but the source versions are later:\n",
      "           binary source needs_compilation\n",
      "vctrs       0.3.8  0.5.2              TRUE\n",
      "rlang      0.4.11  1.0.6              TRUE\n",
      "tidyselect  1.1.1  1.2.0             FALSE\n",
      "cli         2.5.0  3.6.0              TRUE\n",
      "hms         1.0.0  1.1.2             FALSE\n",
      "lifecycle   1.0.0  1.0.3             FALSE\n",
      "vroom       1.4.0  1.6.1              TRUE\n",
      "readr       1.4.0  2.1.3              TRUE\n",
      "\n",
      "  Binaries will be installed\n",
      "package 'vctrs' successfully unpacked and MD5 sums checked\n",
      "package 'rlang' successfully unpacked and MD5 sums checked\n",
      "package 'cli' successfully unpacked and MD5 sums checked\n",
      "package 'vroom' successfully unpacked and MD5 sums checked\n",
      "package 'readr' successfully unpacked and MD5 sums checked\n",
      "\n",
      "The downloaded binary packages are in\n",
      "\tC:\\Users\\user\\AppData\\Local\\Temp\\Rtmp2TFUFZ\\downloaded_packages\n"
     ]
    },
    {
     "name": "stderr",
     "output_type": "stream",
     "text": [
      "installing the source packages 'tidyselect', 'hms', 'lifecycle'\n",
      "\n",
      "Warning message in install.packages(\"readr\", repos = \"http://cran.us.r-project.org\"):\n",
      "\"installation of package 'lifecycle' had non-zero exit status\"Warning message in install.packages(\"readr\", repos = \"http://cran.us.r-project.org\"):\n",
      "\"installation of package 'tidyselect' had non-zero exit status\"Warning message in install.packages(\"readr\", repos = \"http://cran.us.r-project.org\"):\n",
      "\"installation of package 'hms' had non-zero exit status\""
     ]
    }
   ],
   "source": [
    "## necessary libraries\n",
    "install.packages(\"ggplot2\", repos='http://cran.us.r-project.org')\n",
    "install.packages(\"pracma\", repos='http://cran.us.r-project.org')\n",
    "install.packages(\"zoo\", repos='http://cran.us.r-project.org')\n",
    "install.packages(\"plotly\", repos='http://cran.us.r-project.org')\n",
    "install.packages(\"readr\", repos='http://cran.us.r-project.org')\n",
    "\n",
    "#library(ggsoccer)\n",
    "#library(here)\n",
    "#library(tidyverse)\n",
    "#library(ggplot2)\n",
    "#library(zoo)\n",
    "#library(pracma)\n",
    "#library(RcppRoll)\n",
    "#library(lubridate)\n",
    "#library(readr)\n",
    "#library(plotly)\n",
    "#library(gridExtra)\n",
    "#library(patchwork)"
   ]
  },
  {
   "cell_type": "code",
   "execution_count": 13,
   "id": "1da277e6",
   "metadata": {},
   "outputs": [
    {
     "name": "stderr",
     "output_type": "stream",
     "text": [
      "also installing the dependencies 'rematch', 'processx', 'xfun', 'bslib', 'htmltools', 'tinytex', 'backports', 'blob', 'DBI', 'lifecycle', 'purrr', 'tidyselect', 'vctrs', 'scales', 'gargle', 'cellranger', 'ids', 'rematch2', 'timechange', 'vroom', 'callr', 'knitr', 'rmarkdown', 'selectr', 'glue', 'broom', 'cli', 'crayon', 'dbplyr', 'dplyr', 'dtplyr', 'forcats', 'ggplot2', 'googledrive', 'googlesheets4', 'haven', 'hms', 'jsonlite', 'lubridate', 'magrittr', 'modelr', 'pillar', 'readr', 'readxl', 'reprex', 'rlang', 'rstudioapi', 'rvest', 'stringr', 'tibble', 'tidyr', 'xml2'\n",
      "\n"
     ]
    },
    {
     "name": "stdout",
     "output_type": "stream",
     "text": [
      "\n",
      "  There are binary versions available but the source versions are later:\n",
      "               binary source needs_compilation\n",
      "processx        3.5.2  3.8.0              TRUE\n",
      "xfun             0.22   0.37              TRUE\n",
      "bslib           0.2.4  0.4.2             FALSE\n",
      "htmltools     0.5.1.1  0.5.4              TRUE\n",
      "tinytex          0.31   0.44             FALSE\n",
      "backports       1.2.1  1.4.1              TRUE\n",
      "blob            1.2.1  1.2.3             FALSE\n",
      "DBI             1.1.1  1.1.3             FALSE\n",
      "lifecycle       1.0.0  1.0.3             FALSE\n",
      "purrr           0.3.4  1.0.1              TRUE\n",
      "tidyselect      1.1.1  1.2.0             FALSE\n",
      "vctrs           0.3.8  0.5.2              TRUE\n",
      "scales          1.1.1  1.2.1             FALSE\n",
      "gargle          1.1.0  1.3.0             FALSE\n",
      "timechange      0.0.2  0.2.0              TRUE\n",
      "vroom           1.4.0  1.6.1              TRUE\n",
      "callr           3.7.0  3.7.3             FALSE\n",
      "knitr            1.33   1.42             FALSE\n",
      "rmarkdown         2.8   2.20             FALSE\n",
      "glue            1.4.2  1.6.2              TRUE\n",
      "broom           0.7.6  1.0.3             FALSE\n",
      "cli             2.5.0  3.6.0              TRUE\n",
      "crayon          1.4.1  1.5.2             FALSE\n",
      "dbplyr          2.1.1  2.3.0             FALSE\n",
      "dplyr           1.0.6  1.1.0              TRUE\n",
      "dtplyr          1.1.0  1.2.2             FALSE\n",
      "forcats         0.5.1  1.0.0             FALSE\n",
      "ggplot2         3.3.3  3.4.0             FALSE\n",
      "googledrive     1.0.1  2.0.0             FALSE\n",
      "googlesheets4   0.3.0  1.0.1             FALSE\n",
      "haven           2.4.1  2.5.1              TRUE\n",
      "hms             1.0.0  1.1.2             FALSE\n",
      "jsonlite        1.7.2  1.8.4              TRUE\n",
      "lubridate      1.7.10  1.9.1              TRUE\n",
      "magrittr        2.0.1  2.0.3              TRUE\n",
      "modelr          0.1.8 0.1.10             FALSE\n",
      "pillar          1.6.0  1.8.1             FALSE\n",
      "readr           1.4.0  2.1.3              TRUE\n",
      "readxl          1.3.1  1.4.1              TRUE\n",
      "reprex          2.0.0  2.0.2             FALSE\n",
      "rlang          0.4.11  1.0.6              TRUE\n",
      "rstudioapi       0.13   0.14             FALSE\n",
      "rvest           1.0.0  1.0.3             FALSE\n",
      "stringr         1.4.0  1.5.0             FALSE\n",
      "tibble          3.1.1  3.1.8              TRUE\n",
      "tidyr           1.1.3  1.3.0              TRUE\n",
      "xml2            1.3.2  1.3.3              TRUE\n",
      "tidyverse       1.3.1  1.3.2             FALSE\n",
      "\n",
      "  Binaries will be installed\n",
      "package 'rematch' successfully unpacked and MD5 sums checked\n",
      "package 'processx' successfully unpacked and MD5 sums checked\n",
      "package 'xfun' successfully unpacked and MD5 sums checked\n",
      "package 'htmltools' successfully unpacked and MD5 sums checked\n"
     ]
    },
    {
     "name": "stderr",
     "output_type": "stream",
     "text": [
      "Warning message:\n",
      "\"cannot remove prior installation of package 'htmltools'\"Warning message in file.copy(savedcopy, lib, recursive = TRUE):\n",
      "\"problem copying C:\\Users\\user\\anaconda3\\Lib\\R\\library\\00LOCK\\htmltools\\libs\\x64\\htmltools.dll to C:\\Users\\user\\anaconda3\\Lib\\R\\library\\htmltools\\libs\\x64\\htmltools.dll: Permission denied\"Warning message:\n",
      "\"restored 'htmltools'\""
     ]
    },
    {
     "name": "stdout",
     "output_type": "stream",
     "text": [
      "package 'backports' successfully unpacked and MD5 sums checked\n",
      "package 'purrr' successfully unpacked and MD5 sums checked\n",
      "package 'vctrs' successfully unpacked and MD5 sums checked\n",
      "package 'cellranger' successfully unpacked and MD5 sums checked\n",
      "package 'ids' successfully unpacked and MD5 sums checked\n",
      "package 'rematch2' successfully unpacked and MD5 sums checked\n",
      "package 'timechange' successfully unpacked and MD5 sums checked\n",
      "package 'vroom' successfully unpacked and MD5 sums checked\n",
      "package 'selectr' successfully unpacked and MD5 sums checked\n",
      "package 'glue' successfully unpacked and MD5 sums checked\n",
      "package 'cli' successfully unpacked and MD5 sums checked\n",
      "package 'dplyr' successfully unpacked and MD5 sums checked\n",
      "package 'haven' successfully unpacked and MD5 sums checked\n",
      "package 'jsonlite' successfully unpacked and MD5 sums checked\n"
     ]
    },
    {
     "name": "stderr",
     "output_type": "stream",
     "text": [
      "Warning message:\n",
      "\"cannot remove prior installation of package 'jsonlite'\"Warning message in file.copy(savedcopy, lib, recursive = TRUE):\n",
      "\"problem copying C:\\Users\\user\\anaconda3\\Lib\\R\\library\\00LOCK\\jsonlite\\libs\\x64\\jsonlite.dll to C:\\Users\\user\\anaconda3\\Lib\\R\\library\\jsonlite\\libs\\x64\\jsonlite.dll: Permission denied\"Warning message:\n",
      "\"restored 'jsonlite'\""
     ]
    },
    {
     "name": "stdout",
     "output_type": "stream",
     "text": [
      "package 'lubridate' successfully unpacked and MD5 sums checked\n",
      "package 'magrittr' successfully unpacked and MD5 sums checked\n",
      "package 'readr' successfully unpacked and MD5 sums checked\n",
      "package 'readxl' successfully unpacked and MD5 sums checked\n",
      "package 'rlang' successfully unpacked and MD5 sums checked\n",
      "package 'tibble' successfully unpacked and MD5 sums checked\n",
      "package 'tidyr' successfully unpacked and MD5 sums checked\n",
      "package 'xml2' successfully unpacked and MD5 sums checked\n",
      "\n",
      "The downloaded binary packages are in\n",
      "\tC:\\Users\\user\\AppData\\Local\\Temp\\Rtmp2TFUFZ\\downloaded_packages\n"
     ]
    },
    {
     "name": "stderr",
     "output_type": "stream",
     "text": [
      "installing the source packages 'bslib', 'tinytex', 'blob', 'DBI', 'lifecycle', 'tidyselect', 'scales', 'gargle', 'callr', 'knitr', 'rmarkdown', 'broom', 'crayon', 'dbplyr', 'dtplyr', 'forcats', 'ggplot2', 'googledrive', 'googlesheets4', 'hms', 'modelr', 'pillar', 'reprex', 'rstudioapi', 'rvest', 'stringr', 'tidyverse'\n",
      "\n",
      "Warning message in install.packages(\"tidyverse\", repos = \"http://cran.us.r-project.org\"):\n",
      "\"installation of package 'bslib' had non-zero exit status\"Warning message in install.packages(\"tidyverse\", repos = \"http://cran.us.r-project.org\"):\n",
      "\"installation of package 'tinytex' had non-zero exit status\"Warning message in install.packages(\"tidyverse\", repos = \"http://cran.us.r-project.org\"):\n",
      "\"installation of package 'lifecycle' had non-zero exit status\"Warning message in install.packages(\"tidyverse\", repos = \"http://cran.us.r-project.org\"):\n",
      "\"installation of package 'callr' had non-zero exit status\"Warning message in install.packages(\"tidyverse\", repos = \"http://cran.us.r-project.org\"):\n",
      "\"installation of package 'knitr' had non-zero exit status\"Warning message in install.packages(\"tidyverse\", repos = \"http://cran.us.r-project.org\"):\n",
      "\"installation of package 'tidyselect' had non-zero exit status\"Warning message in install.packages(\"tidyverse\", repos = \"http://cran.us.r-project.org\"):\n",
      "\"installation of package 'scales' had non-zero exit status\"Warning message in install.packages(\"tidyverse\", repos = \"http://cran.us.r-project.org\"):\n",
      "\"installation of package 'gargle' had non-zero exit status\"Warning message in install.packages(\"tidyverse\", repos = \"http://cran.us.r-project.org\"):\n",
      "\"installation of package 'forcats' had non-zero exit status\"Warning message in install.packages(\"tidyverse\", repos = \"http://cran.us.r-project.org\"):\n",
      "\"installation of package 'hms' had non-zero exit status\"Warning message in install.packages(\"tidyverse\", repos = \"http://cran.us.r-project.org\"):\n",
      "\"installation of package 'pillar' had non-zero exit status\"Warning message in install.packages(\"tidyverse\", repos = \"http://cran.us.r-project.org\"):\n",
      "\"installation of package 'rvest' had non-zero exit status\"Warning message in install.packages(\"tidyverse\", repos = \"http://cran.us.r-project.org\"):\n",
      "\"installation of package 'stringr' had non-zero exit status\"Warning message in install.packages(\"tidyverse\", repos = \"http://cran.us.r-project.org\"):\n",
      "\"installation of package 'rmarkdown' had non-zero exit status\"Warning message in install.packages(\"tidyverse\", repos = \"http://cran.us.r-project.org\"):\n",
      "\"installation of package 'broom' had non-zero exit status\"Warning message in install.packages(\"tidyverse\", repos = \"http://cran.us.r-project.org\"):\n",
      "\"installation of package 'dbplyr' had non-zero exit status\"Warning message in install.packages(\"tidyverse\", repos = \"http://cran.us.r-project.org\"):\n",
      "\"installation of package 'dtplyr' had non-zero exit status\"Warning message in install.packages(\"tidyverse\", repos = \"http://cran.us.r-project.org\"):\n",
      "\"installation of package 'ggplot2' had non-zero exit status\"Warning message in install.packages(\"tidyverse\", repos = \"http://cran.us.r-project.org\"):\n",
      "\"installation of package 'googledrive' had non-zero exit status\"Warning message in install.packages(\"tidyverse\", repos = \"http://cran.us.r-project.org\"):\n",
      "\"installation of package 'googlesheets4' had non-zero exit status\"Warning message in install.packages(\"tidyverse\", repos = \"http://cran.us.r-project.org\"):\n",
      "\"installation of package 'modelr' had non-zero exit status\"Warning message in install.packages(\"tidyverse\", repos = \"http://cran.us.r-project.org\"):\n",
      "\"installation of package 'reprex' had non-zero exit status\"Warning message in install.packages(\"tidyverse\", repos = \"http://cran.us.r-project.org\"):\n",
      "\"installation of package 'tidyverse' had non-zero exit status\""
     ]
    }
   ],
   "source": [
    "install.packages(\"tidyverse\", repos='http://cran.us.r-project.org')"
   ]
  },
  {
   "cell_type": "code",
   "execution_count": 14,
   "id": "447aaa06",
   "metadata": {},
   "outputs": [
    {
     "ename": "ERROR",
     "evalue": "Error in library(\"tidyverse\"): there is no package called 'tidyverse'\n",
     "output_type": "error",
     "traceback": [
      "Error in library(\"tidyverse\"): there is no package called 'tidyverse'\nTraceback:\n",
      "1. library(\"tidyverse\")"
     ]
    }
   ],
   "source": [
    "#library(\"ggplot2\")\n",
    "library(\"pracma\")\n",
    "library(\"zoo\")\n",
    "#library(\"plotly\")\n",
    "library(\"tidyverse\")"
   ]
  },
  {
   "cell_type": "code",
   "execution_count": null,
   "id": "f3aae852",
   "metadata": {},
   "outputs": [],
   "source": [
    "file1 <- \"wolves-matches-s1.csv\"\n",
    "dir <- \"r-data/time-series-xg/\"\n",
    "\n",
    "output_dir <- \"r-data/moving-avg/\"\n",
    "\n",
    "data = read_csv(paste0(dir,file1))\n",
    "\n",
    "file2 <- \"wolves-matches-s2.csv\"\n",
    "\n",
    "data1 = read_csv(paste0(dir,file2))\n",
    "\n",
    "data_select = data %>%\n",
    "  select(c(1,5,6,7,8,9,10))\n",
    "### s2 data\n",
    "data_select_s2 = data1 %>%\n",
    "  select(c(1,5,6,7,8,9,10))\n",
    "\n",
    "data_xg_actual_s1 = data_select %>%\n",
    "  mutate(GF_rolling_5_game_avg = movavg(GF, 5, type=\"s\"),\n",
    "         GA_rolling_5_game_avg = movavg(GA, 5, type=\"s\"),\n",
    "         xP_rolling_5_game_avg = movavg(xPLeeds, 5, type=\"s\"),\n",
    "         xPOpp_rolling_5_game_avg = movavg(xPOpp, 5, type=\"s\"),\n",
    "         xG_rolling_5_game_avg = movavg(xG, 5, type=\"s\"),\n",
    "         xGA_rolling_5_game_avg = movavg(xGA, 5, type=\"s\"))\n",
    "\n",
    "data_xg_actual_s2 = data_select_s2 %>%\n",
    "  mutate(GF_rolling_5_game_avg = movavg(GF, 5, type=\"s\"),\n",
    "         GA_rolling_5_game_avg = movavg(GA, 5, type=\"s\"),\n",
    "         xP_rolling_5_game_avg = movavg(xPLeeds, 5, type=\"s\"),\n",
    "         xPOpp_rolling_5_game_avg = movavg(xPOpp, 5, type=\"s\"),\n",
    "         xG_rolling_5_game_avg = movavg(xG, 5, type=\"s\"),\n",
    "         xGA_rolling_5_game_avg = movavg(xGA, 5, type=\"s\"))\n",
    "\n",
    "data_select = data_xg_actual_s1 %>%\n",
    "  select(c(1,8,9,10,11,12,13))\n",
    "### s2 data\n",
    "data_select_s2 = data_xg_actual_s2 %>%\n",
    "  select(c(1,8,9,10,11,12,13))\n",
    "\n",
    "### 5 game average xGA vs Actual conceded\n",
    "\n",
    "plot_against_xGA = data_xg_actual_s1 %>%\n",
    "  ggplot(aes(x = Date, GA = GA_rolling_5_game_avg, xGA = xGA_rolling_5_game_avg)) +\n",
    "  geom_line(aes(y = GA_rolling_5_game_avg, colour=\"GA\")) +\n",
    "  geom_line(aes(y = xGA_rolling_5_game_avg, colour=\"xGA\")) +\n",
    "  ggtitle(\"5 Point MA Leeds United xGA VS GA 2020/21\") +\n",
    "  ylab(\"Goals\") + \n",
    "  scale_color_manual(values = c(GA = \"blue\", xGA = \"red\"),\n",
    "                     labels = c(GA = \"Goals Against\", xGA = \"xGA\"))\n",
    "\n",
    "plt1 <- ggplotly(plot_against_xGA, tooltip = c(\"x\", \"GA\", \"xGA\"))\n",
    "\n",
    "## season 2\n",
    "\n",
    "plot_against_xGA_s2 = data_xg_actual_s2 %>%\n",
    "  ggplot(aes(x = Date, GA = GA_rolling_5_game_avg, xGA = xGA_rolling_5_game_avg)) +\n",
    "  geom_line(aes(y = GA_rolling_5_game_avg, colour=\"GA\")) +\n",
    "  geom_line(aes(y = xGA_rolling_5_game_avg, colour=\"xGA\")) +\n",
    "  ggtitle(\"5 Point MA Leeds United xGA VS GA 2021/22\") +\n",
    "  ylab(\"Goals\") + \n",
    "  scale_color_manual(values = c(GA = \"blue\", xGA = \"red\"),\n",
    "                     labels = c(GA = \"Goals Against\", xGA = \"xGA\"))\n",
    "\n",
    "plt2 <- ggplotly(plot_against_xGA_s2, tooltip = c(\"x\", \"GA\", \"xGA\"))\n",
    "\n",
    "fig <- subplot(plt1, plt2) %>% \n",
    "  layout(title = paste0(team,' S1 VS S2 xGA/GA rolling Averages Comparison'))\n",
    "fig"
   ]
  },
  {
   "cell_type": "code",
   "execution_count": null,
   "id": "e9b043d2",
   "metadata": {},
   "outputs": [],
   "source": []
  }
 ],
 "metadata": {
  "kernelspec": {
   "display_name": "R",
   "language": "R",
   "name": "ir"
  },
  "language_info": {
   "codemirror_mode": "r",
   "file_extension": ".r",
   "mimetype": "text/x-r-source",
   "name": "R",
   "pygments_lexer": "r",
   "version": "3.6.1"
  }
 },
 "nbformat": 4,
 "nbformat_minor": 5
}
