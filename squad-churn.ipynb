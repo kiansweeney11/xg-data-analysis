{
 "cells": [
  {
   "cell_type": "code",
   "execution_count": 1,
   "id": "3df40c31",
   "metadata": {},
   "outputs": [
    {
     "name": "stdout",
     "output_type": "stream",
     "text": [
      "Libraries Successfully Imported!\n"
     ]
    }
   ],
   "source": [
    "import pandas as pd\n",
    "import numpy as np\n",
    "import matplotlib.pyplot as plt\n",
    "print(\"Libraries Successfully Imported!\")"
   ]
  },
  {
   "cell_type": "code",
   "execution_count": 2,
   "id": "972c63fa",
   "metadata": {},
   "outputs": [
    {
     "name": "stdout",
     "output_type": "stream",
     "text": [
      "['brighton-miscell1718-cleaned.csv', 'brighton-miscell1819-cleaned.csv', 'huddersfield-miscell1718-cleaned.csv', 'huddersfield-miscell1819-cleaned.csv', 'leeds-miscell2021-cleaned.csv', 'leeds-miscell2122-cleaned.csv', 'newcastle-miscell1718-cleaned.csv', 'newcastle-miscell1819-cleaned.csv', 'sheffutd-miscell1920-cleaned.csv', 'sheffutd-miscell2021-cleaned.csv', 'villa-miscell1920-cleaned.csv', 'villa-miscell2021-cleaned.csv', 'wolves-miscell1819-cleaned.csv', 'wolves-miscell1920-cleaned.csv']\n",
      "14\n"
     ]
    }
   ],
   "source": [
    "import os\n",
    "import glob\n",
    "\n",
    "path = 'C:/Users/user/Desktop/xg-data-analysis/datasets/cleanedAdvanced/'\n",
    "extension = 'csv'\n",
    "os.chdir(path)\n",
    "result = glob.glob('*-miscell*-cleaned.{}'.format(extension))\n",
    "print(result)\n",
    "print(len(result))"
   ]
  },
  {
   "cell_type": "code",
   "execution_count": 3,
   "id": "952e00e3",
   "metadata": {},
   "outputs": [],
   "source": [
    "churn = []\n",
    "for index, val in enumerate(result):\n",
    "    csvfile = pd.read_csv(val, encoding = 'iso-8859-1')\n",
    "    #print(result[index])\n",
    "    #print(csvfile)\n",
    "    csvfile = csvfile.sort_values(by = ['90s'], ascending=False)\n",
    "    csvfile = csvfile[['Player']].head(15)\n",
    "    vals = csvfile['Player'].tolist()\n",
    "    churn.append(vals)"
   ]
  },
  {
   "cell_type": "code",
   "execution_count": 4,
   "id": "36ef156c",
   "metadata": {},
   "outputs": [],
   "source": [
    "diff_seasons = []\n",
    "for index in range(0, len(churn), 2):\n",
    "    l1 = churn[index]\n",
    "    l2 = churn[index + 1]\n",
    "    result = [element for element in l1 if element in l2]\n",
    "    diff_seasons.append(len(result))"
   ]
  },
  {
   "cell_type": "code",
   "execution_count": 5,
   "id": "da051973",
   "metadata": {},
   "outputs": [
    {
     "data": {
      "text/plain": [
       "[11, 10, 12, 8, 10, 9, 13]"
      ]
     },
     "execution_count": 5,
     "metadata": {},
     "output_type": "execute_result"
    }
   ],
   "source": [
    "diff_seasons"
   ]
  },
  {
   "cell_type": "code",
   "execution_count": 6,
   "id": "c8922823",
   "metadata": {},
   "outputs": [],
   "source": [
    "churn_df = pd.DataFrame()\n",
    "teams = ['Brighton', 'Huddersfield',  'Leeds United', 'Newcastle United',\n",
    "         'Sheffield United','Aston Villa', 'Wolves']\n",
    "churn_df['Club'] = teams\n",
    "churn_df['SquadChurn'] = diff_seasons"
   ]
  },
  {
   "cell_type": "code",
   "execution_count": 7,
   "id": "b29d1050",
   "metadata": {},
   "outputs": [
    {
     "data": {
      "text/html": [
       "<div>\n",
       "<style scoped>\n",
       "    .dataframe tbody tr th:only-of-type {\n",
       "        vertical-align: middle;\n",
       "    }\n",
       "\n",
       "    .dataframe tbody tr th {\n",
       "        vertical-align: top;\n",
       "    }\n",
       "\n",
       "    .dataframe thead th {\n",
       "        text-align: right;\n",
       "    }\n",
       "</style>\n",
       "<table border=\"1\" class=\"dataframe\">\n",
       "  <thead>\n",
       "    <tr style=\"text-align: right;\">\n",
       "      <th></th>\n",
       "      <th>Club</th>\n",
       "      <th>SquadChurn</th>\n",
       "    </tr>\n",
       "  </thead>\n",
       "  <tbody>\n",
       "    <tr>\n",
       "      <th>0</th>\n",
       "      <td>Brighton</td>\n",
       "      <td>11</td>\n",
       "    </tr>\n",
       "    <tr>\n",
       "      <th>1</th>\n",
       "      <td>Huddersfield</td>\n",
       "      <td>10</td>\n",
       "    </tr>\n",
       "    <tr>\n",
       "      <th>2</th>\n",
       "      <td>Leeds United</td>\n",
       "      <td>12</td>\n",
       "    </tr>\n",
       "    <tr>\n",
       "      <th>3</th>\n",
       "      <td>Newcastle United</td>\n",
       "      <td>8</td>\n",
       "    </tr>\n",
       "    <tr>\n",
       "      <th>4</th>\n",
       "      <td>Sheffield United</td>\n",
       "      <td>10</td>\n",
       "    </tr>\n",
       "    <tr>\n",
       "      <th>5</th>\n",
       "      <td>Aston Villa</td>\n",
       "      <td>9</td>\n",
       "    </tr>\n",
       "    <tr>\n",
       "      <th>6</th>\n",
       "      <td>Wolves</td>\n",
       "      <td>13</td>\n",
       "    </tr>\n",
       "  </tbody>\n",
       "</table>\n",
       "</div>"
      ],
      "text/plain": [
       "               Club  SquadChurn\n",
       "0          Brighton          11\n",
       "1      Huddersfield          10\n",
       "2      Leeds United          12\n",
       "3  Newcastle United           8\n",
       "4  Sheffield United          10\n",
       "5       Aston Villa           9\n",
       "6            Wolves          13"
      ]
     },
     "execution_count": 7,
     "metadata": {},
     "output_type": "execute_result"
    }
   ],
   "source": [
    "churn_df"
   ]
  },
  {
   "cell_type": "code",
   "execution_count": 19,
   "id": "438ccb94",
   "metadata": {},
   "outputs": [
    {
     "data": {
      "image/png": "[encoded data removed]",
      "text/plain": [
       "<Figure size 1152x648 with 1 Axes>"
      ]
     },
     "metadata": {
      "needs_background": "light"
     },
     "output_type": "display_data"
    }
   ],
   "source": [
    "# Figure Size\n",
    "fig, ax = plt.subplots(figsize = (16, 9))\n",
    " \n",
    "# Horizontal Bar Plot\n",
    "ax.barh(churn_df['Club'], churn_df['SquadChurn'])\n",
    " \n",
    "# Remove axes splines\n",
    "for s in ['top', 'bottom', 'left', 'right']:\n",
    "    ax.spines[s].set_visible(False)\n",
    " \n",
    "ax.xaxis.set_ticks_position('none')\n",
    "ax.yaxis.set_ticks_position('none')\n",
    " \n",
    "# Add padding between axes and labels\n",
    "ax.xaxis.set_tick_params(pad = 5)\n",
    "ax.yaxis.set_tick_params(pad = 10)\n",
    " \n",
    "# Add x, y gridlines\n",
    "ax.grid(b = True, color ='grey',\n",
    "        linestyle ='-.', linewidth = 0.5,\n",
    "        alpha = 0.2)\n",
    " \n",
    "# Show top values\n",
    "ax.invert_yaxis()\n",
    "\n",
    "for color, bar in zip(['dodgerblue','aqua','gold', 'black', 'red', 'hotpink', 'darkorange'], ax.patches):\n",
    "    bar.set_color(color)\n",
    " \n",
    "# Add annotation to bars\n",
    "for i in ax.patches:\n",
    "    plt.text(i.get_width()+0.2, i.get_y()+0.5,\n",
    "             str(round((i.get_width()), 2)),\n",
    "             fontsize = 10, fontweight ='bold',\n",
    "             color ='grey')\n",
    " \n",
    "ax.set_title('Number of Common Players in Top 15 minutes played across Season One & Two Per Club',\n",
    "             loc ='center', )\n",
    " \n",
    "# Add Text watermark\n",
    "fig.text(0.9, 0.15, '@kiansweeney11', fontsize = 10,\n",
    "         color ='grey', ha ='right', va ='bottom',\n",
    "         alpha = 0.7)\n",
    " \n",
    "# Show Plot\n",
    "path = 'C:/Users/user/Desktop/xg-data-analysis/images'\n",
    "os.chdir(path)\n",
    "plt.savefig(\"churn.png\")\n",
    "plt.show()"
   ]
  }
 ],
 "metadata": {
  "kernelspec": {
   "display_name": "Python 3 (ipykernel)",
   "language": "python",
   "name": "python3"
  },
  "language_info": {
   "codemirror_mode": {
    "name": "ipython",
    "version": 3
   },
   "file_extension": ".py",
   "mimetype": "text/x-python",
   "name": "python",
   "nbconvert_exporter": "python",
   "pygments_lexer": "ipython3",
   "version": "3.8.12"
  }
 },
 "nbformat": 4,
 "nbformat_minor": 5
}
